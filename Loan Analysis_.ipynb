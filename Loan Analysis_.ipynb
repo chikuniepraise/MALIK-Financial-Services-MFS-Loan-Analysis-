{
 "cells": [
  {
   "cell_type": "code",
   "execution_count": 61,
   "id": "f0c41fc8-eb5f-4e71-8cb6-1e31ea9ee2a4",
   "metadata": {},
   "outputs": [
    {
     "name": "stdout",
     "output_type": "stream",
     "text": [
      "Requirement already satisfied: pdfplumber in c:\\users\\user\\anaconda3\\lib\\site-packages (0.11.5)\n",
      "Requirement already satisfied: pandas in c:\\users\\user\\anaconda3\\lib\\site-packages (2.1.4)\n",
      "Requirement already satisfied: pdfminer.six==20231228 in c:\\users\\user\\anaconda3\\lib\\site-packages (from pdfplumber) (20231228)\n",
      "Requirement already satisfied: Pillow>=9.1 in c:\\users\\user\\anaconda3\\lib\\site-packages (from pdfplumber) (10.2.0)\n",
      "Requirement already satisfied: pypdfium2>=4.18.0 in c:\\users\\user\\anaconda3\\lib\\site-packages (from pdfplumber) (4.30.1)\n",
      "Requirement already satisfied: charset-normalizer>=2.0.0 in c:\\users\\user\\anaconda3\\lib\\site-packages (from pdfminer.six==20231228->pdfplumber) (3.3.2)\n",
      "Requirement already satisfied: cryptography>=36.0.0 in c:\\users\\user\\anaconda3\\lib\\site-packages (from pdfminer.six==20231228->pdfplumber) (42.0.2)\n",
      "Requirement already satisfied: numpy<2,>=1.23.2 in c:\\users\\user\\anaconda3\\lib\\site-packages (from pandas) (1.26.4)\n",
      "Requirement already satisfied: python-dateutil>=2.8.2 in c:\\users\\user\\anaconda3\\lib\\site-packages (from pandas) (2.8.2)\n",
      "Requirement already satisfied: pytz>=2020.1 in c:\\users\\user\\anaconda3\\lib\\site-packages (from pandas) (2023.3.post1)\n",
      "Requirement already satisfied: tzdata>=2022.1 in c:\\users\\user\\anaconda3\\lib\\site-packages (from pandas) (2023.3)\n",
      "Requirement already satisfied: six>=1.5 in c:\\users\\user\\anaconda3\\lib\\site-packages (from python-dateutil>=2.8.2->pandas) (1.16.0)\n",
      "Requirement already satisfied: cffi>=1.12 in c:\\users\\user\\anaconda3\\lib\\site-packages (from cryptography>=36.0.0->pdfminer.six==20231228->pdfplumber) (1.16.0)\n",
      "Requirement already satisfied: pycparser in c:\\users\\user\\anaconda3\\lib\\site-packages (from cffi>=1.12->cryptography>=36.0.0->pdfminer.six==20231228->pdfplumber) (2.21)\n"
     ]
    },
    {
     "name": "stderr",
     "output_type": "stream",
     "text": [
      "\n",
      "[notice] A new release of pip is available: 24.2 -> 25.0.1\n",
      "[notice] To update, run: python.exe -m pip install --upgrade pip\n"
     ]
    }
   ],
   "source": [
    "!pip install pdfplumber pandas"
   ]
  },
  {
   "cell_type": "code",
   "execution_count": 62,
   "id": "f5baf3d0-5fd4-46be-be9f-4a1ce562d122",
   "metadata": {},
   "outputs": [
    {
     "name": "stdout",
     "output_type": "stream",
     "text": [
      "Requirement already satisfied: xgboost in c:\\users\\user\\anaconda3\\lib\\site-packages (2.1.4)\n",
      "Requirement already satisfied: numpy in c:\\users\\user\\anaconda3\\lib\\site-packages (from xgboost) (1.26.4)\n",
      "Requirement already satisfied: scipy in c:\\users\\user\\anaconda3\\lib\\site-packages (from xgboost) (1.11.4)\n"
     ]
    },
    {
     "name": "stderr",
     "output_type": "stream",
     "text": [
      "\n",
      "[notice] A new release of pip is available: 24.2 -> 25.0.1\n",
      "[notice] To update, run: python.exe -m pip install --upgrade pip\n"
     ]
    }
   ],
   "source": [
    "!pip install xgboost"
   ]
  },
  {
   "cell_type": "markdown",
   "id": "4f874ff3-7161-481f-b9ad-31271c7e4a56",
   "metadata": {},
   "source": [
    "# Importing Libraries"
   ]
  },
  {
   "cell_type": "code",
   "execution_count": 76,
   "id": "e2178287-4e1d-4aae-8a79-02f66dcef48b",
   "metadata": {},
   "outputs": [],
   "source": [
    "import pdfplumber\n",
    "import pandas as pd\n",
    "import matplotlib.pyplot as plt\n",
    "import seaborn as sns\n",
    "from sklearn.preprocessing import LabelEncoder, StandardScaler\n",
    "from sklearn.model_selection import train_test_split\n",
    "from sklearn.ensemble import RandomForestClassifier\n",
    "from sklearn.metrics import accuracy_score, classification_report, confusion_matrix\n",
    "import warnings\n",
    "warnings.simplefilter(action='ignore', category=FutureWarning)\n",
    "import plotly.express as px\n",
    "from sklearn.linear_model import LogisticRegression\n",
    "from xgboost import XGBClassifier\n"
   ]
  },
  {
   "cell_type": "markdown",
   "id": "84c47e7f-c20b-4ec1-a2d7-03d408b5da3e",
   "metadata": {},
   "source": [
    "# Importing the datasets"
   ]
  },
  {
   "cell_type": "code",
   "execution_count": 124,
   "id": "c3a026da-354d-4eb7-9841-f77a5b5c32db",
   "metadata": {},
   "outputs": [],
   "source": [
    "pdf_file_path = 'C:/Users/user/Downloads/MALIK_Loans_Database_Table.pdf'\n",
    "\n",
    "with pdfplumber.open(pdf_file_path) as pdf:\n",
    "    table_data = []\n",
    "    for page in pdf.pages:\n",
    "        tables = page.extract_tables()\n",
    "\n",
    "        if tables:\n",
    "            for table in tables:\n",
    "                table_data.extend(table)\n",
    "\n",
    "# Converting the table data into a DataFrame\n",
    "pdf_df = pd.DataFrame(table_data[1:], columns=table_data[0])"
   ]
  },
  {
   "cell_type": "code",
   "execution_count": 125,
   "id": "fb424eb2-0c30-4030-b652-d71795def451",
   "metadata": {},
   "outputs": [
    {
     "data": {
      "text/html": [
       "<div>\n",
       "<style scoped>\n",
       "    .dataframe tbody tr th:only-of-type {\n",
       "        vertical-align: middle;\n",
       "    }\n",
       "\n",
       "    .dataframe tbody tr th {\n",
       "        vertical-align: top;\n",
       "    }\n",
       "\n",
       "    .dataframe thead th {\n",
       "        text-align: right;\n",
       "    }\n",
       "</style>\n",
       "<table border=\"1\" class=\"dataframe\">\n",
       "  <thead>\n",
       "    <tr style=\"text-align: right;\">\n",
       "      <th></th>\n",
       "      <th>Loan_ID</th>\n",
       "      <th>Gender</th>\n",
       "      <th>Married</th>\n",
       "      <th>Dependents</th>\n",
       "      <th>Graduate</th>\n",
       "      <th>Self_Employed</th>\n",
       "      <th>ApplicantIncome</th>\n",
       "      <th>CoapplicantIncome</th>\n",
       "      <th>LoanAmount</th>\n",
       "      <th>Loan_Amount_Term</th>\n",
       "      <th>Credit_History</th>\n",
       "      <th>Property_Area</th>\n",
       "      <th>Loan_Status</th>\n",
       "    </tr>\n",
       "  </thead>\n",
       "  <tbody>\n",
       "    <tr>\n",
       "      <th>0</th>\n",
       "      <td>1002</td>\n",
       "      <td>1</td>\n",
       "      <td>0</td>\n",
       "      <td>0</td>\n",
       "      <td>1</td>\n",
       "      <td>0</td>\n",
       "      <td>5849</td>\n",
       "      <td>0</td>\n",
       "      <td>128</td>\n",
       "      <td>360</td>\n",
       "      <td>1</td>\n",
       "      <td>1</td>\n",
       "      <td>Y</td>\n",
       "    </tr>\n",
       "    <tr>\n",
       "      <th>1</th>\n",
       "      <td>1003</td>\n",
       "      <td>1</td>\n",
       "      <td>1</td>\n",
       "      <td>1</td>\n",
       "      <td>1</td>\n",
       "      <td>0</td>\n",
       "      <td>4583</td>\n",
       "      <td>1508</td>\n",
       "      <td>128</td>\n",
       "      <td>360</td>\n",
       "      <td>1</td>\n",
       "      <td>3</td>\n",
       "      <td>N</td>\n",
       "    </tr>\n",
       "    <tr>\n",
       "      <th>2</th>\n",
       "      <td>1005</td>\n",
       "      <td>1</td>\n",
       "      <td>1</td>\n",
       "      <td>0</td>\n",
       "      <td>1</td>\n",
       "      <td>1</td>\n",
       "      <td>3000</td>\n",
       "      <td>0</td>\n",
       "      <td>66</td>\n",
       "      <td>360</td>\n",
       "      <td>1</td>\n",
       "      <td>1</td>\n",
       "      <td>Y</td>\n",
       "    </tr>\n",
       "    <tr>\n",
       "      <th>3</th>\n",
       "      <td>1006</td>\n",
       "      <td>1</td>\n",
       "      <td>1</td>\n",
       "      <td>0</td>\n",
       "      <td>0</td>\n",
       "      <td>0</td>\n",
       "      <td>2583</td>\n",
       "      <td>2358</td>\n",
       "      <td>120</td>\n",
       "      <td>360</td>\n",
       "      <td>1</td>\n",
       "      <td>1</td>\n",
       "      <td>Y</td>\n",
       "    </tr>\n",
       "    <tr>\n",
       "      <th>4</th>\n",
       "      <td>1008</td>\n",
       "      <td>1</td>\n",
       "      <td>0</td>\n",
       "      <td>0</td>\n",
       "      <td>1</td>\n",
       "      <td>0</td>\n",
       "      <td>6000</td>\n",
       "      <td>0</td>\n",
       "      <td>141</td>\n",
       "      <td>360</td>\n",
       "      <td>1</td>\n",
       "      <td>1</td>\n",
       "      <td>Y</td>\n",
       "    </tr>\n",
       "  </tbody>\n",
       "</table>\n",
       "</div>"
      ],
      "text/plain": [
       "  Loan_ID Gender Married Dependents Graduate Self_Employed ApplicantIncome  \\\n",
       "0    1002      1       0          0        1             0            5849   \n",
       "1    1003      1       1          1        1             0            4583   \n",
       "2    1005      1       1          0        1             1            3000   \n",
       "3    1006      1       1          0        0             0            2583   \n",
       "4    1008      1       0          0        1             0            6000   \n",
       "\n",
       "  CoapplicantIncome LoanAmount Loan_Amount_Term Credit_History Property_Area  \\\n",
       "0                 0        128              360              1             1   \n",
       "1              1508        128              360              1             3   \n",
       "2                 0         66              360              1             1   \n",
       "3              2358        120              360              1             1   \n",
       "4                 0        141              360              1             1   \n",
       "\n",
       "  Loan_Status  \n",
       "0           Y  \n",
       "1           N  \n",
       "2           Y  \n",
       "3           Y  \n",
       "4           Y  "
      ]
     },
     "execution_count": 125,
     "metadata": {},
     "output_type": "execute_result"
    }
   ],
   "source": [
    "pdf_df.head()"
   ]
  },
  {
   "cell_type": "code",
   "execution_count": 126,
   "id": "8a4ec2f8-e226-4766-ab1f-7b9f3e647ed3",
   "metadata": {},
   "outputs": [
    {
     "data": {
      "text/html": [
       "<div>\n",
       "<style scoped>\n",
       "    .dataframe tbody tr th:only-of-type {\n",
       "        vertical-align: middle;\n",
       "    }\n",
       "\n",
       "    .dataframe tbody tr th {\n",
       "        vertical-align: top;\n",
       "    }\n",
       "\n",
       "    .dataframe thead th {\n",
       "        text-align: right;\n",
       "    }\n",
       "</style>\n",
       "<table border=\"1\" class=\"dataframe\">\n",
       "  <thead>\n",
       "    <tr style=\"text-align: right;\">\n",
       "      <th></th>\n",
       "      <th>Loan_ID</th>\n",
       "      <th>Gender</th>\n",
       "      <th>Married</th>\n",
       "      <th>Dependents</th>\n",
       "      <th>Graduate</th>\n",
       "      <th>Self_Employed</th>\n",
       "      <th>ApplicantIncome</th>\n",
       "      <th>CoapplicantIncome</th>\n",
       "      <th>LoanAmount</th>\n",
       "      <th>Loan_Amount_Term</th>\n",
       "      <th>Credit_History</th>\n",
       "      <th>Property_Area</th>\n",
       "      <th>Loan_Status</th>\n",
       "    </tr>\n",
       "  </thead>\n",
       "  <tbody>\n",
       "    <tr>\n",
       "      <th>0</th>\n",
       "      <td>1002</td>\n",
       "      <td>1</td>\n",
       "      <td>0</td>\n",
       "      <td>0</td>\n",
       "      <td>1</td>\n",
       "      <td>0</td>\n",
       "      <td>5849</td>\n",
       "      <td>0</td>\n",
       "      <td>128</td>\n",
       "      <td>360</td>\n",
       "      <td>1</td>\n",
       "      <td>1</td>\n",
       "      <td>Y</td>\n",
       "    </tr>\n",
       "    <tr>\n",
       "      <th>1</th>\n",
       "      <td>1003</td>\n",
       "      <td>1</td>\n",
       "      <td>1</td>\n",
       "      <td>1</td>\n",
       "      <td>1</td>\n",
       "      <td>0</td>\n",
       "      <td>4583</td>\n",
       "      <td>1508</td>\n",
       "      <td>128</td>\n",
       "      <td>360</td>\n",
       "      <td>1</td>\n",
       "      <td>3</td>\n",
       "      <td>N</td>\n",
       "    </tr>\n",
       "    <tr>\n",
       "      <th>2</th>\n",
       "      <td>1005</td>\n",
       "      <td>1</td>\n",
       "      <td>1</td>\n",
       "      <td>0</td>\n",
       "      <td>1</td>\n",
       "      <td>1</td>\n",
       "      <td>3000</td>\n",
       "      <td>0</td>\n",
       "      <td>66</td>\n",
       "      <td>360</td>\n",
       "      <td>1</td>\n",
       "      <td>1</td>\n",
       "      <td>Y</td>\n",
       "    </tr>\n",
       "    <tr>\n",
       "      <th>3</th>\n",
       "      <td>1006</td>\n",
       "      <td>1</td>\n",
       "      <td>1</td>\n",
       "      <td>0</td>\n",
       "      <td>0</td>\n",
       "      <td>0</td>\n",
       "      <td>2583</td>\n",
       "      <td>2358</td>\n",
       "      <td>120</td>\n",
       "      <td>360</td>\n",
       "      <td>1</td>\n",
       "      <td>1</td>\n",
       "      <td>Y</td>\n",
       "    </tr>\n",
       "    <tr>\n",
       "      <th>4</th>\n",
       "      <td>1008</td>\n",
       "      <td>1</td>\n",
       "      <td>0</td>\n",
       "      <td>0</td>\n",
       "      <td>1</td>\n",
       "      <td>0</td>\n",
       "      <td>6000</td>\n",
       "      <td>0</td>\n",
       "      <td>141</td>\n",
       "      <td>360</td>\n",
       "      <td>1</td>\n",
       "      <td>1</td>\n",
       "      <td>Y</td>\n",
       "    </tr>\n",
       "    <tr>\n",
       "      <th>5</th>\n",
       "      <td>1011</td>\n",
       "      <td>1</td>\n",
       "      <td>1</td>\n",
       "      <td>2</td>\n",
       "      <td>1</td>\n",
       "      <td>1</td>\n",
       "      <td>5417</td>\n",
       "      <td>4196</td>\n",
       "      <td>267</td>\n",
       "      <td>360</td>\n",
       "      <td>1</td>\n",
       "      <td>1</td>\n",
       "      <td>Y</td>\n",
       "    </tr>\n",
       "    <tr>\n",
       "      <th>6</th>\n",
       "      <td>1013</td>\n",
       "      <td>1</td>\n",
       "      <td>1</td>\n",
       "      <td>0</td>\n",
       "      <td>0</td>\n",
       "      <td>0</td>\n",
       "      <td>2333</td>\n",
       "      <td>1516</td>\n",
       "      <td>95</td>\n",
       "      <td>360</td>\n",
       "      <td>1</td>\n",
       "      <td>1</td>\n",
       "      <td>Y</td>\n",
       "    </tr>\n",
       "    <tr>\n",
       "      <th>7</th>\n",
       "      <td>1014</td>\n",
       "      <td>1</td>\n",
       "      <td>1</td>\n",
       "      <td>3</td>\n",
       "      <td>1</td>\n",
       "      <td>0</td>\n",
       "      <td>3036</td>\n",
       "      <td>2504</td>\n",
       "      <td>158</td>\n",
       "      <td>360</td>\n",
       "      <td>0</td>\n",
       "      <td>2</td>\n",
       "      <td>N</td>\n",
       "    </tr>\n",
       "    <tr>\n",
       "      <th>8</th>\n",
       "      <td>1018</td>\n",
       "      <td>1</td>\n",
       "      <td>1</td>\n",
       "      <td>2</td>\n",
       "      <td>1</td>\n",
       "      <td>0</td>\n",
       "      <td>4006</td>\n",
       "      <td>1526</td>\n",
       "      <td>168</td>\n",
       "      <td>360</td>\n",
       "      <td>1</td>\n",
       "      <td>1</td>\n",
       "      <td>Y</td>\n",
       "    </tr>\n",
       "    <tr>\n",
       "      <th>9</th>\n",
       "      <td>1020</td>\n",
       "      <td>1</td>\n",
       "      <td>1</td>\n",
       "      <td>1</td>\n",
       "      <td>1</td>\n",
       "      <td>0</td>\n",
       "      <td>12841</td>\n",
       "      <td>10968</td>\n",
       "      <td>349</td>\n",
       "      <td>360</td>\n",
       "      <td>1</td>\n",
       "      <td>2</td>\n",
       "      <td>N</td>\n",
       "    </tr>\n",
       "  </tbody>\n",
       "</table>\n",
       "</div>"
      ],
      "text/plain": [
       "  Loan_ID Gender Married Dependents Graduate Self_Employed ApplicantIncome  \\\n",
       "0    1002      1       0          0        1             0            5849   \n",
       "1    1003      1       1          1        1             0            4583   \n",
       "2    1005      1       1          0        1             1            3000   \n",
       "3    1006      1       1          0        0             0            2583   \n",
       "4    1008      1       0          0        1             0            6000   \n",
       "5    1011      1       1          2        1             1            5417   \n",
       "6    1013      1       1          0        0             0            2333   \n",
       "7    1014      1       1          3        1             0            3036   \n",
       "8    1018      1       1          2        1             0            4006   \n",
       "9    1020      1       1          1        1             0           12841   \n",
       "\n",
       "  CoapplicantIncome LoanAmount Loan_Amount_Term Credit_History Property_Area  \\\n",
       "0                 0        128              360              1             1   \n",
       "1              1508        128              360              1             3   \n",
       "2                 0         66              360              1             1   \n",
       "3              2358        120              360              1             1   \n",
       "4                 0        141              360              1             1   \n",
       "5              4196        267              360              1             1   \n",
       "6              1516         95              360              1             1   \n",
       "7              2504        158              360              0             2   \n",
       "8              1526        168              360              1             1   \n",
       "9             10968        349              360              1             2   \n",
       "\n",
       "  Loan_Status  \n",
       "0           Y  \n",
       "1           N  \n",
       "2           Y  \n",
       "3           Y  \n",
       "4           Y  \n",
       "5           Y  \n",
       "6           Y  \n",
       "7           N  \n",
       "8           Y  \n",
       "9           N  "
      ]
     },
     "execution_count": 126,
     "metadata": {},
     "output_type": "execute_result"
    }
   ],
   "source": [
    "pdf_df.head(10)"
   ]
  },
  {
   "cell_type": "markdown",
   "id": "12631424-5661-4b42-bcbf-588a642a4417",
   "metadata": {},
   "source": [
    "#### How many rows and columns does the pdf database have?"
   ]
  },
  {
   "cell_type": "code",
   "execution_count": 127,
   "id": "34aa722e-ff23-466b-9599-378bdf221688",
   "metadata": {},
   "outputs": [
    {
     "name": "stdout",
     "output_type": "stream",
     "text": [
      "Number of rows: 398\n",
      "Number of columns: 13\n"
     ]
    }
   ],
   "source": [
    "num_rows, num_columns = pdf_df.shape\n",
    "print(f\"Number of rows: {num_rows}\")\n",
    "print(f\"Number of columns: {num_columns}\")"
   ]
  },
  {
   "cell_type": "markdown",
   "id": "a3be1716-3f06-4dd0-b967-526e41da5cda",
   "metadata": {},
   "source": [
    "#### Loading the Excel file"
   ]
  },
  {
   "cell_type": "code",
   "execution_count": 128,
   "id": "2151cb9d-59ec-4cdb-a400-3960c824ae32",
   "metadata": {},
   "outputs": [
    {
     "data": {
      "text/html": [
       "<div>\n",
       "<style scoped>\n",
       "    .dataframe tbody tr th:only-of-type {\n",
       "        vertical-align: middle;\n",
       "    }\n",
       "\n",
       "    .dataframe tbody tr th {\n",
       "        vertical-align: top;\n",
       "    }\n",
       "\n",
       "    .dataframe thead th {\n",
       "        text-align: right;\n",
       "    }\n",
       "</style>\n",
       "<table border=\"1\" class=\"dataframe\">\n",
       "  <thead>\n",
       "    <tr style=\"text-align: right;\">\n",
       "      <th></th>\n",
       "      <th>Loan_ID</th>\n",
       "      <th>Gender</th>\n",
       "      <th>Married</th>\n",
       "      <th>Dependents</th>\n",
       "      <th>Graduate</th>\n",
       "      <th>Self_Employed</th>\n",
       "      <th>ApplicantIncome</th>\n",
       "      <th>CoapplicantIncome</th>\n",
       "      <th>LoanAmount</th>\n",
       "      <th>Loan_Amount_Term</th>\n",
       "      <th>Credit_History</th>\n",
       "      <th>Property_Area</th>\n",
       "      <th>Loan_Status</th>\n",
       "    </tr>\n",
       "  </thead>\n",
       "  <tbody>\n",
       "    <tr>\n",
       "      <th>0</th>\n",
       "      <td>2284</td>\n",
       "      <td>1</td>\n",
       "      <td>0</td>\n",
       "      <td>0</td>\n",
       "      <td>0</td>\n",
       "      <td>0</td>\n",
       "      <td>3902</td>\n",
       "      <td>1666.0</td>\n",
       "      <td>109</td>\n",
       "      <td>333</td>\n",
       "      <td>1</td>\n",
       "      <td>3</td>\n",
       "      <td>Y</td>\n",
       "    </tr>\n",
       "    <tr>\n",
       "      <th>1</th>\n",
       "      <td>2284</td>\n",
       "      <td>1</td>\n",
       "      <td>0</td>\n",
       "      <td>0</td>\n",
       "      <td>0</td>\n",
       "      <td>0</td>\n",
       "      <td>3902</td>\n",
       "      <td>1666.0</td>\n",
       "      <td>109</td>\n",
       "      <td>333</td>\n",
       "      <td>1</td>\n",
       "      <td>3</td>\n",
       "      <td>Y</td>\n",
       "    </tr>\n",
       "    <tr>\n",
       "      <th>2</th>\n",
       "      <td>2287</td>\n",
       "      <td>2</td>\n",
       "      <td>0</td>\n",
       "      <td>0</td>\n",
       "      <td>1</td>\n",
       "      <td>0</td>\n",
       "      <td>1500</td>\n",
       "      <td>1800.0</td>\n",
       "      <td>103</td>\n",
       "      <td>333</td>\n",
       "      <td>0</td>\n",
       "      <td>2</td>\n",
       "      <td>N</td>\n",
       "    </tr>\n",
       "    <tr>\n",
       "      <th>3</th>\n",
       "      <td>2288</td>\n",
       "      <td>1</td>\n",
       "      <td>1</td>\n",
       "      <td>2</td>\n",
       "      <td>0</td>\n",
       "      <td>0</td>\n",
       "      <td>2889</td>\n",
       "      <td>0.0</td>\n",
       "      <td>45</td>\n",
       "      <td>180</td>\n",
       "      <td>0</td>\n",
       "      <td>1</td>\n",
       "      <td>N</td>\n",
       "    </tr>\n",
       "    <tr>\n",
       "      <th>4</th>\n",
       "      <td>2296</td>\n",
       "      <td>1</td>\n",
       "      <td>0</td>\n",
       "      <td>0</td>\n",
       "      <td>0</td>\n",
       "      <td>0</td>\n",
       "      <td>2755</td>\n",
       "      <td>0.0</td>\n",
       "      <td>65</td>\n",
       "      <td>300</td>\n",
       "      <td>1</td>\n",
       "      <td>3</td>\n",
       "      <td>N</td>\n",
       "    </tr>\n",
       "  </tbody>\n",
       "</table>\n",
       "</div>"
      ],
      "text/plain": [
       "   Loan_ID  Gender  Married  Dependents  Graduate  Self_Employed  \\\n",
       "0     2284       1        0           0         0              0   \n",
       "1     2284       1        0           0         0              0   \n",
       "2     2287       2        0           0         1              0   \n",
       "3     2288       1        1           2         0              0   \n",
       "4     2296       1        0           0         0              0   \n",
       "\n",
       "   ApplicantIncome  CoapplicantIncome  LoanAmount  Loan_Amount_Term  \\\n",
       "0             3902             1666.0         109               333   \n",
       "1             3902             1666.0         109               333   \n",
       "2             1500             1800.0         103               333   \n",
       "3             2889                0.0          45               180   \n",
       "4             2755                0.0          65               300   \n",
       "\n",
       "   Credit_History  Property_Area Loan_Status  \n",
       "0               1              3           Y  \n",
       "1               1              3           Y  \n",
       "2               0              2           N  \n",
       "3               0              1           N  \n",
       "4               1              3           N  "
      ]
     },
     "execution_count": 128,
     "metadata": {},
     "output_type": "execute_result"
    }
   ],
   "source": [
    "excel_file_path = 'C:/Users/user/Downloads/MALIK Loan Data.xlsx'\n",
    "excel_df = pd.read_excel(excel_file_path)\n",
    "\n",
    "\n",
    "excel_df.head()"
   ]
  },
  {
   "cell_type": "markdown",
   "id": "5073f218-cae0-4c1c-b1d1-4533e0a010e4",
   "metadata": {},
   "source": [
    "##### How many rows and columns are in the excel dataset?"
   ]
  },
  {
   "cell_type": "code",
   "execution_count": 129,
   "id": "a6c6e5a2-e2e5-4b3e-b4c0-6142090ba814",
   "metadata": {},
   "outputs": [
    {
     "name": "stdout",
     "output_type": "stream",
     "text": [
      "rows: 249\n",
      "columns: 13\n"
     ]
    }
   ],
   "source": [
    "num_rows, num_columns = excel_df.shape\n",
    "\n",
    "print(f\"rows: {num_rows}\")\n",
    "print(f\"columns: {num_columns}\")"
   ]
  },
  {
   "cell_type": "markdown",
   "id": "55e460c0-546b-44fc-96ac-2ec2238393c1",
   "metadata": {},
   "source": [
    "##### Ensuring both datasets have the same column names"
   ]
  },
  {
   "cell_type": "code",
   "execution_count": 130,
   "id": "74959dba-9825-4531-b981-3eb1962d380d",
   "metadata": {},
   "outputs": [
    {
     "data": {
      "text/plain": [
       "['Loan_ID',\n",
       " 'Gender',\n",
       " 'Married',\n",
       " 'Dependents',\n",
       " 'Graduate',\n",
       " 'Self_Employed',\n",
       " 'ApplicantIncome',\n",
       " 'CoapplicantIncome',\n",
       " 'LoanAmount',\n",
       " 'Loan_Amount_Term',\n",
       " 'Credit_History',\n",
       " 'Property_Area',\n",
       " 'Loan_Status']"
      ]
     },
     "execution_count": 130,
     "metadata": {},
     "output_type": "execute_result"
    }
   ],
   "source": [
    "pdf_df.columns.tolist()\n"
   ]
  },
  {
   "cell_type": "code",
   "execution_count": 131,
   "id": "a987ded4-0a3c-4129-a1ff-c2e7289a5723",
   "metadata": {},
   "outputs": [
    {
     "data": {
      "text/plain": [
       "['Loan_ID',\n",
       " 'Gender',\n",
       " 'Married',\n",
       " 'Dependents',\n",
       " 'Graduate',\n",
       " 'Self_Employed',\n",
       " 'ApplicantIncome',\n",
       " 'CoapplicantIncome',\n",
       " 'LoanAmount',\n",
       " 'Loan_Amount_Term',\n",
       " 'Credit_History',\n",
       " 'Property_Area',\n",
       " 'Loan_Status']"
      ]
     },
     "execution_count": 131,
     "metadata": {},
     "output_type": "execute_result"
    }
   ],
   "source": [
    "excel_df.columns.tolist()\n"
   ]
  },
  {
   "cell_type": "markdown",
   "id": "23d75c88-b6f6-41c5-8cd2-cfcd8c19b20a",
   "metadata": {},
   "source": [
    "##### Let's combine both datasets"
   ]
  },
  {
   "cell_type": "code",
   "execution_count": 132,
   "id": "f21bec29-2349-499f-9f6e-65debfe4b029",
   "metadata": {
    "scrolled": true
   },
   "outputs": [
    {
     "data": {
      "text/html": [
       "<div>\n",
       "<style scoped>\n",
       "    .dataframe tbody tr th:only-of-type {\n",
       "        vertical-align: middle;\n",
       "    }\n",
       "\n",
       "    .dataframe tbody tr th {\n",
       "        vertical-align: top;\n",
       "    }\n",
       "\n",
       "    .dataframe thead th {\n",
       "        text-align: right;\n",
       "    }\n",
       "</style>\n",
       "<table border=\"1\" class=\"dataframe\">\n",
       "  <thead>\n",
       "    <tr style=\"text-align: right;\">\n",
       "      <th></th>\n",
       "      <th>Loan_ID</th>\n",
       "      <th>Gender</th>\n",
       "      <th>Married</th>\n",
       "      <th>Dependents</th>\n",
       "      <th>Graduate</th>\n",
       "      <th>Self_Employed</th>\n",
       "      <th>ApplicantIncome</th>\n",
       "      <th>CoapplicantIncome</th>\n",
       "      <th>LoanAmount</th>\n",
       "      <th>Loan_Amount_Term</th>\n",
       "      <th>Credit_History</th>\n",
       "      <th>Property_Area</th>\n",
       "      <th>Loan_Status</th>\n",
       "    </tr>\n",
       "  </thead>\n",
       "  <tbody>\n",
       "    <tr>\n",
       "      <th>0</th>\n",
       "      <td>1002</td>\n",
       "      <td>1</td>\n",
       "      <td>0</td>\n",
       "      <td>0</td>\n",
       "      <td>1</td>\n",
       "      <td>0</td>\n",
       "      <td>5849</td>\n",
       "      <td>0</td>\n",
       "      <td>128</td>\n",
       "      <td>360</td>\n",
       "      <td>1</td>\n",
       "      <td>1</td>\n",
       "      <td>Y</td>\n",
       "    </tr>\n",
       "    <tr>\n",
       "      <th>1</th>\n",
       "      <td>1003</td>\n",
       "      <td>1</td>\n",
       "      <td>1</td>\n",
       "      <td>1</td>\n",
       "      <td>1</td>\n",
       "      <td>0</td>\n",
       "      <td>4583</td>\n",
       "      <td>1508</td>\n",
       "      <td>128</td>\n",
       "      <td>360</td>\n",
       "      <td>1</td>\n",
       "      <td>3</td>\n",
       "      <td>N</td>\n",
       "    </tr>\n",
       "    <tr>\n",
       "      <th>2</th>\n",
       "      <td>1005</td>\n",
       "      <td>1</td>\n",
       "      <td>1</td>\n",
       "      <td>0</td>\n",
       "      <td>1</td>\n",
       "      <td>1</td>\n",
       "      <td>3000</td>\n",
       "      <td>0</td>\n",
       "      <td>66</td>\n",
       "      <td>360</td>\n",
       "      <td>1</td>\n",
       "      <td>1</td>\n",
       "      <td>Y</td>\n",
       "    </tr>\n",
       "    <tr>\n",
       "      <th>3</th>\n",
       "      <td>1006</td>\n",
       "      <td>1</td>\n",
       "      <td>1</td>\n",
       "      <td>0</td>\n",
       "      <td>0</td>\n",
       "      <td>0</td>\n",
       "      <td>2583</td>\n",
       "      <td>2358</td>\n",
       "      <td>120</td>\n",
       "      <td>360</td>\n",
       "      <td>1</td>\n",
       "      <td>1</td>\n",
       "      <td>Y</td>\n",
       "    </tr>\n",
       "    <tr>\n",
       "      <th>4</th>\n",
       "      <td>1008</td>\n",
       "      <td>1</td>\n",
       "      <td>0</td>\n",
       "      <td>0</td>\n",
       "      <td>1</td>\n",
       "      <td>0</td>\n",
       "      <td>6000</td>\n",
       "      <td>0</td>\n",
       "      <td>141</td>\n",
       "      <td>360</td>\n",
       "      <td>1</td>\n",
       "      <td>1</td>\n",
       "      <td>Y</td>\n",
       "    </tr>\n",
       "    <tr>\n",
       "      <th>...</th>\n",
       "      <td>...</td>\n",
       "      <td>...</td>\n",
       "      <td>...</td>\n",
       "      <td>...</td>\n",
       "      <td>...</td>\n",
       "      <td>...</td>\n",
       "      <td>...</td>\n",
       "      <td>...</td>\n",
       "      <td>...</td>\n",
       "      <td>...</td>\n",
       "      <td>...</td>\n",
       "      <td>...</td>\n",
       "      <td>...</td>\n",
       "    </tr>\n",
       "    <tr>\n",
       "      <th>642</th>\n",
       "      <td>2979</td>\n",
       "      <td>1</td>\n",
       "      <td>1</td>\n",
       "      <td>3</td>\n",
       "      <td>1</td>\n",
       "      <td>0</td>\n",
       "      <td>4106</td>\n",
       "      <td>0.0</td>\n",
       "      <td>40</td>\n",
       "      <td>180</td>\n",
       "      <td>1</td>\n",
       "      <td>3</td>\n",
       "      <td>Y</td>\n",
       "    </tr>\n",
       "    <tr>\n",
       "      <th>643</th>\n",
       "      <td>2983</td>\n",
       "      <td>1</td>\n",
       "      <td>1</td>\n",
       "      <td>1</td>\n",
       "      <td>1</td>\n",
       "      <td>0</td>\n",
       "      <td>8072</td>\n",
       "      <td>240.0</td>\n",
       "      <td>253</td>\n",
       "      <td>333</td>\n",
       "      <td>1</td>\n",
       "      <td>1</td>\n",
       "      <td>Y</td>\n",
       "    </tr>\n",
       "    <tr>\n",
       "      <th>644</th>\n",
       "      <td>2984</td>\n",
       "      <td>1</td>\n",
       "      <td>1</td>\n",
       "      <td>2</td>\n",
       "      <td>1</td>\n",
       "      <td>0</td>\n",
       "      <td>7583</td>\n",
       "      <td>0.0</td>\n",
       "      <td>187</td>\n",
       "      <td>333</td>\n",
       "      <td>1</td>\n",
       "      <td>1</td>\n",
       "      <td>Y</td>\n",
       "    </tr>\n",
       "    <tr>\n",
       "      <th>645</th>\n",
       "      <td>2990</td>\n",
       "      <td>2</td>\n",
       "      <td>0</td>\n",
       "      <td>0</td>\n",
       "      <td>1</td>\n",
       "      <td>1</td>\n",
       "      <td>4583</td>\n",
       "      <td>0.0</td>\n",
       "      <td>133</td>\n",
       "      <td>333</td>\n",
       "      <td>0</td>\n",
       "      <td>2</td>\n",
       "      <td>N</td>\n",
       "    </tr>\n",
       "    <tr>\n",
       "      <th>646</th>\n",
       "      <td>2990</td>\n",
       "      <td>2</td>\n",
       "      <td>0</td>\n",
       "      <td>0</td>\n",
       "      <td>1</td>\n",
       "      <td>1</td>\n",
       "      <td>4583</td>\n",
       "      <td>0.0</td>\n",
       "      <td>133</td>\n",
       "      <td>333</td>\n",
       "      <td>0</td>\n",
       "      <td>2</td>\n",
       "      <td>N</td>\n",
       "    </tr>\n",
       "  </tbody>\n",
       "</table>\n",
       "<p>647 rows × 13 columns</p>\n",
       "</div>"
      ],
      "text/plain": [
       "    Loan_ID Gender Married Dependents Graduate Self_Employed ApplicantIncome  \\\n",
       "0      1002      1       0          0        1             0            5849   \n",
       "1      1003      1       1          1        1             0            4583   \n",
       "2      1005      1       1          0        1             1            3000   \n",
       "3      1006      1       1          0        0             0            2583   \n",
       "4      1008      1       0          0        1             0            6000   \n",
       "..      ...    ...     ...        ...      ...           ...             ...   \n",
       "642    2979      1       1          3        1             0            4106   \n",
       "643    2983      1       1          1        1             0            8072   \n",
       "644    2984      1       1          2        1             0            7583   \n",
       "645    2990      2       0          0        1             1            4583   \n",
       "646    2990      2       0          0        1             1            4583   \n",
       "\n",
       "    CoapplicantIncome LoanAmount Loan_Amount_Term Credit_History  \\\n",
       "0                   0        128              360              1   \n",
       "1                1508        128              360              1   \n",
       "2                   0         66              360              1   \n",
       "3                2358        120              360              1   \n",
       "4                   0        141              360              1   \n",
       "..                ...        ...              ...            ...   \n",
       "642               0.0         40              180              1   \n",
       "643             240.0        253              333              1   \n",
       "644               0.0        187              333              1   \n",
       "645               0.0        133              333              0   \n",
       "646               0.0        133              333              0   \n",
       "\n",
       "    Property_Area Loan_Status  \n",
       "0               1           Y  \n",
       "1               3           N  \n",
       "2               1           Y  \n",
       "3               1           Y  \n",
       "4               1           Y  \n",
       "..            ...         ...  \n",
       "642             3           Y  \n",
       "643             1           Y  \n",
       "644             1           Y  \n",
       "645             2           N  \n",
       "646             2           N  \n",
       "\n",
       "[647 rows x 13 columns]"
      ]
     },
     "execution_count": 132,
     "metadata": {},
     "output_type": "execute_result"
    }
   ],
   "source": [
    "Loan_Dataset = pd.concat([pdf_df, excel_df], ignore_index=True)\n",
    "Loan_Dataset"
   ]
  },
  {
   "cell_type": "code",
   "execution_count": 133,
   "id": "73a5cf11-a572-45aa-b0e7-706c39b4d98f",
   "metadata": {},
   "outputs": [],
   "source": [
    "# saving the combined dataset\n",
    "Loan_Dataset.to_excel('Combined_Loan_dataset.xlsx', index=False)"
   ]
  },
  {
   "cell_type": "markdown",
   "id": "0f9a7e14-b150-45ea-a135-e618628b4a6d",
   "metadata": {},
   "source": [
    "# Exploratory Data Analysis"
   ]
  },
  {
   "cell_type": "code",
   "execution_count": 134,
   "id": "8f00e2ba-8ad6-4d6d-ad86-0834a2d15e3b",
   "metadata": {},
   "outputs": [
    {
     "data": {
      "text/plain": [
       "(647, 13)"
      ]
     },
     "execution_count": 134,
     "metadata": {},
     "output_type": "execute_result"
    }
   ],
   "source": [
    "# Checking the shape of the dataset\n",
    "Loan_Dataset.shape"
   ]
  },
  {
   "cell_type": "code",
   "execution_count": 135,
   "id": "5d351672-6a72-46f1-86da-4cb089c77dad",
   "metadata": {},
   "outputs": [
    {
     "name": "stdout",
     "output_type": "stream",
     "text": [
      "Loan_ID              object\n",
      "Gender               object\n",
      "Married              object\n",
      "Dependents           object\n",
      "Graduate             object\n",
      "Self_Employed        object\n",
      "ApplicantIncome      object\n",
      "CoapplicantIncome    object\n",
      "LoanAmount           object\n",
      "Loan_Amount_Term     object\n",
      "Credit_History       object\n",
      "Property_Area        object\n",
      "Loan_Status          object\n",
      "dtype: object\n"
     ]
    }
   ],
   "source": [
    "# Checking data types\n",
    "print(Loan_Dataset.dtypes)"
   ]
  },
  {
   "cell_type": "code",
   "execution_count": 136,
   "id": "b564b270-cfe1-4080-bd01-5fd9dd3a86ae",
   "metadata": {},
   "outputs": [
    {
     "name": "stdout",
     "output_type": "stream",
     "text": [
      "Loan_ID              0\n",
      "Gender               0\n",
      "Married              0\n",
      "Dependents           0\n",
      "Graduate             0\n",
      "Self_Employed        0\n",
      "ApplicantIncome      0\n",
      "CoapplicantIncome    0\n",
      "LoanAmount           0\n",
      "Loan_Amount_Term     0\n",
      "Credit_History       0\n",
      "Property_Area        0\n",
      "Loan_Status          0\n",
      "dtype: int64\n"
     ]
    }
   ],
   "source": [
    "# Checking for missing values\n",
    "print(Loan_Dataset.isnull().sum())"
   ]
  },
  {
   "cell_type": "code",
   "execution_count": 137,
   "id": "05ee4ade-8db2-41d7-a4ed-f7daf5883473",
   "metadata": {},
   "outputs": [
    {
     "data": {
      "text/html": [
       "<div>\n",
       "<style scoped>\n",
       "    .dataframe tbody tr th:only-of-type {\n",
       "        vertical-align: middle;\n",
       "    }\n",
       "\n",
       "    .dataframe tbody tr th {\n",
       "        vertical-align: top;\n",
       "    }\n",
       "\n",
       "    .dataframe thead th {\n",
       "        text-align: right;\n",
       "    }\n",
       "</style>\n",
       "<table border=\"1\" class=\"dataframe\">\n",
       "  <thead>\n",
       "    <tr style=\"text-align: right;\">\n",
       "      <th></th>\n",
       "      <th>Loan_ID</th>\n",
       "      <th>Gender</th>\n",
       "      <th>Married</th>\n",
       "      <th>Dependents</th>\n",
       "      <th>Graduate</th>\n",
       "      <th>Self_Employed</th>\n",
       "      <th>ApplicantIncome</th>\n",
       "      <th>CoapplicantIncome</th>\n",
       "      <th>LoanAmount</th>\n",
       "      <th>Loan_Amount_Term</th>\n",
       "      <th>Credit_History</th>\n",
       "      <th>Property_Area</th>\n",
       "      <th>Loan_Status</th>\n",
       "    </tr>\n",
       "  </thead>\n",
       "  <tbody>\n",
       "    <tr>\n",
       "      <th>count</th>\n",
       "      <td>647</td>\n",
       "      <td>647</td>\n",
       "      <td>647</td>\n",
       "      <td>647</td>\n",
       "      <td>647</td>\n",
       "      <td>647</td>\n",
       "      <td>647</td>\n",
       "      <td>647</td>\n",
       "      <td>647</td>\n",
       "      <td>647</td>\n",
       "      <td>647</td>\n",
       "      <td>647</td>\n",
       "      <td>647</td>\n",
       "    </tr>\n",
       "    <tr>\n",
       "      <th>unique</th>\n",
       "      <td>645</td>\n",
       "      <td>4</td>\n",
       "      <td>4</td>\n",
       "      <td>8</td>\n",
       "      <td>4</td>\n",
       "      <td>4</td>\n",
       "      <td>558</td>\n",
       "      <td>322</td>\n",
       "      <td>287</td>\n",
       "      <td>17</td>\n",
       "      <td>4</td>\n",
       "      <td>6</td>\n",
       "      <td>2</td>\n",
       "    </tr>\n",
       "    <tr>\n",
       "      <th>top</th>\n",
       "      <td>2990</td>\n",
       "      <td>1</td>\n",
       "      <td>1</td>\n",
       "      <td>0</td>\n",
       "      <td>1</td>\n",
       "      <td>0</td>\n",
       "      <td>2500</td>\n",
       "      <td>0</td>\n",
       "      <td>128</td>\n",
       "      <td>360</td>\n",
       "      <td>1</td>\n",
       "      <td>2</td>\n",
       "      <td>Y</td>\n",
       "    </tr>\n",
       "    <tr>\n",
       "      <th>freq</th>\n",
       "      <td>2</td>\n",
       "      <td>327</td>\n",
       "      <td>259</td>\n",
       "      <td>240</td>\n",
       "      <td>322</td>\n",
       "      <td>349</td>\n",
       "      <td>6</td>\n",
       "      <td>176</td>\n",
       "      <td>22</td>\n",
       "      <td>341</td>\n",
       "      <td>315</td>\n",
       "      <td>148</td>\n",
       "      <td>445</td>\n",
       "    </tr>\n",
       "  </tbody>\n",
       "</table>\n",
       "</div>"
      ],
      "text/plain": [
       "        Loan_ID Gender Married Dependents Graduate Self_Employed  \\\n",
       "count       647    647     647        647      647           647   \n",
       "unique      645      4       4          8        4             4   \n",
       "top        2990      1       1          0        1             0   \n",
       "freq          2    327     259        240      322           349   \n",
       "\n",
       "       ApplicantIncome CoapplicantIncome LoanAmount Loan_Amount_Term  \\\n",
       "count              647               647        647              647   \n",
       "unique             558               322        287               17   \n",
       "top               2500                 0        128              360   \n",
       "freq                 6               176         22              341   \n",
       "\n",
       "       Credit_History Property_Area Loan_Status  \n",
       "count             647           647         647  \n",
       "unique              4             6           2  \n",
       "top                 1             2           Y  \n",
       "freq              315           148         445  "
      ]
     },
     "execution_count": 137,
     "metadata": {},
     "output_type": "execute_result"
    }
   ],
   "source": [
    "# Summary statistics for numerical columns\n",
    "Loan_Dataset.describe()"
   ]
  },
  {
   "cell_type": "markdown",
   "id": "881ef4be-01a2-472d-95a2-fffdaf7e7885",
   "metadata": {},
   "source": [
    "##### # In the summary Statistics and data types, the data type for the columns are not correct, so let's correct that\n"
   ]
  },
  {
   "cell_type": "code",
   "execution_count": 138,
   "id": "ae5dbc6e-1156-419a-977a-93f85db10870",
   "metadata": {},
   "outputs": [
    {
     "name": "stdout",
     "output_type": "stream",
     "text": [
      "Loan_ID                 int64\n",
      "Gender                  int64\n",
      "Married                 int64\n",
      "Dependents              int64\n",
      "Graduate                int64\n",
      "Self_Employed           int64\n",
      "ApplicantIncome         int64\n",
      "CoapplicantIncome       int64\n",
      "LoanAmount              int64\n",
      "Loan_Amount_Term        int64\n",
      "Credit_History          int64\n",
      "Property_Area           int64\n",
      "Loan_Status          category\n",
      "dtype: object\n"
     ]
    }
   ],
   "source": [
    "# Converting integer columns to appropriate data types\n",
    "integer_columns = [\n",
    "    'Loan_ID', 'Gender', 'Married', 'Dependents', 'Graduate', 'Self_Employed',\n",
    "    'ApplicantIncome', 'CoapplicantIncome', 'LoanAmount', 'Loan_Amount_Term',\n",
    "    'Credit_History', 'Property_Area'\n",
    "]\n",
    "\n",
    "for col in integer_columns:\n",
    "    Loan_Dataset[col] = pd.to_numeric(Loan_Dataset[col], errors='coerce').astype('int64')\n",
    "\n",
    "# Converting Loan_Status to categorical\n",
    "Loan_Dataset['Loan_Status'] = Loan_Dataset['Loan_Status'].astype('category')\n",
    "\n",
    "# Printing the data types\n",
    "print(Loan_Dataset.dtypes)"
   ]
  },
  {
   "cell_type": "code",
   "execution_count": 139,
   "id": "ccd537dc-8728-4f9d-9324-dc9010649c8e",
   "metadata": {},
   "outputs": [
    {
     "data": {
      "text/html": [
       "<div>\n",
       "<style scoped>\n",
       "    .dataframe tbody tr th:only-of-type {\n",
       "        vertical-align: middle;\n",
       "    }\n",
       "\n",
       "    .dataframe tbody tr th {\n",
       "        vertical-align: top;\n",
       "    }\n",
       "\n",
       "    .dataframe thead th {\n",
       "        text-align: right;\n",
       "    }\n",
       "</style>\n",
       "<table border=\"1\" class=\"dataframe\">\n",
       "  <thead>\n",
       "    <tr style=\"text-align: right;\">\n",
       "      <th></th>\n",
       "      <th>Loan_ID</th>\n",
       "      <th>Gender</th>\n",
       "      <th>Married</th>\n",
       "      <th>Dependents</th>\n",
       "      <th>Graduate</th>\n",
       "      <th>Self_Employed</th>\n",
       "      <th>ApplicantIncome</th>\n",
       "      <th>CoapplicantIncome</th>\n",
       "      <th>LoanAmount</th>\n",
       "      <th>Loan_Amount_Term</th>\n",
       "      <th>Credit_History</th>\n",
       "      <th>Property_Area</th>\n",
       "    </tr>\n",
       "  </thead>\n",
       "  <tbody>\n",
       "    <tr>\n",
       "      <th>count</th>\n",
       "      <td>647.000000</td>\n",
       "      <td>647.000000</td>\n",
       "      <td>647.000000</td>\n",
       "      <td>647.000000</td>\n",
       "      <td>647.000000</td>\n",
       "      <td>647.000000</td>\n",
       "      <td>647.000000</td>\n",
       "      <td>647.000000</td>\n",
       "      <td>647.000000</td>\n",
       "      <td>647.000000</td>\n",
       "      <td>647.000000</td>\n",
       "      <td>647.000000</td>\n",
       "    </tr>\n",
       "    <tr>\n",
       "      <th>mean</th>\n",
       "      <td>1998.791345</td>\n",
       "      <td>1.187017</td>\n",
       "      <td>0.646059</td>\n",
       "      <td>0.729521</td>\n",
       "      <td>0.783617</td>\n",
       "      <td>0.131376</td>\n",
       "      <td>5362.117465</td>\n",
       "      <td>1606.160742</td>\n",
       "      <td>148.066461</td>\n",
       "      <td>334.831530</td>\n",
       "      <td>0.775889</td>\n",
       "      <td>1.961360</td>\n",
       "    </tr>\n",
       "    <tr>\n",
       "      <th>std</th>\n",
       "      <td>554.100025</td>\n",
       "      <td>0.390227</td>\n",
       "      <td>0.478561</td>\n",
       "      <td>1.001289</td>\n",
       "      <td>0.412097</td>\n",
       "      <td>0.338072</td>\n",
       "      <td>6012.965020</td>\n",
       "      <td>2863.263035</td>\n",
       "      <td>86.004699</td>\n",
       "      <td>63.109132</td>\n",
       "      <td>0.417318</td>\n",
       "      <td>0.788888</td>\n",
       "    </tr>\n",
       "    <tr>\n",
       "      <th>min</th>\n",
       "      <td>1002.000000</td>\n",
       "      <td>1.000000</td>\n",
       "      <td>0.000000</td>\n",
       "      <td>0.000000</td>\n",
       "      <td>0.000000</td>\n",
       "      <td>0.000000</td>\n",
       "      <td>150.000000</td>\n",
       "      <td>0.000000</td>\n",
       "      <td>9.000000</td>\n",
       "      <td>12.000000</td>\n",
       "      <td>0.000000</td>\n",
       "      <td>1.000000</td>\n",
       "    </tr>\n",
       "    <tr>\n",
       "      <th>25%</th>\n",
       "      <td>1563.500000</td>\n",
       "      <td>1.000000</td>\n",
       "      <td>0.000000</td>\n",
       "      <td>0.000000</td>\n",
       "      <td>1.000000</td>\n",
       "      <td>0.000000</td>\n",
       "      <td>2875.000000</td>\n",
       "      <td>0.000000</td>\n",
       "      <td>101.500000</td>\n",
       "      <td>333.000000</td>\n",
       "      <td>1.000000</td>\n",
       "      <td>1.000000</td>\n",
       "    </tr>\n",
       "    <tr>\n",
       "      <th>50%</th>\n",
       "      <td>1963.000000</td>\n",
       "      <td>1.000000</td>\n",
       "      <td>1.000000</td>\n",
       "      <td>0.000000</td>\n",
       "      <td>1.000000</td>\n",
       "      <td>0.000000</td>\n",
       "      <td>3814.000000</td>\n",
       "      <td>1229.000000</td>\n",
       "      <td>128.000000</td>\n",
       "      <td>360.000000</td>\n",
       "      <td>1.000000</td>\n",
       "      <td>2.000000</td>\n",
       "    </tr>\n",
       "    <tr>\n",
       "      <th>75%</th>\n",
       "      <td>2448.500000</td>\n",
       "      <td>1.000000</td>\n",
       "      <td>1.000000</td>\n",
       "      <td>1.000000</td>\n",
       "      <td>1.000000</td>\n",
       "      <td>0.000000</td>\n",
       "      <td>5717.000000</td>\n",
       "      <td>2304.000000</td>\n",
       "      <td>168.000000</td>\n",
       "      <td>360.000000</td>\n",
       "      <td>1.000000</td>\n",
       "      <td>3.000000</td>\n",
       "    </tr>\n",
       "    <tr>\n",
       "      <th>max</th>\n",
       "      <td>2990.000000</td>\n",
       "      <td>2.000000</td>\n",
       "      <td>1.000000</td>\n",
       "      <td>3.000000</td>\n",
       "      <td>1.000000</td>\n",
       "      <td>1.000000</td>\n",
       "      <td>81000.000000</td>\n",
       "      <td>41667.000000</td>\n",
       "      <td>700.000000</td>\n",
       "      <td>480.000000</td>\n",
       "      <td>1.000000</td>\n",
       "      <td>3.000000</td>\n",
       "    </tr>\n",
       "  </tbody>\n",
       "</table>\n",
       "</div>"
      ],
      "text/plain": [
       "           Loan_ID      Gender     Married  Dependents    Graduate  \\\n",
       "count   647.000000  647.000000  647.000000  647.000000  647.000000   \n",
       "mean   1998.791345    1.187017    0.646059    0.729521    0.783617   \n",
       "std     554.100025    0.390227    0.478561    1.001289    0.412097   \n",
       "min    1002.000000    1.000000    0.000000    0.000000    0.000000   \n",
       "25%    1563.500000    1.000000    0.000000    0.000000    1.000000   \n",
       "50%    1963.000000    1.000000    1.000000    0.000000    1.000000   \n",
       "75%    2448.500000    1.000000    1.000000    1.000000    1.000000   \n",
       "max    2990.000000    2.000000    1.000000    3.000000    1.000000   \n",
       "\n",
       "       Self_Employed  ApplicantIncome  CoapplicantIncome  LoanAmount  \\\n",
       "count     647.000000       647.000000         647.000000  647.000000   \n",
       "mean        0.131376      5362.117465        1606.160742  148.066461   \n",
       "std         0.338072      6012.965020        2863.263035   86.004699   \n",
       "min         0.000000       150.000000           0.000000    9.000000   \n",
       "25%         0.000000      2875.000000           0.000000  101.500000   \n",
       "50%         0.000000      3814.000000        1229.000000  128.000000   \n",
       "75%         0.000000      5717.000000        2304.000000  168.000000   \n",
       "max         1.000000     81000.000000       41667.000000  700.000000   \n",
       "\n",
       "       Loan_Amount_Term  Credit_History  Property_Area  \n",
       "count        647.000000      647.000000     647.000000  \n",
       "mean         334.831530        0.775889       1.961360  \n",
       "std           63.109132        0.417318       0.788888  \n",
       "min           12.000000        0.000000       1.000000  \n",
       "25%          333.000000        1.000000       1.000000  \n",
       "50%          360.000000        1.000000       2.000000  \n",
       "75%          360.000000        1.000000       3.000000  \n",
       "max          480.000000        1.000000       3.000000  "
      ]
     },
     "execution_count": 139,
     "metadata": {},
     "output_type": "execute_result"
    }
   ],
   "source": [
    "# Summary statistics for numerical columns\n",
    "Loan_Dataset.describe()"
   ]
  },
  {
   "cell_type": "code",
   "execution_count": 140,
   "id": "e6a40cac-4c7d-4eb0-a641-15673cc9777c",
   "metadata": {},
   "outputs": [
    {
     "name": "stdout",
     "output_type": "stream",
     "text": [
      "Loan_ID              0\n",
      "Gender               0\n",
      "Married              0\n",
      "Dependents           0\n",
      "Graduate             0\n",
      "Self_Employed        0\n",
      "ApplicantIncome      0\n",
      "CoapplicantIncome    0\n",
      "LoanAmount           0\n",
      "Loan_Amount_Term     0\n",
      "Credit_History       0\n",
      "Property_Area        0\n",
      "Loan_Status          0\n",
      "dtype: int64\n"
     ]
    }
   ],
   "source": [
    "# Checking for missing values again\n",
    "print(Loan_Dataset.isnull().sum())"
   ]
  },
  {
   "cell_type": "code",
   "execution_count": 141,
   "id": "4acf03aa-4c73-4a57-bc8f-7040f706bd28",
   "metadata": {},
   "outputs": [
    {
     "name": "stdout",
     "output_type": "stream",
     "text": [
      "\n",
      "Unique values in Gender:\n",
      "Gender\n",
      "1    526\n",
      "2    121\n",
      "Name: count, dtype: int64\n",
      "\n",
      "Unique values in Married:\n",
      "Married\n",
      "1    418\n",
      "0    229\n",
      "Name: count, dtype: int64\n",
      "\n",
      "Unique values in Dependents:\n",
      "Dependents\n",
      "0    383\n",
      "1    108\n",
      "2    104\n",
      "3     52\n",
      "Name: count, dtype: int64\n",
      "\n",
      "Unique values in Graduate:\n",
      "Graduate\n",
      "1    507\n",
      "0    140\n",
      "Name: count, dtype: int64\n",
      "\n",
      "Unique values in Self_Employed:\n",
      "Self_Employed\n",
      "0    562\n",
      "1     85\n",
      "Name: count, dtype: int64\n",
      "\n",
      "Unique values in Credit_History:\n",
      "Credit_History\n",
      "1    502\n",
      "0    145\n",
      "Name: count, dtype: int64\n",
      "\n",
      "Unique values in Property_Area:\n",
      "Property_Area\n",
      "2    244\n",
      "1    214\n",
      "3    189\n",
      "Name: count, dtype: int64\n",
      "\n",
      "Unique values in Loan_Status:\n",
      "Loan_Status\n",
      "Y    445\n",
      "N    202\n",
      "Name: count, dtype: int64\n"
     ]
    }
   ],
   "source": [
    "#checking unique values\n",
    "columns = ['Gender', 'Married', 'Dependents', 'Graduate', 'Self_Employed', 'Credit_History', 'Property_Area', 'Loan_Status']\n",
    "\n",
    "for col in columns:\n",
    "    print(f\"\\nUnique values in {col}:\")\n",
    "    print(Loan_Dataset[col].value_counts())"
   ]
  },
  {
   "cell_type": "markdown",
   "id": "95f2dd69-59bc-4957-8a89-f22b1ed5ae09",
   "metadata": {},
   "source": [
    "##### Because it is not explanatory, Let's map the categorical values"
   ]
  },
  {
   "cell_type": "code",
   "execution_count": 142,
   "id": "9c90810a-f563-4ee9-aa26-710e8a548776",
   "metadata": {},
   "outputs": [],
   "source": [
    "# Mapping dictionaries for categorical columns\n",
    "gender_map = {1: 'Male', 2: 'Female'}\n",
    "married_map = {0: 'Single', 1: 'Married'}\n",
    "dependents_map = {0: '0', 1: '1', 2: '2', 3: '3+'}\n",
    "graduate_map = {0: 'Not Graduate', 1: 'Graduate'}\n",
    "self_employed_map = {0: 'No', 1: 'Yes'}\n",
    "credit_history_map = {0: 'No', 1: 'Yes'}\n",
    "property_area_map = {1: 'Urban', 2: 'Semiurban', 3: 'Rural'}\n",
    "loan_status_map = {'Y': 'Approved', 'N': 'Rejected'}"
   ]
  },
  {
   "cell_type": "markdown",
   "id": "c79adf01-9e41-4f89-96f1-d88cfee1d6a8",
   "metadata": {},
   "source": [
    "## Plots to understand data distribution"
   ]
  },
  {
   "cell_type": "code",
   "execution_count": 143,
   "id": "96b37b51-d893-4632-ae73-e8c537c9485a",
   "metadata": {},
   "outputs": [
    {
     "data": {
      "image/png": "[encoded data removed]",
      "text/plain": [
       "<Figure size 800x600 with 1 Axes>"
      ]
     },
     "metadata": {},
     "output_type": "display_data"
    }
   ],
   "source": [
    "# Plotting the distribution of ApplicantIncome\n",
    "plt.figure(figsize=(8, 6))\n",
    "sns.histplot(Loan_Dataset['ApplicantIncome'], bins=30, kde=True, color='blue')\n",
    "plt.title('Distribution of Applicant Income')\n",
    "plt.show()\n",
    "\n"
   ]
  },
  {
   "cell_type": "code",
   "execution_count": 144,
   "id": "3acfbe04-26f2-453a-826d-9e881f556ec0",
   "metadata": {},
   "outputs": [
    {
     "data": {
      "image/png": "[encoded data removed]",
      "text/plain": [
       "<Figure size 800x600 with 1 Axes>"
      ]
     },
     "metadata": {},
     "output_type": "display_data"
    }
   ],
   "source": [
    "# Plotting the relationship between Loan_Status and ApplicantIncome\n",
    "plt.figure(figsize=(8, 6))\n",
    "sns.boxplot(x='Loan_Status', y='ApplicantIncome', data=Loan_Dataset, palette='Set3')\n",
    "plt.title('Loan Status vs Applicant Income')\n",
    "plt.show()"
   ]
  },
  {
   "cell_type": "code",
   "execution_count": 145,
   "id": "0e6d2c4c-7a08-461f-be3a-59afc5b849a0",
   "metadata": {},
   "outputs": [
    {
     "name": "stdout",
     "output_type": "stream",
     "text": [
      "   Loan_ID Gender  Married Dependents      Graduate Self_Employed  \\\n",
      "0     1002   Male   Single          0      Graduate            No   \n",
      "1     1003   Male  Married          1      Graduate            No   \n",
      "2     1005   Male  Married          0      Graduate           Yes   \n",
      "3     1006   Male  Married          0  Not Graduate            No   \n",
      "4     1008   Male   Single          0      Graduate            No   \n",
      "\n",
      "   ApplicantIncome  CoapplicantIncome  LoanAmount  Loan_Amount_Term  \\\n",
      "0             5849                  0         128               360   \n",
      "1             4583               1508         128               360   \n",
      "2             3000                  0          66               360   \n",
      "3             2583               2358         120               360   \n",
      "4             6000                  0         141               360   \n",
      "\n",
      "  Credit_History Property_Area Loan_Status  \n",
      "0            Yes         Urban    Approved  \n",
      "1            Yes         Rural    Rejected  \n",
      "2            Yes         Urban    Approved  \n",
      "3            Yes         Urban    Approved  \n",
      "4            Yes         Urban    Approved  \n"
     ]
    }
   ],
   "source": [
    "# Applying mappings to categorical columns\n",
    "Loan_Dataset['Gender'] = Loan_Dataset['Gender'].map(gender_map)\n",
    "Loan_Dataset['Married'] = Loan_Dataset['Married'].map(married_map)\n",
    "Loan_Dataset['Dependents'] = Loan_Dataset['Dependents'].map(dependents_map)\n",
    "Loan_Dataset['Graduate'] = Loan_Dataset['Graduate'].map(graduate_map)\n",
    "Loan_Dataset['Self_Employed'] = Loan_Dataset['Self_Employed'].map(self_employed_map)\n",
    "Loan_Dataset['Credit_History'] = Loan_Dataset['Credit_History'].map(credit_history_map)\n",
    "Loan_Dataset['Property_Area'] = Loan_Dataset['Property_Area'].map(property_area_map)\n",
    "Loan_Dataset['Loan_Status'] = Loan_Dataset['Loan_Status'].map(loan_status_map)\n",
    "\n",
    "# Let's print the updated dataset\n",
    "print(Loan_Dataset.head())"
   ]
  },
  {
   "cell_type": "markdown",
   "id": "99bb1947-3db2-41a0-89b2-7fcec040c229",
   "metadata": {},
   "source": [
    "#### Checking unique values for categorical columns"
   ]
  },
  {
   "cell_type": "code",
   "execution_count": 146,
   "id": "1da7acec-8d76-499c-a9e9-980f4a688b10",
   "metadata": {},
   "outputs": [
    {
     "name": "stdout",
     "output_type": "stream",
     "text": [
      "\n",
      "Unique values in Gender:\n",
      "Gender\n",
      "Male      526\n",
      "Female    121\n",
      "Name: count, dtype: int64\n",
      "\n",
      "Unique values in Married:\n",
      "Married\n",
      "Married    418\n",
      "Single     229\n",
      "Name: count, dtype: int64\n",
      "\n",
      "Unique values in Dependents:\n",
      "Dependents\n",
      "0     383\n",
      "1     108\n",
      "2     104\n",
      "3+     52\n",
      "Name: count, dtype: int64\n",
      "\n",
      "Unique values in Graduate:\n",
      "Graduate\n",
      "Graduate        507\n",
      "Not Graduate    140\n",
      "Name: count, dtype: int64\n",
      "\n",
      "Unique values in Self_Employed:\n",
      "Self_Employed\n",
      "No     562\n",
      "Yes     85\n",
      "Name: count, dtype: int64\n",
      "\n",
      "Unique values in Credit_History:\n",
      "Credit_History\n",
      "Yes    502\n",
      "No     145\n",
      "Name: count, dtype: int64\n",
      "\n",
      "Unique values in Property_Area:\n",
      "Property_Area\n",
      "Semiurban    244\n",
      "Urban        214\n",
      "Rural        189\n",
      "Name: count, dtype: int64\n",
      "\n",
      "Unique values in Loan_Status:\n",
      "Loan_Status\n",
      "Approved    445\n",
      "Rejected    202\n",
      "Name: count, dtype: int64\n"
     ]
    }
   ],
   "source": [
    "categorical_columns = ['Gender', 'Married', 'Dependents', 'Graduate', 'Self_Employed', 'Credit_History', 'Property_Area', 'Loan_Status']\n",
    "\n",
    "for col in categorical_columns:\n",
    "    print(f\"\\nUnique values in {col}:\")\n",
    "    print(Loan_Dataset[col].value_counts())"
   ]
  },
  {
   "cell_type": "code",
   "execution_count": 147,
   "id": "1d142a76-962b-462a-98b1-e3b532a33f33",
   "metadata": {},
   "outputs": [
    {
     "name": "stdout",
     "output_type": "stream",
     "text": [
      "Shape of the dataset: (647, 13)\n",
      "\n",
      "Data types:\n",
      "Loan_ID                 int64\n",
      "Gender                 object\n",
      "Married                object\n",
      "Dependents             object\n",
      "Graduate               object\n",
      "Self_Employed          object\n",
      "ApplicantIncome         int64\n",
      "CoapplicantIncome       int64\n",
      "LoanAmount              int64\n",
      "Loan_Amount_Term        int64\n",
      "Credit_History         object\n",
      "Property_Area          object\n",
      "Loan_Status          category\n",
      "dtype: object\n",
      "\n",
      "Missing values:\n",
      "Loan_ID              0\n",
      "Gender               0\n",
      "Married              0\n",
      "Dependents           0\n",
      "Graduate             0\n",
      "Self_Employed        0\n",
      "ApplicantIncome      0\n",
      "CoapplicantIncome    0\n",
      "LoanAmount           0\n",
      "Loan_Amount_Term     0\n",
      "Credit_History       0\n",
      "Property_Area        0\n",
      "Loan_Status          0\n",
      "dtype: int64\n"
     ]
    }
   ],
   "source": [
    "# Checking the shape of the dataset\n",
    "print(\"Shape of the dataset:\", Loan_Dataset.shape)\n",
    "\n",
    "# Check data types\n",
    "print(\"\\nData types:\")\n",
    "print(Loan_Dataset.dtypes)\n",
    "\n",
    "# Check for missing values\n",
    "print(\"\\nMissing values:\")\n",
    "print(Loan_Dataset.isnull().sum())"
   ]
  },
  {
   "cell_type": "code",
   "execution_count": 148,
   "id": "52e64c75-6e64-4190-96ad-fad6ba948746",
   "metadata": {},
   "outputs": [
    {
     "name": "stdout",
     "output_type": "stream",
     "text": [
      "           Loan_ID  ApplicantIncome  CoapplicantIncome  LoanAmount  \\\n",
      "count   647.000000       647.000000         647.000000  647.000000   \n",
      "mean   1998.791345      5362.117465        1606.160742  148.066461   \n",
      "std     554.100025      6012.965020        2863.263035   86.004699   \n",
      "min    1002.000000       150.000000           0.000000    9.000000   \n",
      "25%    1563.500000      2875.000000           0.000000  101.500000   \n",
      "50%    1963.000000      3814.000000        1229.000000  128.000000   \n",
      "75%    2448.500000      5717.000000        2304.000000  168.000000   \n",
      "max    2990.000000     81000.000000       41667.000000  700.000000   \n",
      "\n",
      "       Loan_Amount_Term  \n",
      "count        647.000000  \n",
      "mean         334.831530  \n",
      "std           63.109132  \n",
      "min           12.000000  \n",
      "25%          333.000000  \n",
      "50%          360.000000  \n",
      "75%          360.000000  \n",
      "max          480.000000  \n"
     ]
    }
   ],
   "source": [
    "# Summary statistics for numerical columns\n",
    "print(Loan_Dataset.describe())"
   ]
  },
  {
   "cell_type": "code",
   "execution_count": 149,
   "id": "6e0603ca-053f-48cc-918e-35a9ff50ee71",
   "metadata": {},
   "outputs": [
    {
     "name": "stdout",
     "output_type": "stream",
     "text": [
      "\n",
      "Unique values in Gender:\n",
      "Gender\n",
      "Male      526\n",
      "Female    121\n",
      "Name: count, dtype: int64\n",
      "\n",
      "Unique values in Married:\n",
      "Married\n",
      "Married    418\n",
      "Single     229\n",
      "Name: count, dtype: int64\n",
      "\n",
      "Unique values in Dependents:\n",
      "Dependents\n",
      "0     383\n",
      "1     108\n",
      "2     104\n",
      "3+     52\n",
      "Name: count, dtype: int64\n",
      "\n",
      "Unique values in Graduate:\n",
      "Graduate\n",
      "Graduate        507\n",
      "Not Graduate    140\n",
      "Name: count, dtype: int64\n",
      "\n",
      "Unique values in Self_Employed:\n",
      "Self_Employed\n",
      "No     562\n",
      "Yes     85\n",
      "Name: count, dtype: int64\n",
      "\n",
      "Unique values in Credit_History:\n",
      "Credit_History\n",
      "Yes    502\n",
      "No     145\n",
      "Name: count, dtype: int64\n",
      "\n",
      "Unique values in Property_Area:\n",
      "Property_Area\n",
      "Semiurban    244\n",
      "Urban        214\n",
      "Rural        189\n",
      "Name: count, dtype: int64\n",
      "\n",
      "Unique values in Loan_Status:\n",
      "Loan_Status\n",
      "Approved    445\n",
      "Rejected    202\n",
      "Name: count, dtype: int64\n"
     ]
    }
   ],
   "source": [
    "# Checking for unique values for categorical columns\n",
    "categorical_columns = ['Gender', 'Married', 'Dependents', 'Graduate', 'Self_Employed', 'Credit_History', 'Property_Area', 'Loan_Status']\n",
    "\n",
    "for col in categorical_columns:\n",
    "    print(f\"\\nUnique values in {col}:\")\n",
    "    print(Loan_Dataset[col].value_counts())"
   ]
  },
  {
   "cell_type": "markdown",
   "id": "d0c3f862-0ce7-4e1d-97f1-7cb0dc101490",
   "metadata": {},
   "source": [
    "# Visualization to understand the data distribution"
   ]
  },
  {
   "cell_type": "code",
   "execution_count": 150,
   "id": "ed80e4b5-e93b-4c37-b065-c9154e667f8a",
   "metadata": {},
   "outputs": [
    {
     "data": {
      "image/png": "[encoded data removed]",
      "text/plain": [
       "<Figure size 1000x800 with 2 Axes>"
      ]
     },
     "metadata": {},
     "output_type": "display_data"
    }
   ],
   "source": [
    "# Select only numeric columns for the correlation heatmap\n",
    "numeric_columns = Loan_Dataset.select_dtypes(include=['int64', 'float64'])\n",
    "\n",
    "# Plot the correlation heatmap\n",
    "plt.figure(figsize=(10, 8))\n",
    "sns.heatmap(numeric_columns.corr(), annot=True, cmap='coolwarm', fmt='.2f')\n",
    "plt.title('Correlation Heatmap (Numeric Columns Only)')\n",
    "plt.show()"
   ]
  },
  {
   "cell_type": "code",
   "execution_count": 151,
   "id": "ef529178-4a36-403c-a23e-8deb41bf8886",
   "metadata": {},
   "outputs": [
    {
     "data": {
      "image/png": "[encoded data removed]",
      "text/plain": [
       "<Figure size 600x400 with 1 Axes>"
      ]
     },
     "metadata": {},
     "output_type": "display_data"
    }
   ],
   "source": [
    "# Setting the style for plots\n",
    "sns.set(style=\"whitegrid\")\n",
    "\n",
    "# Plotting the distribution of Loan_Status\n",
    "plt.figure(figsize=(6, 4))\n",
    "sns.countplot(x='Loan_Status', data=Loan_Dataset, palette='Set2', hue_order=Loan_Dataset['Loan_Status'].unique())\n",
    "plt.title('Distribution of Loan Status')\n",
    "plt.show()\n"
   ]
  },
  {
   "cell_type": "code",
   "execution_count": 152,
   "id": "2010bae6-c3b3-476e-8314-5020a9226dad",
   "metadata": {},
   "outputs": [
    {
     "data": {
      "image/png": "[encoded data removed]",
      "text/plain": [
       "<Figure size 800x600 with 1 Axes>"
      ]
     },
     "metadata": {},
     "output_type": "display_data"
    }
   ],
   "source": [
    "# Plotting the distribution of ApplicantIncome\n",
    "plt.figure(figsize=(8, 6))\n",
    "sns.histplot(Loan_Dataset['ApplicantIncome'], bins=30, kde=True, color='blue')\n",
    "plt.title('Distribution of Applicant Income')\n",
    "plt.show()"
   ]
  },
  {
   "cell_type": "code",
   "execution_count": 153,
   "id": "bd0849ab-824a-4fb3-b39b-05bda2f78659",
   "metadata": {},
   "outputs": [
    {
     "data": {
      "image/png": "[encoded data removed]",
      "text/plain": [
       "<Figure size 800x600 with 1 Axes>"
      ]
     },
     "metadata": {},
     "output_type": "display_data"
    }
   ],
   "source": [
    "# Plot the relationship between Loan_Status and ApplicantIncome\n",
    "plt.figure(figsize=(8, 6))\n",
    "sns.boxplot(x='Loan_Status', y='ApplicantIncome', data=Loan_Dataset, palette='Set3')\n",
    "plt.title('Loan Status vs Applicant Income')\n",
    "plt.show()"
   ]
  },
  {
   "cell_type": "markdown",
   "id": "36fc39fe-a89d-4b1b-98b7-a2e315ec6955",
   "metadata": {},
   "source": [
    "# Data Analysis"
   ]
  },
  {
   "cell_type": "markdown",
   "id": "339f6355-2ea6-4980-9e89-f3e923a3e6fc",
   "metadata": {},
   "source": [
    "#### 1. Loan Approval rate"
   ]
  },
  {
   "cell_type": "code",
   "execution_count": 154,
   "id": "8bdb0fd3-a401-4f9c-b43a-f5d8ce3ac304",
   "metadata": {},
   "outputs": [
    {
     "name": "stdout",
     "output_type": "stream",
     "text": [
      "\n",
      "Loan Approval Rate:\n",
      "Loan_Status\n",
      "Approved    68.8%\n",
      "Rejected    31.2%\n",
      "Name: proportion, dtype: object\n"
     ]
    }
   ],
   "source": [
    "# Calculate loan approval rate\n",
    "loan_approval_rate = Loan_Dataset['Loan_Status'].value_counts(normalize=True) * 100\n",
    "\n",
    "# Rounding to one decimal place and format as percentage\n",
    "loan_approval_rate = loan_approval_rate.round(1).astype(str) + '%'\n",
    "\n",
    "print(\"\\nLoan Approval Rate:\")\n",
    "print(loan_approval_rate)\n"
   ]
  },
  {
   "cell_type": "code",
   "execution_count": 155,
   "id": "843fef5e-0216-44f2-8034-0dff058ba77d",
   "metadata": {},
   "outputs": [
    {
     "data": {
      "application/vnd.plotly.v1+json": {
       "config": {
        "plotlyServerURL": "https://plot.ly"
       },
       "data": [
        {
         "customdata": [
          [
           "Approved"
          ],
          [
           "Rejected"
          ]
         ],
         "domain": {
          "x": [
           0,
           1
          ],
          "y": [
           0,
           1
          ]
         },
         "hole": 0.4,
         "hovertemplate": "label=%{label}<br>value=%{value}<br>color=%{customdata[0]}<extra></extra>",
         "labels": [
          "Approved",
          "Rejected"
         ],
         "legendgroup": "",
         "marker": {
          "colors": [
           "rgb(102, 197, 204)",
           "rgb(246, 207, 113)"
          ]
         },
         "name": "",
         "pull": [
          0.1,
          0
         ],
         "showlegend": true,
         "textinfo": "percent+label",
         "textposition": "inside",
         "type": "pie",
         "values": [
          68.77897990726429,
          31.221020092735703
         ]
        }
       ],
       "layout": {
        "autosize": true,
        "font": {
         "size": 14
        },
        "legend": {
         "tracegroupgap": 0
        },
        "piecolorway": [
         "rgb(102, 197, 204)",
         "rgb(246, 207, 113)",
         "rgb(248, 156, 116)",
         "rgb(220, 176, 242)",
         "rgb(135, 197, 95)",
         "rgb(158, 185, 243)",
         "rgb(254, 136, 177)",
         "rgb(201, 219, 116)",
         "rgb(139, 224, 164)",
         "rgb(180, 151, 231)",
         "rgb(179, 179, 179)"
        ],
        "showlegend": false,
        "template": {
         "data": {
          "bar": [
           {
            "error_x": {
             "color": "#2a3f5f"
            },
            "error_y": {
             "color": "#2a3f5f"
            },
            "marker": {
             "line": {
              "color": "#E5ECF6",
              "width": 0.5
             },
             "pattern": {
              "fillmode": "overlay",
              "size": 10,
              "solidity": 0.2
             }
            },
            "type": "bar"
           }
          ],
          "barpolar": [
           {
            "marker": {
             "line": {
              "color": "#E5ECF6",
              "width": 0.5
             },
             "pattern": {
              "fillmode": "overlay",
              "size": 10,
              "solidity": 0.2
             }
            },
            "type": "barpolar"
           }
          ],
          "carpet": [
           {
            "aaxis": {
             "endlinecolor": "#2a3f5f",
             "gridcolor": "white",
             "linecolor": "white",
             "minorgridcolor": "white",
             "startlinecolor": "#2a3f5f"
            },
            "baxis": {
             "endlinecolor": "#2a3f5f",
             "gridcolor": "white",
             "linecolor": "white",
             "minorgridcolor": "white",
             "startlinecolor": "#2a3f5f"
            },
            "type": "carpet"
           }
          ],
          "choropleth": [
           {
            "colorbar": {
             "outlinewidth": 0,
             "ticks": ""
            },
            "type": "choropleth"
           }
          ],
          "contour": [
           {
            "colorbar": {
             "outlinewidth": 0,
             "ticks": ""
            },
            "colorscale": [
             [
              0,
              "#0d0887"
             ],
             [
              0.1111111111111111,
              "#46039f"
             ],
             [
              0.2222222222222222,
              "#7201a8"
             ],
             [
              0.3333333333333333,
              "#9c179e"
             ],
             [
              0.4444444444444444,
              "#bd3786"
             ],
             [
              0.5555555555555556,
              "#d8576b"
             ],
             [
              0.6666666666666666,
              "#ed7953"
             ],
             [
              0.7777777777777778,
              "#fb9f3a"
             ],
             [
              0.8888888888888888,
              "#fdca26"
             ],
             [
              1,
              "#f0f921"
             ]
            ],
            "type": "contour"
           }
          ],
          "contourcarpet": [
           {
            "colorbar": {
             "outlinewidth": 0,
             "ticks": ""
            },
            "type": "contourcarpet"
           }
          ],
          "heatmap": [
           {
            "colorbar": {
             "outlinewidth": 0,
             "ticks": ""
            },
            "colorscale": [
             [
              0,
              "#0d0887"
             ],
             [
              0.1111111111111111,
              "#46039f"
             ],
             [
              0.2222222222222222,
              "#7201a8"
             ],
             [
              0.3333333333333333,
              "#9c179e"
             ],
             [
              0.4444444444444444,
              "#bd3786"
             ],
             [
              0.5555555555555556,
              "#d8576b"
             ],
             [
              0.6666666666666666,
              "#ed7953"
             ],
             [
              0.7777777777777778,
              "#fb9f3a"
             ],
             [
              0.8888888888888888,
              "#fdca26"
             ],
             [
              1,
              "#f0f921"
             ]
            ],
            "type": "heatmap"
           }
          ],
          "heatmapgl": [
           {
            "colorbar": {
             "outlinewidth": 0,
             "ticks": ""
            },
            "colorscale": [
             [
              0,
              "#0d0887"
             ],
             [
              0.1111111111111111,
              "#46039f"
             ],
             [
              0.2222222222222222,
              "#7201a8"
             ],
             [
              0.3333333333333333,
              "#9c179e"
             ],
             [
              0.4444444444444444,
              "#bd3786"
             ],
             [
              0.5555555555555556,
              "#d8576b"
             ],
             [
              0.6666666666666666,
              "#ed7953"
             ],
             [
              0.7777777777777778,
              "#fb9f3a"
             ],
             [
              0.8888888888888888,
              "#fdca26"
             ],
             [
              1,
              "#f0f921"
             ]
            ],
            "type": "heatmapgl"
           }
          ],
          "histogram": [
           {
            "marker": {
             "pattern": {
              "fillmode": "overlay",
              "size": 10,
              "solidity": 0.2
             }
            },
            "type": "histogram"
           }
          ],
          "histogram2d": [
           {
            "colorbar": {
             "outlinewidth": 0,
             "ticks": ""
            },
            "colorscale": [
             [
              0,
              "#0d0887"
             ],
             [
              0.1111111111111111,
              "#46039f"
             ],
             [
              0.2222222222222222,
              "#7201a8"
             ],
             [
              0.3333333333333333,
              "#9c179e"
             ],
             [
              0.4444444444444444,
              "#bd3786"
             ],
             [
              0.5555555555555556,
              "#d8576b"
             ],
             [
              0.6666666666666666,
              "#ed7953"
             ],
             [
              0.7777777777777778,
              "#fb9f3a"
             ],
             [
              0.8888888888888888,
              "#fdca26"
             ],
             [
              1,
              "#f0f921"
             ]
            ],
            "type": "histogram2d"
           }
          ],
          "histogram2dcontour": [
           {
            "colorbar": {
             "outlinewidth": 0,
             "ticks": ""
            },
            "colorscale": [
             [
              0,
              "#0d0887"
             ],
             [
              0.1111111111111111,
              "#46039f"
             ],
             [
              0.2222222222222222,
              "#7201a8"
             ],
             [
              0.3333333333333333,
              "#9c179e"
             ],
             [
              0.4444444444444444,
              "#bd3786"
             ],
             [
              0.5555555555555556,
              "#d8576b"
             ],
             [
              0.6666666666666666,
              "#ed7953"
             ],
             [
              0.7777777777777778,
              "#fb9f3a"
             ],
             [
              0.8888888888888888,
              "#fdca26"
             ],
             [
              1,
              "#f0f921"
             ]
            ],
            "type": "histogram2dcontour"
           }
          ],
          "mesh3d": [
           {
            "colorbar": {
             "outlinewidth": 0,
             "ticks": ""
            },
            "type": "mesh3d"
           }
          ],
          "parcoords": [
           {
            "line": {
             "colorbar": {
              "outlinewidth": 0,
              "ticks": ""
             }
            },
            "type": "parcoords"
           }
          ],
          "pie": [
           {
            "automargin": true,
            "type": "pie"
           }
          ],
          "scatter": [
           {
            "fillpattern": {
             "fillmode": "overlay",
             "size": 10,
             "solidity": 0.2
            },
            "type": "scatter"
           }
          ],
          "scatter3d": [
           {
            "line": {
             "colorbar": {
              "outlinewidth": 0,
              "ticks": ""
             }
            },
            "marker": {
             "colorbar": {
              "outlinewidth": 0,
              "ticks": ""
             }
            },
            "type": "scatter3d"
           }
          ],
          "scattercarpet": [
           {
            "marker": {
             "colorbar": {
              "outlinewidth": 0,
              "ticks": ""
             }
            },
            "type": "scattercarpet"
           }
          ],
          "scattergeo": [
           {
            "marker": {
             "colorbar": {
              "outlinewidth": 0,
              "ticks": ""
             }
            },
            "type": "scattergeo"
           }
          ],
          "scattergl": [
           {
            "marker": {
             "colorbar": {
              "outlinewidth": 0,
              "ticks": ""
             }
            },
            "type": "scattergl"
           }
          ],
          "scattermapbox": [
           {
            "marker": {
             "colorbar": {
              "outlinewidth": 0,
              "ticks": ""
             }
            },
            "type": "scattermapbox"
           }
          ],
          "scatterpolar": [
           {
            "marker": {
             "colorbar": {
              "outlinewidth": 0,
              "ticks": ""
             }
            },
            "type": "scatterpolar"
           }
          ],
          "scatterpolargl": [
           {
            "marker": {
             "colorbar": {
              "outlinewidth": 0,
              "ticks": ""
             }
            },
            "type": "scatterpolargl"
           }
          ],
          "scatterternary": [
           {
            "marker": {
             "colorbar": {
              "outlinewidth": 0,
              "ticks": ""
             }
            },
            "type": "scatterternary"
           }
          ],
          "surface": [
           {
            "colorbar": {
             "outlinewidth": 0,
             "ticks": ""
            },
            "colorscale": [
             [
              0,
              "#0d0887"
             ],
             [
              0.1111111111111111,
              "#46039f"
             ],
             [
              0.2222222222222222,
              "#7201a8"
             ],
             [
              0.3333333333333333,
              "#9c179e"
             ],
             [
              0.4444444444444444,
              "#bd3786"
             ],
             [
              0.5555555555555556,
              "#d8576b"
             ],
             [
              0.6666666666666666,
              "#ed7953"
             ],
             [
              0.7777777777777778,
              "#fb9f3a"
             ],
             [
              0.8888888888888888,
              "#fdca26"
             ],
             [
              1,
              "#f0f921"
             ]
            ],
            "type": "surface"
           }
          ],
          "table": [
           {
            "cells": {
             "fill": {
              "color": "#EBF0F8"
             },
             "line": {
              "color": "white"
             }
            },
            "header": {
             "fill": {
              "color": "#C8D4E3"
             },
             "line": {
              "color": "white"
             }
            },
            "type": "table"
           }
          ]
         },
         "layout": {
          "annotationdefaults": {
           "arrowcolor": "#2a3f5f",
           "arrowhead": 0,
           "arrowwidth": 1
          },
          "autotypenumbers": "strict",
          "coloraxis": {
           "colorbar": {
            "outlinewidth": 0,
            "ticks": ""
           }
          },
          "colorscale": {
           "diverging": [
            [
             0,
             "#8e0152"
            ],
            [
             0.1,
             "#c51b7d"
            ],
            [
             0.2,
             "#de77ae"
            ],
            [
             0.3,
             "#f1b6da"
            ],
            [
             0.4,
             "#fde0ef"
            ],
            [
             0.5,
             "#f7f7f7"
            ],
            [
             0.6,
             "#e6f5d0"
            ],
            [
             0.7,
             "#b8e186"
            ],
            [
             0.8,
             "#7fbc41"
            ],
            [
             0.9,
             "#4d9221"
            ],
            [
             1,
             "#276419"
            ]
           ],
           "sequential": [
            [
             0,
             "#0d0887"
            ],
            [
             0.1111111111111111,
             "#46039f"
            ],
            [
             0.2222222222222222,
             "#7201a8"
            ],
            [
             0.3333333333333333,
             "#9c179e"
            ],
            [
             0.4444444444444444,
             "#bd3786"
            ],
            [
             0.5555555555555556,
             "#d8576b"
            ],
            [
             0.6666666666666666,
             "#ed7953"
            ],
            [
             0.7777777777777778,
             "#fb9f3a"
            ],
            [
             0.8888888888888888,
             "#fdca26"
            ],
            [
             1,
             "#f0f921"
            ]
           ],
           "sequentialminus": [
            [
             0,
             "#0d0887"
            ],
            [
             0.1111111111111111,
             "#46039f"
            ],
            [
             0.2222222222222222,
             "#7201a8"
            ],
            [
             0.3333333333333333,
             "#9c179e"
            ],
            [
             0.4444444444444444,
             "#bd3786"
            ],
            [
             0.5555555555555556,
             "#d8576b"
            ],
            [
             0.6666666666666666,
             "#ed7953"
            ],
            [
             0.7777777777777778,
             "#fb9f3a"
            ],
            [
             0.8888888888888888,
             "#fdca26"
            ],
            [
             1,
             "#f0f921"
            ]
           ]
          },
          "colorway": [
           "#636efa",
           "#EF553B",
           "#00cc96",
           "#ab63fa",
           "#FFA15A",
           "#19d3f3",
           "#FF6692",
           "#B6E880",
           "#FF97FF",
           "#FECB52"
          ],
          "font": {
           "color": "#2a3f5f"
          },
          "geo": {
           "bgcolor": "white",
           "lakecolor": "white",
           "landcolor": "#E5ECF6",
           "showlakes": true,
           "showland": true,
           "subunitcolor": "white"
          },
          "hoverlabel": {
           "align": "left"
          },
          "hovermode": "closest",
          "mapbox": {
           "style": "light"
          },
          "paper_bgcolor": "white",
          "plot_bgcolor": "#E5ECF6",
          "polar": {
           "angularaxis": {
            "gridcolor": "white",
            "linecolor": "white",
            "ticks": ""
           },
           "bgcolor": "#E5ECF6",
           "radialaxis": {
            "gridcolor": "white",
            "linecolor": "white",
            "ticks": ""
           }
          },
          "scene": {
           "xaxis": {
            "backgroundcolor": "#E5ECF6",
            "gridcolor": "white",
            "gridwidth": 2,
            "linecolor": "white",
            "showbackground": true,
            "ticks": "",
            "zerolinecolor": "white"
           },
           "yaxis": {
            "backgroundcolor": "#E5ECF6",
            "gridcolor": "white",
            "gridwidth": 2,
            "linecolor": "white",
            "showbackground": true,
            "ticks": "",
            "zerolinecolor": "white"
           },
           "zaxis": {
            "backgroundcolor": "#E5ECF6",
            "gridcolor": "white",
            "gridwidth": 2,
            "linecolor": "white",
            "showbackground": true,
            "ticks": "",
            "zerolinecolor": "white"
           }
          },
          "shapedefaults": {
           "line": {
            "color": "#2a3f5f"
           }
          },
          "ternary": {
           "aaxis": {
            "gridcolor": "white",
            "linecolor": "white",
            "ticks": ""
           },
           "baxis": {
            "gridcolor": "white",
            "linecolor": "white",
            "ticks": ""
           },
           "bgcolor": "#E5ECF6",
           "caxis": {
            "gridcolor": "white",
            "linecolor": "white",
            "ticks": ""
           }
          },
          "title": {
           "x": 0.05
          },
          "xaxis": {
           "automargin": true,
           "gridcolor": "white",
           "linecolor": "white",
           "ticks": "",
           "title": {
            "standoff": 15
           },
           "zerolinecolor": "white",
           "zerolinewidth": 2
          },
          "yaxis": {
           "automargin": true,
           "gridcolor": "white",
           "linecolor": "white",
           "ticks": "",
           "title": {
            "standoff": 15
           },
           "zerolinecolor": "white",
           "zerolinewidth": 2
          }
         }
        },
        "title": {
         "font": {
          "size": 18
         },
         "text": "Loan Approval Rate",
         "x": 0.5
        }
       }
      },
      "image/png": "[encoded data removed]",
      "text/html": [
       "<div>                            <div id=\"37d1637f-5ff0-47d2-9ae5-bb84887fe833\" class=\"plotly-graph-div\" style=\"height:525px; width:100%;\"></div>            <script type=\"text/javascript\">                require([\"plotly\"], function(Plotly) {                    window.PLOTLYENV=window.PLOTLYENV || {};                                    if (document.getElementById(\"37d1637f-5ff0-47d2-9ae5-bb84887fe833\")) {                    Plotly.newPlot(                        \"37d1637f-5ff0-47d2-9ae5-bb84887fe833\",                        [{\"customdata\":[[\"Approved\"],[\"Rejected\"]],\"domain\":{\"x\":[0.0,1.0],\"y\":[0.0,1.0]},\"hole\":0.4,\"hovertemplate\":\"label=%{label}<br>value=%{value}<br>color=%{customdata[0]}<extra></extra>\",\"labels\":[\"Approved\",\"Rejected\"],\"legendgroup\":\"\",\"marker\":{\"colors\":[\"rgb(102, 197, 204)\",\"rgb(246, 207, 113)\"]},\"name\":\"\",\"showlegend\":true,\"values\":[68.77897990726429,31.221020092735703],\"type\":\"pie\",\"pull\":[0.1,0],\"textinfo\":\"percent+label\",\"textposition\":\"inside\"}],                        {\"template\":{\"data\":{\"histogram2dcontour\":[{\"type\":\"histogram2dcontour\",\"colorbar\":{\"outlinewidth\":0,\"ticks\":\"\"},\"colorscale\":[[0.0,\"#0d0887\"],[0.1111111111111111,\"#46039f\"],[0.2222222222222222,\"#7201a8\"],[0.3333333333333333,\"#9c179e\"],[0.4444444444444444,\"#bd3786\"],[0.5555555555555556,\"#d8576b\"],[0.6666666666666666,\"#ed7953\"],[0.7777777777777778,\"#fb9f3a\"],[0.8888888888888888,\"#fdca26\"],[1.0,\"#f0f921\"]]}],\"choropleth\":[{\"type\":\"choropleth\",\"colorbar\":{\"outlinewidth\":0,\"ticks\":\"\"}}],\"histogram2d\":[{\"type\":\"histogram2d\",\"colorbar\":{\"outlinewidth\":0,\"ticks\":\"\"},\"colorscale\":[[0.0,\"#0d0887\"],[0.1111111111111111,\"#46039f\"],[0.2222222222222222,\"#7201a8\"],[0.3333333333333333,\"#9c179e\"],[0.4444444444444444,\"#bd3786\"],[0.5555555555555556,\"#d8576b\"],[0.6666666666666666,\"#ed7953\"],[0.7777777777777778,\"#fb9f3a\"],[0.8888888888888888,\"#fdca26\"],[1.0,\"#f0f921\"]]}],\"heatmap\":[{\"type\":\"heatmap\",\"colorbar\":{\"outlinewidth\":0,\"ticks\":\"\"},\"colorscale\":[[0.0,\"#0d0887\"],[0.1111111111111111,\"#46039f\"],[0.2222222222222222,\"#7201a8\"],[0.3333333333333333,\"#9c179e\"],[0.4444444444444444,\"#bd3786\"],[0.5555555555555556,\"#d8576b\"],[0.6666666666666666,\"#ed7953\"],[0.7777777777777778,\"#fb9f3a\"],[0.8888888888888888,\"#fdca26\"],[1.0,\"#f0f921\"]]}],\"heatmapgl\":[{\"type\":\"heatmapgl\",\"colorbar\":{\"outlinewidth\":0,\"ticks\":\"\"},\"colorscale\":[[0.0,\"#0d0887\"],[0.1111111111111111,\"#46039f\"],[0.2222222222222222,\"#7201a8\"],[0.3333333333333333,\"#9c179e\"],[0.4444444444444444,\"#bd3786\"],[0.5555555555555556,\"#d8576b\"],[0.6666666666666666,\"#ed7953\"],[0.7777777777777778,\"#fb9f3a\"],[0.8888888888888888,\"#fdca26\"],[1.0,\"#f0f921\"]]}],\"contourcarpet\":[{\"type\":\"contourcarpet\",\"colorbar\":{\"outlinewidth\":0,\"ticks\":\"\"}}],\"contour\":[{\"type\":\"contour\",\"colorbar\":{\"outlinewidth\":0,\"ticks\":\"\"},\"colorscale\":[[0.0,\"#0d0887\"],[0.1111111111111111,\"#46039f\"],[0.2222222222222222,\"#7201a8\"],[0.3333333333333333,\"#9c179e\"],[0.4444444444444444,\"#bd3786\"],[0.5555555555555556,\"#d8576b\"],[0.6666666666666666,\"#ed7953\"],[0.7777777777777778,\"#fb9f3a\"],[0.8888888888888888,\"#fdca26\"],[1.0,\"#f0f921\"]]}],\"surface\":[{\"type\":\"surface\",\"colorbar\":{\"outlinewidth\":0,\"ticks\":\"\"},\"colorscale\":[[0.0,\"#0d0887\"],[0.1111111111111111,\"#46039f\"],[0.2222222222222222,\"#7201a8\"],[0.3333333333333333,\"#9c179e\"],[0.4444444444444444,\"#bd3786\"],[0.5555555555555556,\"#d8576b\"],[0.6666666666666666,\"#ed7953\"],[0.7777777777777778,\"#fb9f3a\"],[0.8888888888888888,\"#fdca26\"],[1.0,\"#f0f921\"]]}],\"mesh3d\":[{\"type\":\"mesh3d\",\"colorbar\":{\"outlinewidth\":0,\"ticks\":\"\"}}],\"scatter\":[{\"fillpattern\":{\"fillmode\":\"overlay\",\"size\":10,\"solidity\":0.2},\"type\":\"scatter\"}],\"parcoords\":[{\"type\":\"parcoords\",\"line\":{\"colorbar\":{\"outlinewidth\":0,\"ticks\":\"\"}}}],\"scatterpolargl\":[{\"type\":\"scatterpolargl\",\"marker\":{\"colorbar\":{\"outlinewidth\":0,\"ticks\":\"\"}}}],\"bar\":[{\"error_x\":{\"color\":\"#2a3f5f\"},\"error_y\":{\"color\":\"#2a3f5f\"},\"marker\":{\"line\":{\"color\":\"#E5ECF6\",\"width\":0.5},\"pattern\":{\"fillmode\":\"overlay\",\"size\":10,\"solidity\":0.2}},\"type\":\"bar\"}],\"scattergeo\":[{\"type\":\"scattergeo\",\"marker\":{\"colorbar\":{\"outlinewidth\":0,\"ticks\":\"\"}}}],\"scatterpolar\":[{\"type\":\"scatterpolar\",\"marker\":{\"colorbar\":{\"outlinewidth\":0,\"ticks\":\"\"}}}],\"histogram\":[{\"marker\":{\"pattern\":{\"fillmode\":\"overlay\",\"size\":10,\"solidity\":0.2}},\"type\":\"histogram\"}],\"scattergl\":[{\"type\":\"scattergl\",\"marker\":{\"colorbar\":{\"outlinewidth\":0,\"ticks\":\"\"}}}],\"scatter3d\":[{\"type\":\"scatter3d\",\"line\":{\"colorbar\":{\"outlinewidth\":0,\"ticks\":\"\"}},\"marker\":{\"colorbar\":{\"outlinewidth\":0,\"ticks\":\"\"}}}],\"scattermapbox\":[{\"type\":\"scattermapbox\",\"marker\":{\"colorbar\":{\"outlinewidth\":0,\"ticks\":\"\"}}}],\"scatterternary\":[{\"type\":\"scatterternary\",\"marker\":{\"colorbar\":{\"outlinewidth\":0,\"ticks\":\"\"}}}],\"scattercarpet\":[{\"type\":\"scattercarpet\",\"marker\":{\"colorbar\":{\"outlinewidth\":0,\"ticks\":\"\"}}}],\"carpet\":[{\"aaxis\":{\"endlinecolor\":\"#2a3f5f\",\"gridcolor\":\"white\",\"linecolor\":\"white\",\"minorgridcolor\":\"white\",\"startlinecolor\":\"#2a3f5f\"},\"baxis\":{\"endlinecolor\":\"#2a3f5f\",\"gridcolor\":\"white\",\"linecolor\":\"white\",\"minorgridcolor\":\"white\",\"startlinecolor\":\"#2a3f5f\"},\"type\":\"carpet\"}],\"table\":[{\"cells\":{\"fill\":{\"color\":\"#EBF0F8\"},\"line\":{\"color\":\"white\"}},\"header\":{\"fill\":{\"color\":\"#C8D4E3\"},\"line\":{\"color\":\"white\"}},\"type\":\"table\"}],\"barpolar\":[{\"marker\":{\"line\":{\"color\":\"#E5ECF6\",\"width\":0.5},\"pattern\":{\"fillmode\":\"overlay\",\"size\":10,\"solidity\":0.2}},\"type\":\"barpolar\"}],\"pie\":[{\"automargin\":true,\"type\":\"pie\"}]},\"layout\":{\"autotypenumbers\":\"strict\",\"colorway\":[\"#636efa\",\"#EF553B\",\"#00cc96\",\"#ab63fa\",\"#FFA15A\",\"#19d3f3\",\"#FF6692\",\"#B6E880\",\"#FF97FF\",\"#FECB52\"],\"font\":{\"color\":\"#2a3f5f\"},\"hovermode\":\"closest\",\"hoverlabel\":{\"align\":\"left\"},\"paper_bgcolor\":\"white\",\"plot_bgcolor\":\"#E5ECF6\",\"polar\":{\"bgcolor\":\"#E5ECF6\",\"angularaxis\":{\"gridcolor\":\"white\",\"linecolor\":\"white\",\"ticks\":\"\"},\"radialaxis\":{\"gridcolor\":\"white\",\"linecolor\":\"white\",\"ticks\":\"\"}},\"ternary\":{\"bgcolor\":\"#E5ECF6\",\"aaxis\":{\"gridcolor\":\"white\",\"linecolor\":\"white\",\"ticks\":\"\"},\"baxis\":{\"gridcolor\":\"white\",\"linecolor\":\"white\",\"ticks\":\"\"},\"caxis\":{\"gridcolor\":\"white\",\"linecolor\":\"white\",\"ticks\":\"\"}},\"coloraxis\":{\"colorbar\":{\"outlinewidth\":0,\"ticks\":\"\"}},\"colorscale\":{\"sequential\":[[0.0,\"#0d0887\"],[0.1111111111111111,\"#46039f\"],[0.2222222222222222,\"#7201a8\"],[0.3333333333333333,\"#9c179e\"],[0.4444444444444444,\"#bd3786\"],[0.5555555555555556,\"#d8576b\"],[0.6666666666666666,\"#ed7953\"],[0.7777777777777778,\"#fb9f3a\"],[0.8888888888888888,\"#fdca26\"],[1.0,\"#f0f921\"]],\"sequentialminus\":[[0.0,\"#0d0887\"],[0.1111111111111111,\"#46039f\"],[0.2222222222222222,\"#7201a8\"],[0.3333333333333333,\"#9c179e\"],[0.4444444444444444,\"#bd3786\"],[0.5555555555555556,\"#d8576b\"],[0.6666666666666666,\"#ed7953\"],[0.7777777777777778,\"#fb9f3a\"],[0.8888888888888888,\"#fdca26\"],[1.0,\"#f0f921\"]],\"diverging\":[[0,\"#8e0152\"],[0.1,\"#c51b7d\"],[0.2,\"#de77ae\"],[0.3,\"#f1b6da\"],[0.4,\"#fde0ef\"],[0.5,\"#f7f7f7\"],[0.6,\"#e6f5d0\"],[0.7,\"#b8e186\"],[0.8,\"#7fbc41\"],[0.9,\"#4d9221\"],[1,\"#276419\"]]},\"xaxis\":{\"gridcolor\":\"white\",\"linecolor\":\"white\",\"ticks\":\"\",\"title\":{\"standoff\":15},\"zerolinecolor\":\"white\",\"automargin\":true,\"zerolinewidth\":2},\"yaxis\":{\"gridcolor\":\"white\",\"linecolor\":\"white\",\"ticks\":\"\",\"title\":{\"standoff\":15},\"zerolinecolor\":\"white\",\"automargin\":true,\"zerolinewidth\":2},\"scene\":{\"xaxis\":{\"backgroundcolor\":\"#E5ECF6\",\"gridcolor\":\"white\",\"linecolor\":\"white\",\"showbackground\":true,\"ticks\":\"\",\"zerolinecolor\":\"white\",\"gridwidth\":2},\"yaxis\":{\"backgroundcolor\":\"#E5ECF6\",\"gridcolor\":\"white\",\"linecolor\":\"white\",\"showbackground\":true,\"ticks\":\"\",\"zerolinecolor\":\"white\",\"gridwidth\":2},\"zaxis\":{\"backgroundcolor\":\"#E5ECF6\",\"gridcolor\":\"white\",\"linecolor\":\"white\",\"showbackground\":true,\"ticks\":\"\",\"zerolinecolor\":\"white\",\"gridwidth\":2}},\"shapedefaults\":{\"line\":{\"color\":\"#2a3f5f\"}},\"annotationdefaults\":{\"arrowcolor\":\"#2a3f5f\",\"arrowhead\":0,\"arrowwidth\":1},\"geo\":{\"bgcolor\":\"white\",\"landcolor\":\"#E5ECF6\",\"subunitcolor\":\"white\",\"showland\":true,\"showlakes\":true,\"lakecolor\":\"white\"},\"title\":{\"x\":0.05},\"mapbox\":{\"style\":\"light\"}}},\"legend\":{\"tracegroupgap\":0},\"title\":{\"text\":\"Loan Approval Rate\",\"font\":{\"size\":18},\"x\":0.5},\"piecolorway\":[\"rgb(102, 197, 204)\",\"rgb(246, 207, 113)\",\"rgb(248, 156, 116)\",\"rgb(220, 176, 242)\",\"rgb(135, 197, 95)\",\"rgb(158, 185, 243)\",\"rgb(254, 136, 177)\",\"rgb(201, 219, 116)\",\"rgb(139, 224, 164)\",\"rgb(180, 151, 231)\",\"rgb(179, 179, 179)\"],\"font\":{\"size\":14},\"showlegend\":false},                        {\"responsive\": true}                    ).then(function(){\n",
       "                            \n",
       "var gd = document.getElementById('37d1637f-5ff0-47d2-9ae5-bb84887fe833');\n",
       "var x = new MutationObserver(function (mutations, observer) {{\n",
       "        var display = window.getComputedStyle(gd).display;\n",
       "        if (!display || display === 'none') {{\n",
       "            console.log([gd, 'removed!']);\n",
       "            Plotly.purge(gd);\n",
       "            observer.disconnect();\n",
       "        }}\n",
       "}});\n",
       "\n",
       "// Listen for the removal of the full notebook cells\n",
       "var notebookContainer = gd.closest('#notebook-container');\n",
       "if (notebookContainer) {{\n",
       "    x.observe(notebookContainer, {childList: true});\n",
       "}}\n",
       "\n",
       "// Listen for the clearing of the current output cell\n",
       "var outputEl = gd.closest('.output');\n",
       "if (outputEl) {{\n",
       "    x.observe(outputEl, {childList: true});\n",
       "}}\n",
       "\n",
       "                        })                };                });            </script>        </div>"
      ]
     },
     "metadata": {},
     "output_type": "display_data"
    }
   ],
   "source": [
    "import plotly.express as px\n",
    "\n",
    "# Calculating loan approval rate\n",
    "loan_approval_rate = Loan_Dataset['Loan_Status'].value_counts(normalize=True) * 100\n",
    "\n",
    "# Creating an interactive pie chart\n",
    "fig = px.pie(values=loan_approval_rate.values, names=loan_approval_rate.index, \n",
    "             title='Loan Approval Rate', \n",
    "             color=loan_approval_rate.index, \n",
    "             color_discrete_sequence=px.colors.qualitative.Pastel,\n",
    "             hole=0.4)  \n",
    "\n",
    "# Updating layout for better styling\n",
    "fig.update_traces(textposition='inside', textinfo='percent+label', pull=[0.1, 0]) \n",
    "fig.update_layout(font_size=14, title_font_size=18, title_x=0.5, showlegend=False)\n",
    "\n",
    "\n",
    "fig.show()"
   ]
  },
  {
   "cell_type": "markdown",
   "id": "4232aa1c-d2ed-4dbb-8260-52d562aee846",
   "metadata": {},
   "source": [
    "#### 2. Impact of Credit History on Loan Approval\r",
    "Let's analyze how credit history affects loan approval."
   ]
  },
  {
   "cell_type": "code",
   "execution_count": 156,
   "id": "71635ee0-ee00-4046-8e30-d502bd00d9a8",
   "metadata": {
    "scrolled": true
   },
   "outputs": [
    {
     "name": "stdout",
     "output_type": "stream",
     "text": [
      "\n",
      "Impact of Credit History on Loan Approval:\n",
      "Loan_Status     Rejected  Approved Approval_Rate Total_Percentage\n",
      "Credit_History                                                   \n",
      "No                   100        45         31.0%            22.4%\n",
      "Yes                  102       400         79.7%            77.6%\n"
     ]
    }
   ],
   "source": [
    "# Groupping by Credit_History and Loan_Status\n",
    "credit_history_impact = Loan_Dataset.groupby(['Credit_History', 'Loan_Status']).size().unstack()\n",
    "\n",
    "# Calculating the percentage of approvals for each credit history category\n",
    "credit_history_impact['Approval_Rate'] = (credit_history_impact['Approved'] / (credit_history_impact['Approved'] + credit_history_impact['Rejected'])) * 100\n",
    "\n",
    "# Calculating the percentage of total loans for each credit history category\n",
    "credit_history_impact['Total_Percentage'] = ((credit_history_impact['Approved'] + credit_history_impact['Rejected']) / (credit_history_impact['Approved'].sum() + credit_history_impact['Rejected'].sum())) * 100\n",
    "\n",
    "# Round to one decimal point and add percentage sign\n",
    "credit_history_impact['Approval_Rate'] = credit_history_impact['Approval_Rate'].round(1).astype(str) + '%'\n",
    "credit_history_impact['Total_Percentage'] = credit_history_impact['Total_Percentage'].round(1).astype(str) + '%'\n",
    "\n",
    "print(\"\\nImpact of Credit History on Loan Approval:\")\n",
    "print(credit_history_impact)"
   ]
  },
  {
   "cell_type": "code",
   "execution_count": 157,
   "id": "f615c2fa-d88b-4ce7-ad4a-87c362744140",
   "metadata": {},
   "outputs": [
    {
     "data": {
      "application/vnd.plotly.v1+json": {
       "config": {
        "plotlyServerURL": "https://plot.ly"
       },
       "data": [
        {
         "alignmentgroup": "True",
         "hovertemplate": "Credit_History=%{x}<br>Approval_Rate=%{y}<br>text=%{text}<extra></extra>",
         "legendgroup": "No",
         "marker": {
          "color": "rgb(229, 134, 6)",
          "pattern": {
           "shape": ""
          }
         },
         "name": "No",
         "offsetgroup": "No",
         "orientation": "v",
         "showlegend": true,
         "text": [
          "31.0%"
         ],
         "textposition": "outside",
         "type": "bar",
         "x": [
          "No"
         ],
         "xaxis": "x",
         "y": [
          31
         ],
         "yaxis": "y"
        },
        {
         "alignmentgroup": "True",
         "hovertemplate": "Credit_History=%{x}<br>Approval_Rate=%{y}<br>text=%{text}<extra></extra>",
         "legendgroup": "Yes",
         "marker": {
          "color": "rgb(93, 105, 177)",
          "pattern": {
           "shape": ""
          }
         },
         "name": "Yes",
         "offsetgroup": "Yes",
         "orientation": "v",
         "showlegend": true,
         "text": [
          "79.7%"
         ],
         "textposition": "outside",
         "type": "bar",
         "x": [
          "Yes"
         ],
         "xaxis": "x",
         "y": [
          79.7
         ],
         "yaxis": "y"
        }
       ],
       "layout": {
        "autosize": true,
        "barmode": "relative",
        "font": {
         "size": 14
        },
        "legend": {
         "title": {
          "text": "Credit_History"
         },
         "tracegroupgap": 0
        },
        "showlegend": false,
        "template": {
         "data": {
          "bar": [
           {
            "error_x": {
             "color": "#2a3f5f"
            },
            "error_y": {
             "color": "#2a3f5f"
            },
            "marker": {
             "line": {
              "color": "#E5ECF6",
              "width": 0.5
             },
             "pattern": {
              "fillmode": "overlay",
              "size": 10,
              "solidity": 0.2
             }
            },
            "type": "bar"
           }
          ],
          "barpolar": [
           {
            "marker": {
             "line": {
              "color": "#E5ECF6",
              "width": 0.5
             },
             "pattern": {
              "fillmode": "overlay",
              "size": 10,
              "solidity": 0.2
             }
            },
            "type": "barpolar"
           }
          ],
          "carpet": [
           {
            "aaxis": {
             "endlinecolor": "#2a3f5f",
             "gridcolor": "white",
             "linecolor": "white",
             "minorgridcolor": "white",
             "startlinecolor": "#2a3f5f"
            },
            "baxis": {
             "endlinecolor": "#2a3f5f",
             "gridcolor": "white",
             "linecolor": "white",
             "minorgridcolor": "white",
             "startlinecolor": "#2a3f5f"
            },
            "type": "carpet"
           }
          ],
          "choropleth": [
           {
            "colorbar": {
             "outlinewidth": 0,
             "ticks": ""
            },
            "type": "choropleth"
           }
          ],
          "contour": [
           {
            "colorbar": {
             "outlinewidth": 0,
             "ticks": ""
            },
            "colorscale": [
             [
              0,
              "#0d0887"
             ],
             [
              0.1111111111111111,
              "#46039f"
             ],
             [
              0.2222222222222222,
              "#7201a8"
             ],
             [
              0.3333333333333333,
              "#9c179e"
             ],
             [
              0.4444444444444444,
              "#bd3786"
             ],
             [
              0.5555555555555556,
              "#d8576b"
             ],
             [
              0.6666666666666666,
              "#ed7953"
             ],
             [
              0.7777777777777778,
              "#fb9f3a"
             ],
             [
              0.8888888888888888,
              "#fdca26"
             ],
             [
              1,
              "#f0f921"
             ]
            ],
            "type": "contour"
           }
          ],
          "contourcarpet": [
           {
            "colorbar": {
             "outlinewidth": 0,
             "ticks": ""
            },
            "type": "contourcarpet"
           }
          ],
          "heatmap": [
           {
            "colorbar": {
             "outlinewidth": 0,
             "ticks": ""
            },
            "colorscale": [
             [
              0,
              "#0d0887"
             ],
             [
              0.1111111111111111,
              "#46039f"
             ],
             [
              0.2222222222222222,
              "#7201a8"
             ],
             [
              0.3333333333333333,
              "#9c179e"
             ],
             [
              0.4444444444444444,
              "#bd3786"
             ],
             [
              0.5555555555555556,
              "#d8576b"
             ],
             [
              0.6666666666666666,
              "#ed7953"
             ],
             [
              0.7777777777777778,
              "#fb9f3a"
             ],
             [
              0.8888888888888888,
              "#fdca26"
             ],
             [
              1,
              "#f0f921"
             ]
            ],
            "type": "heatmap"
           }
          ],
          "heatmapgl": [
           {
            "colorbar": {
             "outlinewidth": 0,
             "ticks": ""
            },
            "colorscale": [
             [
              0,
              "#0d0887"
             ],
             [
              0.1111111111111111,
              "#46039f"
             ],
             [
              0.2222222222222222,
              "#7201a8"
             ],
             [
              0.3333333333333333,
              "#9c179e"
             ],
             [
              0.4444444444444444,
              "#bd3786"
             ],
             [
              0.5555555555555556,
              "#d8576b"
             ],
             [
              0.6666666666666666,
              "#ed7953"
             ],
             [
              0.7777777777777778,
              "#fb9f3a"
             ],
             [
              0.8888888888888888,
              "#fdca26"
             ],
             [
              1,
              "#f0f921"
             ]
            ],
            "type": "heatmapgl"
           }
          ],
          "histogram": [
           {
            "marker": {
             "pattern": {
              "fillmode": "overlay",
              "size": 10,
              "solidity": 0.2
             }
            },
            "type": "histogram"
           }
          ],
          "histogram2d": [
           {
            "colorbar": {
             "outlinewidth": 0,
             "ticks": ""
            },
            "colorscale": [
             [
              0,
              "#0d0887"
             ],
             [
              0.1111111111111111,
              "#46039f"
             ],
             [
              0.2222222222222222,
              "#7201a8"
             ],
             [
              0.3333333333333333,
              "#9c179e"
             ],
             [
              0.4444444444444444,
              "#bd3786"
             ],
             [
              0.5555555555555556,
              "#d8576b"
             ],
             [
              0.6666666666666666,
              "#ed7953"
             ],
             [
              0.7777777777777778,
              "#fb9f3a"
             ],
             [
              0.8888888888888888,
              "#fdca26"
             ],
             [
              1,
              "#f0f921"
             ]
            ],
            "type": "histogram2d"
           }
          ],
          "histogram2dcontour": [
           {
            "colorbar": {
             "outlinewidth": 0,
             "ticks": ""
            },
            "colorscale": [
             [
              0,
              "#0d0887"
             ],
             [
              0.1111111111111111,
              "#46039f"
             ],
             [
              0.2222222222222222,
              "#7201a8"
             ],
             [
              0.3333333333333333,
              "#9c179e"
             ],
             [
              0.4444444444444444,
              "#bd3786"
             ],
             [
              0.5555555555555556,
              "#d8576b"
             ],
             [
              0.6666666666666666,
              "#ed7953"
             ],
             [
              0.7777777777777778,
              "#fb9f3a"
             ],
             [
              0.8888888888888888,
              "#fdca26"
             ],
             [
              1,
              "#f0f921"
             ]
            ],
            "type": "histogram2dcontour"
           }
          ],
          "mesh3d": [
           {
            "colorbar": {
             "outlinewidth": 0,
             "ticks": ""
            },
            "type": "mesh3d"
           }
          ],
          "parcoords": [
           {
            "line": {
             "colorbar": {
              "outlinewidth": 0,
              "ticks": ""
             }
            },
            "type": "parcoords"
           }
          ],
          "pie": [
           {
            "automargin": true,
            "type": "pie"
           }
          ],
          "scatter": [
           {
            "fillpattern": {
             "fillmode": "overlay",
             "size": 10,
             "solidity": 0.2
            },
            "type": "scatter"
           }
          ],
          "scatter3d": [
           {
            "line": {
             "colorbar": {
              "outlinewidth": 0,
              "ticks": ""
             }
            },
            "marker": {
             "colorbar": {
              "outlinewidth": 0,
              "ticks": ""
             }
            },
            "type": "scatter3d"
           }
          ],
          "scattercarpet": [
           {
            "marker": {
             "colorbar": {
              "outlinewidth": 0,
              "ticks": ""
             }
            },
            "type": "scattercarpet"
           }
          ],
          "scattergeo": [
           {
            "marker": {
             "colorbar": {
              "outlinewidth": 0,
              "ticks": ""
             }
            },
            "type": "scattergeo"
           }
          ],
          "scattergl": [
           {
            "marker": {
             "colorbar": {
              "outlinewidth": 0,
              "ticks": ""
             }
            },
            "type": "scattergl"
           }
          ],
          "scattermapbox": [
           {
            "marker": {
             "colorbar": {
              "outlinewidth": 0,
              "ticks": ""
             }
            },
            "type": "scattermapbox"
           }
          ],
          "scatterpolar": [
           {
            "marker": {
             "colorbar": {
              "outlinewidth": 0,
              "ticks": ""
             }
            },
            "type": "scatterpolar"
           }
          ],
          "scatterpolargl": [
           {
            "marker": {
             "colorbar": {
              "outlinewidth": 0,
              "ticks": ""
             }
            },
            "type": "scatterpolargl"
           }
          ],
          "scatterternary": [
           {
            "marker": {
             "colorbar": {
              "outlinewidth": 0,
              "ticks": ""
             }
            },
            "type": "scatterternary"
           }
          ],
          "surface": [
           {
            "colorbar": {
             "outlinewidth": 0,
             "ticks": ""
            },
            "colorscale": [
             [
              0,
              "#0d0887"
             ],
             [
              0.1111111111111111,
              "#46039f"
             ],
             [
              0.2222222222222222,
              "#7201a8"
             ],
             [
              0.3333333333333333,
              "#9c179e"
             ],
             [
              0.4444444444444444,
              "#bd3786"
             ],
             [
              0.5555555555555556,
              "#d8576b"
             ],
             [
              0.6666666666666666,
              "#ed7953"
             ],
             [
              0.7777777777777778,
              "#fb9f3a"
             ],
             [
              0.8888888888888888,
              "#fdca26"
             ],
             [
              1,
              "#f0f921"
             ]
            ],
            "type": "surface"
           }
          ],
          "table": [
           {
            "cells": {
             "fill": {
              "color": "#EBF0F8"
             },
             "line": {
              "color": "white"
             }
            },
            "header": {
             "fill": {
              "color": "#C8D4E3"
             },
             "line": {
              "color": "white"
             }
            },
            "type": "table"
           }
          ]
         },
         "layout": {
          "annotationdefaults": {
           "arrowcolor": "#2a3f5f",
           "arrowhead": 0,
           "arrowwidth": 1
          },
          "autotypenumbers": "strict",
          "coloraxis": {
           "colorbar": {
            "outlinewidth": 0,
            "ticks": ""
           }
          },
          "colorscale": {
           "diverging": [
            [
             0,
             "#8e0152"
            ],
            [
             0.1,
             "#c51b7d"
            ],
            [
             0.2,
             "#de77ae"
            ],
            [
             0.3,
             "#f1b6da"
            ],
            [
             0.4,
             "#fde0ef"
            ],
            [
             0.5,
             "#f7f7f7"
            ],
            [
             0.6,
             "#e6f5d0"
            ],
            [
             0.7,
             "#b8e186"
            ],
            [
             0.8,
             "#7fbc41"
            ],
            [
             0.9,
             "#4d9221"
            ],
            [
             1,
             "#276419"
            ]
           ],
           "sequential": [
            [
             0,
             "#0d0887"
            ],
            [
             0.1111111111111111,
             "#46039f"
            ],
            [
             0.2222222222222222,
             "#7201a8"
            ],
            [
             0.3333333333333333,
             "#9c179e"
            ],
            [
             0.4444444444444444,
             "#bd3786"
            ],
            [
             0.5555555555555556,
             "#d8576b"
            ],
            [
             0.6666666666666666,
             "#ed7953"
            ],
            [
             0.7777777777777778,
             "#fb9f3a"
            ],
            [
             0.8888888888888888,
             "#fdca26"
            ],
            [
             1,
             "#f0f921"
            ]
           ],
           "sequentialminus": [
            [
             0,
             "#0d0887"
            ],
            [
             0.1111111111111111,
             "#46039f"
            ],
            [
             0.2222222222222222,
             "#7201a8"
            ],
            [
             0.3333333333333333,
             "#9c179e"
            ],
            [
             0.4444444444444444,
             "#bd3786"
            ],
            [
             0.5555555555555556,
             "#d8576b"
            ],
            [
             0.6666666666666666,
             "#ed7953"
            ],
            [
             0.7777777777777778,
             "#fb9f3a"
            ],
            [
             0.8888888888888888,
             "#fdca26"
            ],
            [
             1,
             "#f0f921"
            ]
           ]
          },
          "colorway": [
           "#636efa",
           "#EF553B",
           "#00cc96",
           "#ab63fa",
           "#FFA15A",
           "#19d3f3",
           "#FF6692",
           "#B6E880",
           "#FF97FF",
           "#FECB52"
          ],
          "font": {
           "color": "#2a3f5f"
          },
          "geo": {
           "bgcolor": "white",
           "lakecolor": "white",
           "landcolor": "#E5ECF6",
           "showlakes": true,
           "showland": true,
           "subunitcolor": "white"
          },
          "hoverlabel": {
           "align": "left"
          },
          "hovermode": "closest",
          "mapbox": {
           "style": "light"
          },
          "paper_bgcolor": "white",
          "plot_bgcolor": "#E5ECF6",
          "polar": {
           "angularaxis": {
            "gridcolor": "white",
            "linecolor": "white",
            "ticks": ""
           },
           "bgcolor": "#E5ECF6",
           "radialaxis": {
            "gridcolor": "white",
            "linecolor": "white",
            "ticks": ""
           }
          },
          "scene": {
           "xaxis": {
            "backgroundcolor": "#E5ECF6",
            "gridcolor": "white",
            "gridwidth": 2,
            "linecolor": "white",
            "showbackground": true,
            "ticks": "",
            "zerolinecolor": "white"
           },
           "yaxis": {
            "backgroundcolor": "#E5ECF6",
            "gridcolor": "white",
            "gridwidth": 2,
            "linecolor": "white",
            "showbackground": true,
            "ticks": "",
            "zerolinecolor": "white"
           },
           "zaxis": {
            "backgroundcolor": "#E5ECF6",
            "gridcolor": "white",
            "gridwidth": 2,
            "linecolor": "white",
            "showbackground": true,
            "ticks": "",
            "zerolinecolor": "white"
           }
          },
          "shapedefaults": {
           "line": {
            "color": "#2a3f5f"
           }
          },
          "ternary": {
           "aaxis": {
            "gridcolor": "white",
            "linecolor": "white",
            "ticks": ""
           },
           "baxis": {
            "gridcolor": "white",
            "linecolor": "white",
            "ticks": ""
           },
           "bgcolor": "#E5ECF6",
           "caxis": {
            "gridcolor": "white",
            "linecolor": "white",
            "ticks": ""
           }
          },
          "title": {
           "x": 0.05
          },
          "xaxis": {
           "automargin": true,
           "gridcolor": "white",
           "linecolor": "white",
           "ticks": "",
           "title": {
            "standoff": 15
           },
           "zerolinecolor": "white",
           "zerolinewidth": 2
          },
          "yaxis": {
           "automargin": true,
           "gridcolor": "white",
           "linecolor": "white",
           "ticks": "",
           "title": {
            "standoff": 15
           },
           "zerolinecolor": "white",
           "zerolinewidth": 2
          }
         }
        },
        "title": {
         "font": {
          "size": 18
         },
         "text": "Loan Approval Rate by Credit History",
         "x": 0.5
        },
        "xaxis": {
         "anchor": "y",
         "autorange": true,
         "categoryarray": [
          "No",
          "Yes"
         ],
         "categoryorder": "array",
         "domain": [
          0,
          1
         ],
         "range": [
          -0.5,
          1.5
         ],
         "title": {
          "text": "Credit_History"
         },
         "type": "category"
        },
        "yaxis": {
         "anchor": "x",
         "autorange": true,
         "domain": [
          0,
          1
         ],
         "range": [
          0,
          83.89473684210526
         ],
         "title": {
          "text": "Approval_Rate"
         },
         "type": "linear"
        }
       }
      },
      "image/png": "[encoded data removed]",
      "text/html": [
       "<div>                            <div id=\"af7c536e-cc99-465b-b413-a000611eb7e3\" class=\"plotly-graph-div\" style=\"height:525px; width:100%;\"></div>            <script type=\"text/javascript\">                require([\"plotly\"], function(Plotly) {                    window.PLOTLYENV=window.PLOTLYENV || {};                                    if (document.getElementById(\"af7c536e-cc99-465b-b413-a000611eb7e3\")) {                    Plotly.newPlot(                        \"af7c536e-cc99-465b-b413-a000611eb7e3\",                        [{\"alignmentgroup\":\"True\",\"hovertemplate\":\"Credit_History=%{x}<br>Approval_Rate=%{y}<br>text=%{text}<extra></extra>\",\"legendgroup\":\"No\",\"marker\":{\"color\":\"rgb(229, 134, 6)\",\"pattern\":{\"shape\":\"\"}},\"name\":\"No\",\"offsetgroup\":\"No\",\"orientation\":\"v\",\"showlegend\":true,\"text\":[\"31.0%\"],\"textposition\":\"outside\",\"x\":[\"No\"],\"xaxis\":\"x\",\"y\":[31.0],\"yaxis\":\"y\",\"type\":\"bar\"},{\"alignmentgroup\":\"True\",\"hovertemplate\":\"Credit_History=%{x}<br>Approval_Rate=%{y}<br>text=%{text}<extra></extra>\",\"legendgroup\":\"Yes\",\"marker\":{\"color\":\"rgb(93, 105, 177)\",\"pattern\":{\"shape\":\"\"}},\"name\":\"Yes\",\"offsetgroup\":\"Yes\",\"orientation\":\"v\",\"showlegend\":true,\"text\":[\"79.7%\"],\"textposition\":\"outside\",\"x\":[\"Yes\"],\"xaxis\":\"x\",\"y\":[79.7],\"yaxis\":\"y\",\"type\":\"bar\"}],                        {\"template\":{\"data\":{\"histogram2dcontour\":[{\"type\":\"histogram2dcontour\",\"colorbar\":{\"outlinewidth\":0,\"ticks\":\"\"},\"colorscale\":[[0.0,\"#0d0887\"],[0.1111111111111111,\"#46039f\"],[0.2222222222222222,\"#7201a8\"],[0.3333333333333333,\"#9c179e\"],[0.4444444444444444,\"#bd3786\"],[0.5555555555555556,\"#d8576b\"],[0.6666666666666666,\"#ed7953\"],[0.7777777777777778,\"#fb9f3a\"],[0.8888888888888888,\"#fdca26\"],[1.0,\"#f0f921\"]]}],\"choropleth\":[{\"type\":\"choropleth\",\"colorbar\":{\"outlinewidth\":0,\"ticks\":\"\"}}],\"histogram2d\":[{\"type\":\"histogram2d\",\"colorbar\":{\"outlinewidth\":0,\"ticks\":\"\"},\"colorscale\":[[0.0,\"#0d0887\"],[0.1111111111111111,\"#46039f\"],[0.2222222222222222,\"#7201a8\"],[0.3333333333333333,\"#9c179e\"],[0.4444444444444444,\"#bd3786\"],[0.5555555555555556,\"#d8576b\"],[0.6666666666666666,\"#ed7953\"],[0.7777777777777778,\"#fb9f3a\"],[0.8888888888888888,\"#fdca26\"],[1.0,\"#f0f921\"]]}],\"heatmap\":[{\"type\":\"heatmap\",\"colorbar\":{\"outlinewidth\":0,\"ticks\":\"\"},\"colorscale\":[[0.0,\"#0d0887\"],[0.1111111111111111,\"#46039f\"],[0.2222222222222222,\"#7201a8\"],[0.3333333333333333,\"#9c179e\"],[0.4444444444444444,\"#bd3786\"],[0.5555555555555556,\"#d8576b\"],[0.6666666666666666,\"#ed7953\"],[0.7777777777777778,\"#fb9f3a\"],[0.8888888888888888,\"#fdca26\"],[1.0,\"#f0f921\"]]}],\"heatmapgl\":[{\"type\":\"heatmapgl\",\"colorbar\":{\"outlinewidth\":0,\"ticks\":\"\"},\"colorscale\":[[0.0,\"#0d0887\"],[0.1111111111111111,\"#46039f\"],[0.2222222222222222,\"#7201a8\"],[0.3333333333333333,\"#9c179e\"],[0.4444444444444444,\"#bd3786\"],[0.5555555555555556,\"#d8576b\"],[0.6666666666666666,\"#ed7953\"],[0.7777777777777778,\"#fb9f3a\"],[0.8888888888888888,\"#fdca26\"],[1.0,\"#f0f921\"]]}],\"contourcarpet\":[{\"type\":\"contourcarpet\",\"colorbar\":{\"outlinewidth\":0,\"ticks\":\"\"}}],\"contour\":[{\"type\":\"contour\",\"colorbar\":{\"outlinewidth\":0,\"ticks\":\"\"},\"colorscale\":[[0.0,\"#0d0887\"],[0.1111111111111111,\"#46039f\"],[0.2222222222222222,\"#7201a8\"],[0.3333333333333333,\"#9c179e\"],[0.4444444444444444,\"#bd3786\"],[0.5555555555555556,\"#d8576b\"],[0.6666666666666666,\"#ed7953\"],[0.7777777777777778,\"#fb9f3a\"],[0.8888888888888888,\"#fdca26\"],[1.0,\"#f0f921\"]]}],\"surface\":[{\"type\":\"surface\",\"colorbar\":{\"outlinewidth\":0,\"ticks\":\"\"},\"colorscale\":[[0.0,\"#0d0887\"],[0.1111111111111111,\"#46039f\"],[0.2222222222222222,\"#7201a8\"],[0.3333333333333333,\"#9c179e\"],[0.4444444444444444,\"#bd3786\"],[0.5555555555555556,\"#d8576b\"],[0.6666666666666666,\"#ed7953\"],[0.7777777777777778,\"#fb9f3a\"],[0.8888888888888888,\"#fdca26\"],[1.0,\"#f0f921\"]]}],\"mesh3d\":[{\"type\":\"mesh3d\",\"colorbar\":{\"outlinewidth\":0,\"ticks\":\"\"}}],\"scatter\":[{\"fillpattern\":{\"fillmode\":\"overlay\",\"size\":10,\"solidity\":0.2},\"type\":\"scatter\"}],\"parcoords\":[{\"type\":\"parcoords\",\"line\":{\"colorbar\":{\"outlinewidth\":0,\"ticks\":\"\"}}}],\"scatterpolargl\":[{\"type\":\"scatterpolargl\",\"marker\":{\"colorbar\":{\"outlinewidth\":0,\"ticks\":\"\"}}}],\"bar\":[{\"error_x\":{\"color\":\"#2a3f5f\"},\"error_y\":{\"color\":\"#2a3f5f\"},\"marker\":{\"line\":{\"color\":\"#E5ECF6\",\"width\":0.5},\"pattern\":{\"fillmode\":\"overlay\",\"size\":10,\"solidity\":0.2}},\"type\":\"bar\"}],\"scattergeo\":[{\"type\":\"scattergeo\",\"marker\":{\"colorbar\":{\"outlinewidth\":0,\"ticks\":\"\"}}}],\"scatterpolar\":[{\"type\":\"scatterpolar\",\"marker\":{\"colorbar\":{\"outlinewidth\":0,\"ticks\":\"\"}}}],\"histogram\":[{\"marker\":{\"pattern\":{\"fillmode\":\"overlay\",\"size\":10,\"solidity\":0.2}},\"type\":\"histogram\"}],\"scattergl\":[{\"type\":\"scattergl\",\"marker\":{\"colorbar\":{\"outlinewidth\":0,\"ticks\":\"\"}}}],\"scatter3d\":[{\"type\":\"scatter3d\",\"line\":{\"colorbar\":{\"outlinewidth\":0,\"ticks\":\"\"}},\"marker\":{\"colorbar\":{\"outlinewidth\":0,\"ticks\":\"\"}}}],\"scattermapbox\":[{\"type\":\"scattermapbox\",\"marker\":{\"colorbar\":{\"outlinewidth\":0,\"ticks\":\"\"}}}],\"scatterternary\":[{\"type\":\"scatterternary\",\"marker\":{\"colorbar\":{\"outlinewidth\":0,\"ticks\":\"\"}}}],\"scattercarpet\":[{\"type\":\"scattercarpet\",\"marker\":{\"colorbar\":{\"outlinewidth\":0,\"ticks\":\"\"}}}],\"carpet\":[{\"aaxis\":{\"endlinecolor\":\"#2a3f5f\",\"gridcolor\":\"white\",\"linecolor\":\"white\",\"minorgridcolor\":\"white\",\"startlinecolor\":\"#2a3f5f\"},\"baxis\":{\"endlinecolor\":\"#2a3f5f\",\"gridcolor\":\"white\",\"linecolor\":\"white\",\"minorgridcolor\":\"white\",\"startlinecolor\":\"#2a3f5f\"},\"type\":\"carpet\"}],\"table\":[{\"cells\":{\"fill\":{\"color\":\"#EBF0F8\"},\"line\":{\"color\":\"white\"}},\"header\":{\"fill\":{\"color\":\"#C8D4E3\"},\"line\":{\"color\":\"white\"}},\"type\":\"table\"}],\"barpolar\":[{\"marker\":{\"line\":{\"color\":\"#E5ECF6\",\"width\":0.5},\"pattern\":{\"fillmode\":\"overlay\",\"size\":10,\"solidity\":0.2}},\"type\":\"barpolar\"}],\"pie\":[{\"automargin\":true,\"type\":\"pie\"}]},\"layout\":{\"autotypenumbers\":\"strict\",\"colorway\":[\"#636efa\",\"#EF553B\",\"#00cc96\",\"#ab63fa\",\"#FFA15A\",\"#19d3f3\",\"#FF6692\",\"#B6E880\",\"#FF97FF\",\"#FECB52\"],\"font\":{\"color\":\"#2a3f5f\"},\"hovermode\":\"closest\",\"hoverlabel\":{\"align\":\"left\"},\"paper_bgcolor\":\"white\",\"plot_bgcolor\":\"#E5ECF6\",\"polar\":{\"bgcolor\":\"#E5ECF6\",\"angularaxis\":{\"gridcolor\":\"white\",\"linecolor\":\"white\",\"ticks\":\"\"},\"radialaxis\":{\"gridcolor\":\"white\",\"linecolor\":\"white\",\"ticks\":\"\"}},\"ternary\":{\"bgcolor\":\"#E5ECF6\",\"aaxis\":{\"gridcolor\":\"white\",\"linecolor\":\"white\",\"ticks\":\"\"},\"baxis\":{\"gridcolor\":\"white\",\"linecolor\":\"white\",\"ticks\":\"\"},\"caxis\":{\"gridcolor\":\"white\",\"linecolor\":\"white\",\"ticks\":\"\"}},\"coloraxis\":{\"colorbar\":{\"outlinewidth\":0,\"ticks\":\"\"}},\"colorscale\":{\"sequential\":[[0.0,\"#0d0887\"],[0.1111111111111111,\"#46039f\"],[0.2222222222222222,\"#7201a8\"],[0.3333333333333333,\"#9c179e\"],[0.4444444444444444,\"#bd3786\"],[0.5555555555555556,\"#d8576b\"],[0.6666666666666666,\"#ed7953\"],[0.7777777777777778,\"#fb9f3a\"],[0.8888888888888888,\"#fdca26\"],[1.0,\"#f0f921\"]],\"sequentialminus\":[[0.0,\"#0d0887\"],[0.1111111111111111,\"#46039f\"],[0.2222222222222222,\"#7201a8\"],[0.3333333333333333,\"#9c179e\"],[0.4444444444444444,\"#bd3786\"],[0.5555555555555556,\"#d8576b\"],[0.6666666666666666,\"#ed7953\"],[0.7777777777777778,\"#fb9f3a\"],[0.8888888888888888,\"#fdca26\"],[1.0,\"#f0f921\"]],\"diverging\":[[0,\"#8e0152\"],[0.1,\"#c51b7d\"],[0.2,\"#de77ae\"],[0.3,\"#f1b6da\"],[0.4,\"#fde0ef\"],[0.5,\"#f7f7f7\"],[0.6,\"#e6f5d0\"],[0.7,\"#b8e186\"],[0.8,\"#7fbc41\"],[0.9,\"#4d9221\"],[1,\"#276419\"]]},\"xaxis\":{\"gridcolor\":\"white\",\"linecolor\":\"white\",\"ticks\":\"\",\"title\":{\"standoff\":15},\"zerolinecolor\":\"white\",\"automargin\":true,\"zerolinewidth\":2},\"yaxis\":{\"gridcolor\":\"white\",\"linecolor\":\"white\",\"ticks\":\"\",\"title\":{\"standoff\":15},\"zerolinecolor\":\"white\",\"automargin\":true,\"zerolinewidth\":2},\"scene\":{\"xaxis\":{\"backgroundcolor\":\"#E5ECF6\",\"gridcolor\":\"white\",\"linecolor\":\"white\",\"showbackground\":true,\"ticks\":\"\",\"zerolinecolor\":\"white\",\"gridwidth\":2},\"yaxis\":{\"backgroundcolor\":\"#E5ECF6\",\"gridcolor\":\"white\",\"linecolor\":\"white\",\"showbackground\":true,\"ticks\":\"\",\"zerolinecolor\":\"white\",\"gridwidth\":2},\"zaxis\":{\"backgroundcolor\":\"#E5ECF6\",\"gridcolor\":\"white\",\"linecolor\":\"white\",\"showbackground\":true,\"ticks\":\"\",\"zerolinecolor\":\"white\",\"gridwidth\":2}},\"shapedefaults\":{\"line\":{\"color\":\"#2a3f5f\"}},\"annotationdefaults\":{\"arrowcolor\":\"#2a3f5f\",\"arrowhead\":0,\"arrowwidth\":1},\"geo\":{\"bgcolor\":\"white\",\"landcolor\":\"#E5ECF6\",\"subunitcolor\":\"white\",\"showland\":true,\"showlakes\":true,\"lakecolor\":\"white\"},\"title\":{\"x\":0.05},\"mapbox\":{\"style\":\"light\"}}},\"xaxis\":{\"anchor\":\"y\",\"domain\":[0.0,1.0],\"title\":{\"text\":\"Credit_History\"},\"categoryorder\":\"array\",\"categoryarray\":[\"No\",\"Yes\"]},\"yaxis\":{\"anchor\":\"x\",\"domain\":[0.0,1.0],\"title\":{\"text\":\"Approval_Rate\"}},\"legend\":{\"title\":{\"text\":\"Credit_History\"},\"tracegroupgap\":0},\"title\":{\"text\":\"Loan Approval Rate by Credit History\",\"font\":{\"size\":18},\"x\":0.5},\"barmode\":\"relative\",\"font\":{\"size\":14},\"showlegend\":false},                        {\"responsive\": true}                    ).then(function(){\n",
       "                            \n",
       "var gd = document.getElementById('af7c536e-cc99-465b-b413-a000611eb7e3');\n",
       "var x = new MutationObserver(function (mutations, observer) {{\n",
       "        var display = window.getComputedStyle(gd).display;\n",
       "        if (!display || display === 'none') {{\n",
       "            console.log([gd, 'removed!']);\n",
       "            Plotly.purge(gd);\n",
       "            observer.disconnect();\n",
       "        }}\n",
       "}});\n",
       "\n",
       "// Listen for the removal of the full notebook cells\n",
       "var notebookContainer = gd.closest('#notebook-container');\n",
       "if (notebookContainer) {{\n",
       "    x.observe(notebookContainer, {childList: true});\n",
       "}}\n",
       "\n",
       "// Listen for the clearing of the current output cell\n",
       "var outputEl = gd.closest('.output');\n",
       "if (outputEl) {{\n",
       "    x.observe(outputEl, {childList: true});\n",
       "}}\n",
       "\n",
       "                        })                };                });            </script>        </div>"
      ]
     },
     "metadata": {},
     "output_type": "display_data"
    }
   ],
   "source": [
    "# Ensuring Approval_Rate is numeric \n",
    "if credit_history_impact['Approval_Rate'].dtype == 'object':  \n",
    "    credit_history_impact['Approval_Rate'] = credit_history_impact['Approval_Rate'].str.rstrip('%').astype(float)\n",
    "else:\n",
    "    credit_history_impact['Approval_Rate'] = credit_history_impact['Approval_Rate'].astype(float)\n",
    "\n",
    "# Create an interactive bar chart with bright colors\n",
    "fig = px.bar(credit_history_impact, x=credit_history_impact.index, y='Approval_Rate', \n",
    "             title='Loan Approval Rate by Credit History', \n",
    "             labels={'x': 'Credit History', 'y': 'Approval Rate (%)'},\n",
    "             text=credit_history_impact['Approval_Rate'].round(1).astype(str) + '%', \n",
    "             color=credit_history_impact.index, \n",
    "             color_discrete_sequence=px.colors.qualitative.Vivid)  \n",
    "\n",
    "# Update layout for better styling\n",
    "fig.update_traces(textposition='outside') \n",
    "fig.update_layout(font_size=14, title_font_size=18, title_x=0.5, showlegend=False)\n",
    "\n",
    "fig.show()"
   ]
  },
  {
   "cell_type": "markdown",
   "id": "8c0785c3-d1f7-493f-b93d-55255eb9175e",
   "metadata": {},
   "source": [
    "#### 3. Impact of Income on Loan Approval\n",
    "Let's analyze how applicant income affects loan approval."
   ]
  },
  {
   "cell_type": "code",
   "execution_count": 158,
   "id": "5c2245f9-c17b-42ca-8835-f7ed84321fa5",
   "metadata": {},
   "outputs": [
    {
     "name": "stdout",
     "output_type": "stream",
     "text": [
      "\n",
      "Impact of Income on Loan Approval:\n",
      "Loan_Status     Rejected  Approved Approval_Rate Total_Percentage\n",
      "Income_Bins                                                      \n",
      "(0, 3000]             58       129         69.0%            29.3%\n",
      "(3000, 6000]          97       222         69.6%            49.9%\n",
      "(6000, 9000]          25        44         63.8%            10.8%\n",
      "(9000, 12000]         10        23         69.7%             5.2%\n",
      "(12000, 15000]         4         9         69.2%             2.0%\n",
      "(15000, 18000]         1         8         88.9%             1.4%\n",
      "(18000, 21000]         5         4         44.4%             1.4%\n"
     ]
    }
   ],
   "source": [
    "# Create bins for ApplicantIncome\n",
    "Loan_Dataset['Income_Bins'] = pd.cut(Loan_Dataset['ApplicantIncome'], bins=[0, 3000, 6000, 9000, 12000, 15000, 18000, 21000])\n",
    "\n",
    "# Group by Income_Bins and Loan_Status\n",
    "income_impact = Loan_Dataset.groupby(['Income_Bins', 'Loan_Status']).size().unstack()\n",
    "\n",
    "# Calculate the percentage of approvals for each income bin\n",
    "income_impact['Approval_Rate'] = (income_impact['Approved'] / (income_impact['Approved'] + income_impact['Rejected'])) * 100\n",
    "\n",
    "# Calculate the percentage of total loans for each income bin\n",
    "income_impact['Total_Percentage'] = ((income_impact['Approved'] + income_impact['Rejected']) / (income_impact['Approved'].sum() + income_impact['Rejected'].sum())) * 100\n",
    "\n",
    "# Round to one decimal point and add percentage sign\n",
    "income_impact['Approval_Rate'] = income_impact['Approval_Rate'].round(1).astype(str) + '%'\n",
    "income_impact['Total_Percentage'] = income_impact['Total_Percentage'].round(1).astype(str) + '%'\n",
    "\n",
    "print(\"\\nImpact of Income on Loan Approval:\")\n",
    "print(income_impact)"
   ]
  },
  {
   "cell_type": "code",
   "execution_count": 159,
   "id": "2b31518c-b489-4096-9ed9-f129ecb28b89",
   "metadata": {},
   "outputs": [
    {
     "data": {
      "image/png": "[encoded data removed]",
      "text/plain": [
       "<Figure size 1200x600 with 1 Axes>"
      ]
     },
     "metadata": {},
     "output_type": "display_data"
    }
   ],
   "source": [
    "# Creating bins for ApplicantIncome\n",
    "Loan_Dataset['Income_Bins'] = pd.cut(Loan_Dataset['ApplicantIncome'], bins=[0, 3000, 6000, 9000, 12000, 15000, 18000, 21000])\n",
    "income_impact = Loan_Dataset.groupby(['Income_Bins', 'Loan_Status']).size().unstack()\n",
    "income_impact['Approval_Rate'] = (income_impact['Approved'] / (income_impact['Approved'] + income_impact['Rejected'])) * 100\n",
    "\n",
    "income_impact['Total_Percentage'] = ((income_impact['Approved'] + income_impact['Rejected']) / (income_impact['Approved'].sum() + income_impact['Rejected'].sum())) * 100\n",
    "\n",
    "# Rounding to one decimal point and adding percentage sign\n",
    "income_impact['Approval_Rate'] = income_impact['Approval_Rate'].round(1).astype(str) + '%'\n",
    "income_impact['Total_Percentage'] = income_impact['Total_Percentage'].round(1).astype(str) + '%'\n",
    "\n",
    "# Dropping rows with NaN values in Approval_Rate to avoid warnings\n",
    "income_impact_clean = income_impact.dropna(subset=['Approval_Rate'])\n",
    "\n",
    "# Histogram Visualization\n",
    "plt.figure(figsize=(12, 6))\n",
    "sns.histplot(\n",
    "    x=income_impact_clean.index.astype(str),  \n",
    "    weights=income_impact_clean['Approval_Rate'].str.rstrip('%').astype(float),  \n",
    "    bins=len(income_impact_clean),  \n",
    "    kde=False,  \n",
    "    color='#FF6F61', \n",
    "    edgecolor='black',  \n",
    "    linewidth=1.5,  \n",
    ")\n",
    "\n",
    "plt.title('Loan Approval Rate by Income Bins', fontsize=18, fontweight='bold', pad=20)\n",
    "plt.xlabel('Income Bins', fontsize=14)\n",
    "plt.ylabel('Approval Rate (%)', fontsize=14)\n",
    "\n",
    "for i, value in enumerate(income_impact_clean['Approval_Rate'].str.rstrip('%').astype(float)):\n",
    "    plt.text(i, value + 1, f'{value:.1f}%', ha='center', fontsize=12, fontweight='bold', color='black')\n",
    "\n",
    "plt.xticks(rotation=45, fontsize=12)\n",
    "plt.yticks(fontsize=12)\n",
    "sns.despine(left=True) \n",
    "plt.grid(axis='y', linestyle='--', alpha=0.7) \n",
    "plt.tight_layout()\n",
    "plt.show()"
   ]
  },
  {
   "cell_type": "markdown",
   "id": "c752d8f1-445d-457f-ab3d-a5335ee8da9b",
   "metadata": {},
   "source": [
    "#### 4. Impact of Property Area on Loan Approval\r\n",
    "Analyinge how property area affects loan approval."
   ]
  },
  {
   "cell_type": "code",
   "execution_count": 160,
   "id": "f229bfba-2f0a-411b-b3d0-ad99570ad3db",
   "metadata": {},
   "outputs": [
    {
     "name": "stdout",
     "output_type": "stream",
     "text": [
      "\n",
      "Impact of Property Area on Loan Approval:\n",
      "Loan_Status    Rejected  Approved Approval_Rate Total_Percentage\n",
      "Property_Area                                                   \n",
      "Rural                71       118         62.4%            29.2%\n",
      "Semiurban            57       187         76.6%            37.7%\n",
      "Urban                74       140         65.4%            33.1%\n"
     ]
    }
   ],
   "source": [
    "# Groupping by Property_Area and Loan_Status\n",
    "property_area_impact = Loan_Dataset.groupby(['Property_Area', 'Loan_Status']).size().unstack()\n",
    "\n",
    "# Calculating the percentage of approvals for each property area\n",
    "property_area_impact['Approval_Rate'] = (property_area_impact['Approved'] / (property_area_impact['Approved'] + property_area_impact['Rejected'])) * 100\n",
    "\n",
    "# Calculating the percentage of total loans for each property area\n",
    "property_area_impact['Total_Percentage'] = ((property_area_impact['Approved'] + property_area_impact['Rejected']) / (property_area_impact['Approved'].sum() + property_area_impact['Rejected'].sum())) * 100\n",
    "\n",
    "# Rounding to one decimal point and add percentage sign\n",
    "property_area_impact['Approval_Rate'] = property_area_impact['Approval_Rate'].round(1).astype(str) + '%'\n",
    "property_area_impact['Total_Percentage'] = property_area_impact['Total_Percentage'].round(1).astype(str) + '%'\n",
    "\n",
    "print(\"\\nImpact of Property Area on Loan Approval:\")\n",
    "print(property_area_impact)"
   ]
  },
  {
   "cell_type": "code",
   "execution_count": 161,
   "id": "ae1d1dfb-2c1e-443b-9f27-875d09c015da",
   "metadata": {},
   "outputs": [
    {
     "data": {
      "application/vnd.plotly.v1+json": {
       "config": {
        "plotlyServerURL": "https://plot.ly"
       },
       "data": [
        {
         "alignmentgroup": "True",
         "hovertemplate": "Loan_Status=Approved<br>Property Area=%{x}<br>Number of Loans=%{text}<extra></extra>",
         "legendgroup": "Approved",
         "marker": {
          "color": "#66b3ff",
          "pattern": {
           "shape": ""
          }
         },
         "name": "Approved",
         "offsetgroup": "Approved",
         "orientation": "v",
         "showlegend": true,
         "text": [
          118,
          187,
          140
         ],
         "textposition": "outside",
         "type": "bar",
         "x": [
          "Rural",
          "Semiurban",
          "Urban"
         ],
         "xaxis": "x",
         "y": [
          118,
          187,
          140
         ],
         "yaxis": "y"
        },
        {
         "alignmentgroup": "True",
         "hovertemplate": "Loan_Status=Rejected<br>Property Area=%{x}<br>Number of Loans=%{text}<extra></extra>",
         "legendgroup": "Rejected",
         "marker": {
          "color": "#ff9999",
          "pattern": {
           "shape": ""
          }
         },
         "name": "Rejected",
         "offsetgroup": "Rejected",
         "orientation": "v",
         "showlegend": true,
         "text": [
          71,
          57,
          74
         ],
         "textposition": "outside",
         "type": "bar",
         "x": [
          "Rural",
          "Semiurban",
          "Urban"
         ],
         "xaxis": "x",
         "y": [
          71,
          57,
          74
         ],
         "yaxis": "y"
        }
       ],
       "layout": {
        "annotations": [
         {
          "font": {
           "color": "black",
           "size": 12
          },
          "showarrow": false,
          "text": "Approval Rate: 62.4%<br>Total: 29.2%",
          "x": "Rural",
          "xanchor": "center",
          "y": 199
         },
         {
          "font": {
           "color": "black",
           "size": 12
          },
          "showarrow": false,
          "text": "Approval Rate: 76.6%<br>Total: 37.7%",
          "x": "Semiurban",
          "xanchor": "center",
          "y": 254
         },
         {
          "font": {
           "color": "black",
           "size": 12
          },
          "showarrow": false,
          "text": "Approval Rate: 65.4%<br>Total: 33.1%",
          "x": "Urban",
          "xanchor": "center",
          "y": 224
         }
        ],
        "autosize": true,
        "barmode": "group",
        "font": {
         "size": 14
        },
        "hovermode": "x unified",
        "legend": {
         "title": {
          "text": "Loan Status"
         },
         "tracegroupgap": 0
        },
        "template": {
         "data": {
          "bar": [
           {
            "error_x": {
             "color": "#2a3f5f"
            },
            "error_y": {
             "color": "#2a3f5f"
            },
            "marker": {
             "line": {
              "color": "#E5ECF6",
              "width": 0.5
             },
             "pattern": {
              "fillmode": "overlay",
              "size": 10,
              "solidity": 0.2
             }
            },
            "type": "bar"
           }
          ],
          "barpolar": [
           {
            "marker": {
             "line": {
              "color": "#E5ECF6",
              "width": 0.5
             },
             "pattern": {
              "fillmode": "overlay",
              "size": 10,
              "solidity": 0.2
             }
            },
            "type": "barpolar"
           }
          ],
          "carpet": [
           {
            "aaxis": {
             "endlinecolor": "#2a3f5f",
             "gridcolor": "white",
             "linecolor": "white",
             "minorgridcolor": "white",
             "startlinecolor": "#2a3f5f"
            },
            "baxis": {
             "endlinecolor": "#2a3f5f",
             "gridcolor": "white",
             "linecolor": "white",
             "minorgridcolor": "white",
             "startlinecolor": "#2a3f5f"
            },
            "type": "carpet"
           }
          ],
          "choropleth": [
           {
            "colorbar": {
             "outlinewidth": 0,
             "ticks": ""
            },
            "type": "choropleth"
           }
          ],
          "contour": [
           {
            "colorbar": {
             "outlinewidth": 0,
             "ticks": ""
            },
            "colorscale": [
             [
              0,
              "#0d0887"
             ],
             [
              0.1111111111111111,
              "#46039f"
             ],
             [
              0.2222222222222222,
              "#7201a8"
             ],
             [
              0.3333333333333333,
              "#9c179e"
             ],
             [
              0.4444444444444444,
              "#bd3786"
             ],
             [
              0.5555555555555556,
              "#d8576b"
             ],
             [
              0.6666666666666666,
              "#ed7953"
             ],
             [
              0.7777777777777778,
              "#fb9f3a"
             ],
             [
              0.8888888888888888,
              "#fdca26"
             ],
             [
              1,
              "#f0f921"
             ]
            ],
            "type": "contour"
           }
          ],
          "contourcarpet": [
           {
            "colorbar": {
             "outlinewidth": 0,
             "ticks": ""
            },
            "type": "contourcarpet"
           }
          ],
          "heatmap": [
           {
            "colorbar": {
             "outlinewidth": 0,
             "ticks": ""
            },
            "colorscale": [
             [
              0,
              "#0d0887"
             ],
             [
              0.1111111111111111,
              "#46039f"
             ],
             [
              0.2222222222222222,
              "#7201a8"
             ],
             [
              0.3333333333333333,
              "#9c179e"
             ],
             [
              0.4444444444444444,
              "#bd3786"
             ],
             [
              0.5555555555555556,
              "#d8576b"
             ],
             [
              0.6666666666666666,
              "#ed7953"
             ],
             [
              0.7777777777777778,
              "#fb9f3a"
             ],
             [
              0.8888888888888888,
              "#fdca26"
             ],
             [
              1,
              "#f0f921"
             ]
            ],
            "type": "heatmap"
           }
          ],
          "heatmapgl": [
           {
            "colorbar": {
             "outlinewidth": 0,
             "ticks": ""
            },
            "colorscale": [
             [
              0,
              "#0d0887"
             ],
             [
              0.1111111111111111,
              "#46039f"
             ],
             [
              0.2222222222222222,
              "#7201a8"
             ],
             [
              0.3333333333333333,
              "#9c179e"
             ],
             [
              0.4444444444444444,
              "#bd3786"
             ],
             [
              0.5555555555555556,
              "#d8576b"
             ],
             [
              0.6666666666666666,
              "#ed7953"
             ],
             [
              0.7777777777777778,
              "#fb9f3a"
             ],
             [
              0.8888888888888888,
              "#fdca26"
             ],
             [
              1,
              "#f0f921"
             ]
            ],
            "type": "heatmapgl"
           }
          ],
          "histogram": [
           {
            "marker": {
             "pattern": {
              "fillmode": "overlay",
              "size": 10,
              "solidity": 0.2
             }
            },
            "type": "histogram"
           }
          ],
          "histogram2d": [
           {
            "colorbar": {
             "outlinewidth": 0,
             "ticks": ""
            },
            "colorscale": [
             [
              0,
              "#0d0887"
             ],
             [
              0.1111111111111111,
              "#46039f"
             ],
             [
              0.2222222222222222,
              "#7201a8"
             ],
             [
              0.3333333333333333,
              "#9c179e"
             ],
             [
              0.4444444444444444,
              "#bd3786"
             ],
             [
              0.5555555555555556,
              "#d8576b"
             ],
             [
              0.6666666666666666,
              "#ed7953"
             ],
             [
              0.7777777777777778,
              "#fb9f3a"
             ],
             [
              0.8888888888888888,
              "#fdca26"
             ],
             [
              1,
              "#f0f921"
             ]
            ],
            "type": "histogram2d"
           }
          ],
          "histogram2dcontour": [
           {
            "colorbar": {
             "outlinewidth": 0,
             "ticks": ""
            },
            "colorscale": [
             [
              0,
              "#0d0887"
             ],
             [
              0.1111111111111111,
              "#46039f"
             ],
             [
              0.2222222222222222,
              "#7201a8"
             ],
             [
              0.3333333333333333,
              "#9c179e"
             ],
             [
              0.4444444444444444,
              "#bd3786"
             ],
             [
              0.5555555555555556,
              "#d8576b"
             ],
             [
              0.6666666666666666,
              "#ed7953"
             ],
             [
              0.7777777777777778,
              "#fb9f3a"
             ],
             [
              0.8888888888888888,
              "#fdca26"
             ],
             [
              1,
              "#f0f921"
             ]
            ],
            "type": "histogram2dcontour"
           }
          ],
          "mesh3d": [
           {
            "colorbar": {
             "outlinewidth": 0,
             "ticks": ""
            },
            "type": "mesh3d"
           }
          ],
          "parcoords": [
           {
            "line": {
             "colorbar": {
              "outlinewidth": 0,
              "ticks": ""
             }
            },
            "type": "parcoords"
           }
          ],
          "pie": [
           {
            "automargin": true,
            "type": "pie"
           }
          ],
          "scatter": [
           {
            "fillpattern": {
             "fillmode": "overlay",
             "size": 10,
             "solidity": 0.2
            },
            "type": "scatter"
           }
          ],
          "scatter3d": [
           {
            "line": {
             "colorbar": {
              "outlinewidth": 0,
              "ticks": ""
             }
            },
            "marker": {
             "colorbar": {
              "outlinewidth": 0,
              "ticks": ""
             }
            },
            "type": "scatter3d"
           }
          ],
          "scattercarpet": [
           {
            "marker": {
             "colorbar": {
              "outlinewidth": 0,
              "ticks": ""
             }
            },
            "type": "scattercarpet"
           }
          ],
          "scattergeo": [
           {
            "marker": {
             "colorbar": {
              "outlinewidth": 0,
              "ticks": ""
             }
            },
            "type": "scattergeo"
           }
          ],
          "scattergl": [
           {
            "marker": {
             "colorbar": {
              "outlinewidth": 0,
              "ticks": ""
             }
            },
            "type": "scattergl"
           }
          ],
          "scattermapbox": [
           {
            "marker": {
             "colorbar": {
              "outlinewidth": 0,
              "ticks": ""
             }
            },
            "type": "scattermapbox"
           }
          ],
          "scatterpolar": [
           {
            "marker": {
             "colorbar": {
              "outlinewidth": 0,
              "ticks": ""
             }
            },
            "type": "scatterpolar"
           }
          ],
          "scatterpolargl": [
           {
            "marker": {
             "colorbar": {
              "outlinewidth": 0,
              "ticks": ""
             }
            },
            "type": "scatterpolargl"
           }
          ],
          "scatterternary": [
           {
            "marker": {
             "colorbar": {
              "outlinewidth": 0,
              "ticks": ""
             }
            },
            "type": "scatterternary"
           }
          ],
          "surface": [
           {
            "colorbar": {
             "outlinewidth": 0,
             "ticks": ""
            },
            "colorscale": [
             [
              0,
              "#0d0887"
             ],
             [
              0.1111111111111111,
              "#46039f"
             ],
             [
              0.2222222222222222,
              "#7201a8"
             ],
             [
              0.3333333333333333,
              "#9c179e"
             ],
             [
              0.4444444444444444,
              "#bd3786"
             ],
             [
              0.5555555555555556,
              "#d8576b"
             ],
             [
              0.6666666666666666,
              "#ed7953"
             ],
             [
              0.7777777777777778,
              "#fb9f3a"
             ],
             [
              0.8888888888888888,
              "#fdca26"
             ],
             [
              1,
              "#f0f921"
             ]
            ],
            "type": "surface"
           }
          ],
          "table": [
           {
            "cells": {
             "fill": {
              "color": "#EBF0F8"
             },
             "line": {
              "color": "white"
             }
            },
            "header": {
             "fill": {
              "color": "#C8D4E3"
             },
             "line": {
              "color": "white"
             }
            },
            "type": "table"
           }
          ]
         },
         "layout": {
          "annotationdefaults": {
           "arrowcolor": "#2a3f5f",
           "arrowhead": 0,
           "arrowwidth": 1
          },
          "autotypenumbers": "strict",
          "coloraxis": {
           "colorbar": {
            "outlinewidth": 0,
            "ticks": ""
           }
          },
          "colorscale": {
           "diverging": [
            [
             0,
             "#8e0152"
            ],
            [
             0.1,
             "#c51b7d"
            ],
            [
             0.2,
             "#de77ae"
            ],
            [
             0.3,
             "#f1b6da"
            ],
            [
             0.4,
             "#fde0ef"
            ],
            [
             0.5,
             "#f7f7f7"
            ],
            [
             0.6,
             "#e6f5d0"
            ],
            [
             0.7,
             "#b8e186"
            ],
            [
             0.8,
             "#7fbc41"
            ],
            [
             0.9,
             "#4d9221"
            ],
            [
             1,
             "#276419"
            ]
           ],
           "sequential": [
            [
             0,
             "#0d0887"
            ],
            [
             0.1111111111111111,
             "#46039f"
            ],
            [
             0.2222222222222222,
             "#7201a8"
            ],
            [
             0.3333333333333333,
             "#9c179e"
            ],
            [
             0.4444444444444444,
             "#bd3786"
            ],
            [
             0.5555555555555556,
             "#d8576b"
            ],
            [
             0.6666666666666666,
             "#ed7953"
            ],
            [
             0.7777777777777778,
             "#fb9f3a"
            ],
            [
             0.8888888888888888,
             "#fdca26"
            ],
            [
             1,
             "#f0f921"
            ]
           ],
           "sequentialminus": [
            [
             0,
             "#0d0887"
            ],
            [
             0.1111111111111111,
             "#46039f"
            ],
            [
             0.2222222222222222,
             "#7201a8"
            ],
            [
             0.3333333333333333,
             "#9c179e"
            ],
            [
             0.4444444444444444,
             "#bd3786"
            ],
            [
             0.5555555555555556,
             "#d8576b"
            ],
            [
             0.6666666666666666,
             "#ed7953"
            ],
            [
             0.7777777777777778,
             "#fb9f3a"
            ],
            [
             0.8888888888888888,
             "#fdca26"
            ],
            [
             1,
             "#f0f921"
            ]
           ]
          },
          "colorway": [
           "#636efa",
           "#EF553B",
           "#00cc96",
           "#ab63fa",
           "#FFA15A",
           "#19d3f3",
           "#FF6692",
           "#B6E880",
           "#FF97FF",
           "#FECB52"
          ],
          "font": {
           "color": "#2a3f5f"
          },
          "geo": {
           "bgcolor": "white",
           "lakecolor": "white",
           "landcolor": "#E5ECF6",
           "showlakes": true,
           "showland": true,
           "subunitcolor": "white"
          },
          "hoverlabel": {
           "align": "left"
          },
          "hovermode": "closest",
          "mapbox": {
           "style": "light"
          },
          "paper_bgcolor": "white",
          "plot_bgcolor": "#E5ECF6",
          "polar": {
           "angularaxis": {
            "gridcolor": "white",
            "linecolor": "white",
            "ticks": ""
           },
           "bgcolor": "#E5ECF6",
           "radialaxis": {
            "gridcolor": "white",
            "linecolor": "white",
            "ticks": ""
           }
          },
          "scene": {
           "xaxis": {
            "backgroundcolor": "#E5ECF6",
            "gridcolor": "white",
            "gridwidth": 2,
            "linecolor": "white",
            "showbackground": true,
            "ticks": "",
            "zerolinecolor": "white"
           },
           "yaxis": {
            "backgroundcolor": "#E5ECF6",
            "gridcolor": "white",
            "gridwidth": 2,
            "linecolor": "white",
            "showbackground": true,
            "ticks": "",
            "zerolinecolor": "white"
           },
           "zaxis": {
            "backgroundcolor": "#E5ECF6",
            "gridcolor": "white",
            "gridwidth": 2,
            "linecolor": "white",
            "showbackground": true,
            "ticks": "",
            "zerolinecolor": "white"
           }
          },
          "shapedefaults": {
           "line": {
            "color": "#2a3f5f"
           }
          },
          "ternary": {
           "aaxis": {
            "gridcolor": "white",
            "linecolor": "white",
            "ticks": ""
           },
           "baxis": {
            "gridcolor": "white",
            "linecolor": "white",
            "ticks": ""
           },
           "bgcolor": "#E5ECF6",
           "caxis": {
            "gridcolor": "white",
            "linecolor": "white",
            "ticks": ""
           }
          },
          "title": {
           "x": 0.05
          },
          "xaxis": {
           "automargin": true,
           "gridcolor": "white",
           "linecolor": "white",
           "ticks": "",
           "title": {
            "standoff": 15
           },
           "zerolinecolor": "white",
           "zerolinewidth": 2
          },
          "yaxis": {
           "automargin": true,
           "gridcolor": "white",
           "linecolor": "white",
           "ticks": "",
           "title": {
            "standoff": 15
           },
           "zerolinecolor": "white",
           "zerolinewidth": 2
          }
         }
        },
        "title": {
         "font": {
          "size": 18
         },
         "text": "Loan Approval and Rejection by Property Area",
         "x": 0.5
        },
        "xaxis": {
         "anchor": "y",
         "autorange": true,
         "domain": [
          0,
          1
         ],
         "range": [
          -0.5,
          2.5
         ],
         "title": {
          "text": "Property Area"
         },
         "type": "category"
        },
        "yaxis": {
         "anchor": "x",
         "autorange": true,
         "domain": [
          0,
          1
         ],
         "range": [
          0,
          280.4907975460123
         ],
         "title": {
          "text": "Number of Loans"
         },
         "type": "linear"
        }
       }
      },
      "image/png": "[encoded data removed]",
      "text/html": [
       "<div>                            <div id=\"02c02052-9835-44e4-9ec4-aa3d16e63b4a\" class=\"plotly-graph-div\" style=\"height:525px; width:100%;\"></div>            <script type=\"text/javascript\">                require([\"plotly\"], function(Plotly) {                    window.PLOTLYENV=window.PLOTLYENV || {};                                    if (document.getElementById(\"02c02052-9835-44e4-9ec4-aa3d16e63b4a\")) {                    Plotly.newPlot(                        \"02c02052-9835-44e4-9ec4-aa3d16e63b4a\",                        [{\"alignmentgroup\":\"True\",\"hovertemplate\":\"Loan_Status=Approved<br>Property Area=%{x}<br>Number of Loans=%{text}<extra></extra>\",\"legendgroup\":\"Approved\",\"marker\":{\"color\":\"#66b3ff\",\"pattern\":{\"shape\":\"\"}},\"name\":\"Approved\",\"offsetgroup\":\"Approved\",\"orientation\":\"v\",\"showlegend\":true,\"text\":[118.0,187.0,140.0],\"textposition\":\"outside\",\"x\":[\"Rural\",\"Semiurban\",\"Urban\"],\"xaxis\":\"x\",\"y\":[118,187,140],\"yaxis\":\"y\",\"type\":\"bar\"},{\"alignmentgroup\":\"True\",\"hovertemplate\":\"Loan_Status=Rejected<br>Property Area=%{x}<br>Number of Loans=%{text}<extra></extra>\",\"legendgroup\":\"Rejected\",\"marker\":{\"color\":\"#ff9999\",\"pattern\":{\"shape\":\"\"}},\"name\":\"Rejected\",\"offsetgroup\":\"Rejected\",\"orientation\":\"v\",\"showlegend\":true,\"text\":[71.0,57.0,74.0],\"textposition\":\"outside\",\"x\":[\"Rural\",\"Semiurban\",\"Urban\"],\"xaxis\":\"x\",\"y\":[71,57,74],\"yaxis\":\"y\",\"type\":\"bar\"}],                        {\"template\":{\"data\":{\"histogram2dcontour\":[{\"type\":\"histogram2dcontour\",\"colorbar\":{\"outlinewidth\":0,\"ticks\":\"\"},\"colorscale\":[[0.0,\"#0d0887\"],[0.1111111111111111,\"#46039f\"],[0.2222222222222222,\"#7201a8\"],[0.3333333333333333,\"#9c179e\"],[0.4444444444444444,\"#bd3786\"],[0.5555555555555556,\"#d8576b\"],[0.6666666666666666,\"#ed7953\"],[0.7777777777777778,\"#fb9f3a\"],[0.8888888888888888,\"#fdca26\"],[1.0,\"#f0f921\"]]}],\"choropleth\":[{\"type\":\"choropleth\",\"colorbar\":{\"outlinewidth\":0,\"ticks\":\"\"}}],\"histogram2d\":[{\"type\":\"histogram2d\",\"colorbar\":{\"outlinewidth\":0,\"ticks\":\"\"},\"colorscale\":[[0.0,\"#0d0887\"],[0.1111111111111111,\"#46039f\"],[0.2222222222222222,\"#7201a8\"],[0.3333333333333333,\"#9c179e\"],[0.4444444444444444,\"#bd3786\"],[0.5555555555555556,\"#d8576b\"],[0.6666666666666666,\"#ed7953\"],[0.7777777777777778,\"#fb9f3a\"],[0.8888888888888888,\"#fdca26\"],[1.0,\"#f0f921\"]]}],\"heatmap\":[{\"type\":\"heatmap\",\"colorbar\":{\"outlinewidth\":0,\"ticks\":\"\"},\"colorscale\":[[0.0,\"#0d0887\"],[0.1111111111111111,\"#46039f\"],[0.2222222222222222,\"#7201a8\"],[0.3333333333333333,\"#9c179e\"],[0.4444444444444444,\"#bd3786\"],[0.5555555555555556,\"#d8576b\"],[0.6666666666666666,\"#ed7953\"],[0.7777777777777778,\"#fb9f3a\"],[0.8888888888888888,\"#fdca26\"],[1.0,\"#f0f921\"]]}],\"heatmapgl\":[{\"type\":\"heatmapgl\",\"colorbar\":{\"outlinewidth\":0,\"ticks\":\"\"},\"colorscale\":[[0.0,\"#0d0887\"],[0.1111111111111111,\"#46039f\"],[0.2222222222222222,\"#7201a8\"],[0.3333333333333333,\"#9c179e\"],[0.4444444444444444,\"#bd3786\"],[0.5555555555555556,\"#d8576b\"],[0.6666666666666666,\"#ed7953\"],[0.7777777777777778,\"#fb9f3a\"],[0.8888888888888888,\"#fdca26\"],[1.0,\"#f0f921\"]]}],\"contourcarpet\":[{\"type\":\"contourcarpet\",\"colorbar\":{\"outlinewidth\":0,\"ticks\":\"\"}}],\"contour\":[{\"type\":\"contour\",\"colorbar\":{\"outlinewidth\":0,\"ticks\":\"\"},\"colorscale\":[[0.0,\"#0d0887\"],[0.1111111111111111,\"#46039f\"],[0.2222222222222222,\"#7201a8\"],[0.3333333333333333,\"#9c179e\"],[0.4444444444444444,\"#bd3786\"],[0.5555555555555556,\"#d8576b\"],[0.6666666666666666,\"#ed7953\"],[0.7777777777777778,\"#fb9f3a\"],[0.8888888888888888,\"#fdca26\"],[1.0,\"#f0f921\"]]}],\"surface\":[{\"type\":\"surface\",\"colorbar\":{\"outlinewidth\":0,\"ticks\":\"\"},\"colorscale\":[[0.0,\"#0d0887\"],[0.1111111111111111,\"#46039f\"],[0.2222222222222222,\"#7201a8\"],[0.3333333333333333,\"#9c179e\"],[0.4444444444444444,\"#bd3786\"],[0.5555555555555556,\"#d8576b\"],[0.6666666666666666,\"#ed7953\"],[0.7777777777777778,\"#fb9f3a\"],[0.8888888888888888,\"#fdca26\"],[1.0,\"#f0f921\"]]}],\"mesh3d\":[{\"type\":\"mesh3d\",\"colorbar\":{\"outlinewidth\":0,\"ticks\":\"\"}}],\"scatter\":[{\"fillpattern\":{\"fillmode\":\"overlay\",\"size\":10,\"solidity\":0.2},\"type\":\"scatter\"}],\"parcoords\":[{\"type\":\"parcoords\",\"line\":{\"colorbar\":{\"outlinewidth\":0,\"ticks\":\"\"}}}],\"scatterpolargl\":[{\"type\":\"scatterpolargl\",\"marker\":{\"colorbar\":{\"outlinewidth\":0,\"ticks\":\"\"}}}],\"bar\":[{\"error_x\":{\"color\":\"#2a3f5f\"},\"error_y\":{\"color\":\"#2a3f5f\"},\"marker\":{\"line\":{\"color\":\"#E5ECF6\",\"width\":0.5},\"pattern\":{\"fillmode\":\"overlay\",\"size\":10,\"solidity\":0.2}},\"type\":\"bar\"}],\"scattergeo\":[{\"type\":\"scattergeo\",\"marker\":{\"colorbar\":{\"outlinewidth\":0,\"ticks\":\"\"}}}],\"scatterpolar\":[{\"type\":\"scatterpolar\",\"marker\":{\"colorbar\":{\"outlinewidth\":0,\"ticks\":\"\"}}}],\"histogram\":[{\"marker\":{\"pattern\":{\"fillmode\":\"overlay\",\"size\":10,\"solidity\":0.2}},\"type\":\"histogram\"}],\"scattergl\":[{\"type\":\"scattergl\",\"marker\":{\"colorbar\":{\"outlinewidth\":0,\"ticks\":\"\"}}}],\"scatter3d\":[{\"type\":\"scatter3d\",\"line\":{\"colorbar\":{\"outlinewidth\":0,\"ticks\":\"\"}},\"marker\":{\"colorbar\":{\"outlinewidth\":0,\"ticks\":\"\"}}}],\"scattermapbox\":[{\"type\":\"scattermapbox\",\"marker\":{\"colorbar\":{\"outlinewidth\":0,\"ticks\":\"\"}}}],\"scatterternary\":[{\"type\":\"scatterternary\",\"marker\":{\"colorbar\":{\"outlinewidth\":0,\"ticks\":\"\"}}}],\"scattercarpet\":[{\"type\":\"scattercarpet\",\"marker\":{\"colorbar\":{\"outlinewidth\":0,\"ticks\":\"\"}}}],\"carpet\":[{\"aaxis\":{\"endlinecolor\":\"#2a3f5f\",\"gridcolor\":\"white\",\"linecolor\":\"white\",\"minorgridcolor\":\"white\",\"startlinecolor\":\"#2a3f5f\"},\"baxis\":{\"endlinecolor\":\"#2a3f5f\",\"gridcolor\":\"white\",\"linecolor\":\"white\",\"minorgridcolor\":\"white\",\"startlinecolor\":\"#2a3f5f\"},\"type\":\"carpet\"}],\"table\":[{\"cells\":{\"fill\":{\"color\":\"#EBF0F8\"},\"line\":{\"color\":\"white\"}},\"header\":{\"fill\":{\"color\":\"#C8D4E3\"},\"line\":{\"color\":\"white\"}},\"type\":\"table\"}],\"barpolar\":[{\"marker\":{\"line\":{\"color\":\"#E5ECF6\",\"width\":0.5},\"pattern\":{\"fillmode\":\"overlay\",\"size\":10,\"solidity\":0.2}},\"type\":\"barpolar\"}],\"pie\":[{\"automargin\":true,\"type\":\"pie\"}]},\"layout\":{\"autotypenumbers\":\"strict\",\"colorway\":[\"#636efa\",\"#EF553B\",\"#00cc96\",\"#ab63fa\",\"#FFA15A\",\"#19d3f3\",\"#FF6692\",\"#B6E880\",\"#FF97FF\",\"#FECB52\"],\"font\":{\"color\":\"#2a3f5f\"},\"hovermode\":\"closest\",\"hoverlabel\":{\"align\":\"left\"},\"paper_bgcolor\":\"white\",\"plot_bgcolor\":\"#E5ECF6\",\"polar\":{\"bgcolor\":\"#E5ECF6\",\"angularaxis\":{\"gridcolor\":\"white\",\"linecolor\":\"white\",\"ticks\":\"\"},\"radialaxis\":{\"gridcolor\":\"white\",\"linecolor\":\"white\",\"ticks\":\"\"}},\"ternary\":{\"bgcolor\":\"#E5ECF6\",\"aaxis\":{\"gridcolor\":\"white\",\"linecolor\":\"white\",\"ticks\":\"\"},\"baxis\":{\"gridcolor\":\"white\",\"linecolor\":\"white\",\"ticks\":\"\"},\"caxis\":{\"gridcolor\":\"white\",\"linecolor\":\"white\",\"ticks\":\"\"}},\"coloraxis\":{\"colorbar\":{\"outlinewidth\":0,\"ticks\":\"\"}},\"colorscale\":{\"sequential\":[[0.0,\"#0d0887\"],[0.1111111111111111,\"#46039f\"],[0.2222222222222222,\"#7201a8\"],[0.3333333333333333,\"#9c179e\"],[0.4444444444444444,\"#bd3786\"],[0.5555555555555556,\"#d8576b\"],[0.6666666666666666,\"#ed7953\"],[0.7777777777777778,\"#fb9f3a\"],[0.8888888888888888,\"#fdca26\"],[1.0,\"#f0f921\"]],\"sequentialminus\":[[0.0,\"#0d0887\"],[0.1111111111111111,\"#46039f\"],[0.2222222222222222,\"#7201a8\"],[0.3333333333333333,\"#9c179e\"],[0.4444444444444444,\"#bd3786\"],[0.5555555555555556,\"#d8576b\"],[0.6666666666666666,\"#ed7953\"],[0.7777777777777778,\"#fb9f3a\"],[0.8888888888888888,\"#fdca26\"],[1.0,\"#f0f921\"]],\"diverging\":[[0,\"#8e0152\"],[0.1,\"#c51b7d\"],[0.2,\"#de77ae\"],[0.3,\"#f1b6da\"],[0.4,\"#fde0ef\"],[0.5,\"#f7f7f7\"],[0.6,\"#e6f5d0\"],[0.7,\"#b8e186\"],[0.8,\"#7fbc41\"],[0.9,\"#4d9221\"],[1,\"#276419\"]]},\"xaxis\":{\"gridcolor\":\"white\",\"linecolor\":\"white\",\"ticks\":\"\",\"title\":{\"standoff\":15},\"zerolinecolor\":\"white\",\"automargin\":true,\"zerolinewidth\":2},\"yaxis\":{\"gridcolor\":\"white\",\"linecolor\":\"white\",\"ticks\":\"\",\"title\":{\"standoff\":15},\"zerolinecolor\":\"white\",\"automargin\":true,\"zerolinewidth\":2},\"scene\":{\"xaxis\":{\"backgroundcolor\":\"#E5ECF6\",\"gridcolor\":\"white\",\"linecolor\":\"white\",\"showbackground\":true,\"ticks\":\"\",\"zerolinecolor\":\"white\",\"gridwidth\":2},\"yaxis\":{\"backgroundcolor\":\"#E5ECF6\",\"gridcolor\":\"white\",\"linecolor\":\"white\",\"showbackground\":true,\"ticks\":\"\",\"zerolinecolor\":\"white\",\"gridwidth\":2},\"zaxis\":{\"backgroundcolor\":\"#E5ECF6\",\"gridcolor\":\"white\",\"linecolor\":\"white\",\"showbackground\":true,\"ticks\":\"\",\"zerolinecolor\":\"white\",\"gridwidth\":2}},\"shapedefaults\":{\"line\":{\"color\":\"#2a3f5f\"}},\"annotationdefaults\":{\"arrowcolor\":\"#2a3f5f\",\"arrowhead\":0,\"arrowwidth\":1},\"geo\":{\"bgcolor\":\"white\",\"landcolor\":\"#E5ECF6\",\"subunitcolor\":\"white\",\"showland\":true,\"showlakes\":true,\"lakecolor\":\"white\"},\"title\":{\"x\":0.05},\"mapbox\":{\"style\":\"light\"}}},\"xaxis\":{\"anchor\":\"y\",\"domain\":[0.0,1.0],\"title\":{\"text\":\"Property Area\"}},\"yaxis\":{\"anchor\":\"x\",\"domain\":[0.0,1.0],\"title\":{\"text\":\"Number of Loans\"}},\"legend\":{\"title\":{\"text\":\"Loan Status\"},\"tracegroupgap\":0},\"title\":{\"text\":\"Loan Approval and Rejection by Property Area\",\"font\":{\"size\":18},\"x\":0.5},\"barmode\":\"group\",\"annotations\":[{\"font\":{\"color\":\"black\",\"size\":12},\"showarrow\":false,\"text\":\"Approval Rate: 62.4%<br>Total: 29.2%\",\"x\":\"Rural\",\"xanchor\":\"center\",\"y\":199},{\"font\":{\"color\":\"black\",\"size\":12},\"showarrow\":false,\"text\":\"Approval Rate: 76.6%<br>Total: 37.7%\",\"x\":\"Semiurban\",\"xanchor\":\"center\",\"y\":254},{\"font\":{\"color\":\"black\",\"size\":12},\"showarrow\":false,\"text\":\"Approval Rate: 65.4%<br>Total: 33.1%\",\"x\":\"Urban\",\"xanchor\":\"center\",\"y\":224}],\"font\":{\"size\":14},\"hovermode\":\"x unified\"},                        {\"responsive\": true}                    ).then(function(){\n",
       "                            \n",
       "var gd = document.getElementById('02c02052-9835-44e4-9ec4-aa3d16e63b4a');\n",
       "var x = new MutationObserver(function (mutations, observer) {{\n",
       "        var display = window.getComputedStyle(gd).display;\n",
       "        if (!display || display === 'none') {{\n",
       "            console.log([gd, 'removed!']);\n",
       "            Plotly.purge(gd);\n",
       "            observer.disconnect();\n",
       "        }}\n",
       "}});\n",
       "\n",
       "// Listen for the removal of the full notebook cells\n",
       "var notebookContainer = gd.closest('#notebook-container');\n",
       "if (notebookContainer) {{\n",
       "    x.observe(notebookContainer, {childList: true});\n",
       "}}\n",
       "\n",
       "// Listen for the clearing of the current output cell\n",
       "var outputEl = gd.closest('.output');\n",
       "if (outputEl) {{\n",
       "    x.observe(outputEl, {childList: true});\n",
       "}}\n",
       "\n",
       "                        })                };                });            </script>        </div>"
      ]
     },
     "metadata": {},
     "output_type": "display_data"
    },
    {
     "data": {
      "text/plain": [
       "<Figure size 640x480 with 0 Axes>"
      ]
     },
     "metadata": {},
     "output_type": "display_data"
    }
   ],
   "source": [
    "# Groupping by Property_Area and Loan_Status\n",
    "property_area_impact = Loan_Dataset.groupby(['Property_Area', 'Loan_Status']).size().unstack()\n",
    "\n",
    "# Calculating the percentage of approvals for each property area\n",
    "property_area_impact['Approval_Rate'] = (property_area_impact['Approved'] / (property_area_impact['Approved'] + property_area_impact['Rejected'])) * 100\n",
    "\n",
    "# Calculating the percentage of total loans for each property area\n",
    "property_area_impact['Total_Percentage'] = ((property_area_impact['Approved'] + property_area_impact['Rejected']) / (property_area_impact['Approved'].sum() + property_area_impact['Rejected'].sum())) * 100\n",
    "\n",
    "# Rounding to one decimal point and add percentage sign\n",
    "property_area_impact['Approval_Rate'] = property_area_impact['Approval_Rate'].round(1).astype(str) + '%'\n",
    "property_area_impact['Total_Percentage'] = property_area_impact['Total_Percentage'].round(1).astype(str) + '%'\n",
    "\n",
    "# Melting the DataFrame for Plotly\n",
    "property_area_melted = property_area_impact.reset_index().melt(id_vars=['Property_Area'], value_vars=['Approved', 'Rejected'], \n",
    "                                                              var_name='Loan_Status', value_name='Count')\n",
    "\n",
    "# Creating a grouped bar chart\n",
    "fig = px.bar(property_area_melted, x='Property_Area', y='Count', color='Loan_Status', \n",
    "             barmode='group', text='Count',\n",
    "             title='Loan Approval and Rejection by Property Area',\n",
    "             labels={'Property_Area': 'Property Area', 'Count': 'Number of Loans'},\n",
    "             color_discrete_sequence=['#66b3ff', '#ff9999'])  \n",
    "\n",
    "# Updating layout for better styling\n",
    "fig.update_traces(textposition='outside') \n",
    "\n",
    "# Adding approval rate and total percentage as annotations\n",
    "for i, row in property_area_impact.iterrows():\n",
    "    fig.add_annotation(\n",
    "        x=i,  \n",
    "        y=row['Approved'] + row['Rejected'] + 10,  \n",
    "        text=f\"Approval Rate: {row['Approval_Rate']}<br>Total: {row['Total_Percentage']}\",\n",
    "        showarrow=False,\n",
    "        font=dict(size=12, color='black'),\n",
    "        xanchor='center', \n",
    "    )\n",
    "\n",
    "# Update layout for better styling\n",
    "fig.update_layout(\n",
    "    font_size=14,\n",
    "    title_font_size=18,\n",
    "    title_x=0.5,  # Center the title\n",
    "    xaxis_title='Property Area',\n",
    "    yaxis_title='Number of Loans',\n",
    "    legend_title='Loan Status',\n",
    "    hovermode='x unified', \n",
    ")\n",
    "plt.savefig('Loan Approval and Rejection by Property Area.png')\n",
    "fig.show()"
   ]
  },
  {
   "cell_type": "code",
   "execution_count": 162,
   "id": "16b46f8c-2520-417e-9c38-5bd50fb23524",
   "metadata": {},
   "outputs": [
    {
     "data": {
      "text/plain": [
       "<Figure size 1000x600 with 0 Axes>"
      ]
     },
     "metadata": {},
     "output_type": "display_data"
    },
    {
     "data": {
      "image/png": "[encoded data removed]",
      "text/plain": [
       "<Figure size 1000x600 with 1 Axes>"
      ]
     },
     "metadata": {},
     "output_type": "display_data"
    }
   ],
   "source": [
    "# Groupping by Property_Area and Loan_Status\n",
    "property_area_impact = Loan_Dataset.groupby(['Property_Area', 'Loan_Status']).size().unstack()\n",
    "\n",
    "property_area_impact['Approval_Rate'] = (property_area_impact['Approved'] / (property_area_impact['Approved'] + property_area_impact['Rejected'])) * 100\n",
    "\n",
    "property_area_impact['Total_Percentage'] = ((property_area_impact['Approved'] + property_area_impact['Rejected']) / (property_area_impact['Approved'].sum() + property_area_impact['Rejected'].sum())) * 100\n",
    "\n",
    "property_area_impact['Approval_Rate'] = property_area_impact['Approval_Rate'].round(1).astype(str) + '%'\n",
    "property_area_impact['Total_Percentage'] = property_area_impact['Total_Percentage'].round(1).astype(str) + '%'\n",
    "\n",
    "plt.figure(figsize=(10, 6))\n",
    "property_area_impact[['Approved', 'Rejected']].plot(kind='bar', stacked=True, color=['#66b3ff', '#ff9999'], figsize=(10, 6))\n",
    "\n",
    "plt.title('Loan Approval and Rejection by Property Area', fontsize=18, fontweight='bold', pad=20)\n",
    "plt.xlabel('Property Area', fontsize=14)\n",
    "plt.ylabel('Number of Loans', fontsize=14)\n",
    "\n",
    "for i, (approved, rejected) in enumerate(zip(property_area_impact['Approved'], property_area_impact['Rejected'])):\n",
    "    total = approved + rejected\n",
    "    plt.text(i, total + 5, f'{property_area_impact[\"Approval_Rate\"][i]}', ha='center', fontsize=12, fontweight='bold')\n",
    "\n",
    "# Customizing the plot\n",
    "plt.xticks(rotation=0, fontsize=12)\n",
    "plt.yticks(fontsize=12)\n",
    "plt.legend(fontsize=12)\n",
    "sns.despine(left=True) \n",
    "plt.tight_layout()\n",
    "plt.savefig('Loan Approval and Rejection by Property Area_2.png')\n",
    "plt.show()"
   ]
  },
  {
   "cell_type": "markdown",
   "id": "c43bcc46-9172-4a82-8876-6e6524d0eaa1",
   "metadata": {},
   "source": [
    "# Feature Engineering"
   ]
  },
  {
   "cell_type": "code",
   "execution_count": 163,
   "id": "5a7c8cc0-b801-4039-9360-7012ced99eee",
   "metadata": {},
   "outputs": [
    {
     "name": "stdout",
     "output_type": "stream",
     "text": [
      "Index(['Loan_ID', 'Gender', 'Married', 'Dependents', 'Graduate',\n",
      "       'Self_Employed', 'ApplicantIncome', 'CoapplicantIncome', 'LoanAmount',\n",
      "       'Loan_Amount_Term', 'Credit_History', 'Property_Area', 'Loan_Status',\n",
      "       'Income_Bins'],\n",
      "      dtype='object')\n"
     ]
    }
   ],
   "source": [
    "print(Loan_Dataset.columns)"
   ]
  },
  {
   "cell_type": "code",
   "execution_count": 164,
   "id": "adb525c3-16bb-42a1-be7b-16aaa9f3b2f8",
   "metadata": {},
   "outputs": [],
   "source": [
    "Loan_Dataset.drop(columns=['Income_Bins'], inplace=True)"
   ]
  },
  {
   "cell_type": "code",
   "execution_count": 165,
   "id": "ce81ce42-16c1-4f33-9f75-ad331b1baffb",
   "metadata": {},
   "outputs": [
    {
     "name": "stdout",
     "output_type": "stream",
     "text": [
      "['Approved', 'Rejected']\n",
      "Categories (2, object): ['Rejected', 'Approved']\n"
     ]
    }
   ],
   "source": [
    "print(Loan_Dataset[\"Loan_Status\"].unique())"
   ]
  },
  {
   "cell_type": "code",
   "execution_count": 166,
   "id": "3415b591-b330-48f3-a2f6-7a2ae026d1c4",
   "metadata": {},
   "outputs": [
    {
     "name": "stdout",
     "output_type": "stream",
     "text": [
      "Training set shape: (517, 15)\n",
      "Testing set shape: (130, 15)\n",
      "Unique values in y_train: [1, 0]\n",
      "Categories (2, int64): [0, 1]\n",
      "Unique values in y_test: [1, 0]\n",
      "Categories (2, int64): [0, 1]\n"
     ]
    }
   ],
   "source": [
    "# Create Debt-to-Income Ratio\n",
    "Loan_Dataset['Debt_to_Income_Ratio'] = Loan_Dataset['LoanAmount'] / Loan_Dataset['ApplicantIncome']\n",
    "\n",
    "# One-hot encode categorical variables\n",
    "Loan_Dataset = pd.get_dummies(Loan_Dataset, columns=['Gender', 'Married', 'Dependents', 'Graduate', 'Self_Employed', 'Credit_History', 'Property_Area'], drop_first=True)\n",
    "\n",
    "# Drop unnecessary columns (e.g., Loan_ID)\n",
    "Loan_Dataset.drop(columns=['Loan_ID'], inplace=True)\n",
    "\n",
    "# Handle missing values separately for numerical and categorical columns\n",
    "# Fill numerical columns with median\n",
    "numerical_cols = Loan_Dataset.select_dtypes(include=['int64', 'float64']).columns\n",
    "Loan_Dataset[numerical_cols] = Loan_Dataset[numerical_cols].fillna(Loan_Dataset[numerical_cols].median())\n",
    "\n",
    "# Fill categorical columns with mode (most frequent value)\n",
    "categorical_cols = Loan_Dataset.select_dtypes(include=['object', 'category']).columns\n",
    "Loan_Dataset[categorical_cols] = Loan_Dataset[categorical_cols].fillna(Loan_Dataset[categorical_cols].mode().iloc[0])\n",
    "\n",
    "# Split into features (X) and target (y)\n",
    "X = Loan_Dataset.drop(columns=['Loan_Status'])  # Features\n",
    "y = Loan_Dataset['Loan_Status'].map({'Approved': 1, 'Rejected': 0})  # Target\n",
    "\n",
    "# Split into training and testing sets\n",
    "X_train, X_test, y_train, y_test = train_test_split(X, y, test_size=0.2, random_state=42)\n",
    "\n",
    "print(\"Training set shape:\", X_train.shape)\n",
    "print(\"Testing set shape:\", X_test.shape)\n",
    "\n",
    "# Verify that the target variable has no NaN values\n",
    "print(\"Unique values in y_train:\", y_train.unique())\n",
    "print(\"Unique values in y_test:\", y_test.unique())"
   ]
  },
  {
   "cell_type": "markdown",
   "id": "00ff675f-8e39-445d-b92b-4f57ac86c952",
   "metadata": {},
   "source": [
    "# Data Processing"
   ]
  },
  {
   "cell_type": "code",
   "execution_count": 167,
   "id": "3cd9c068-bb11-409d-beae-7e2318921c16",
   "metadata": {},
   "outputs": [
    {
     "name": "stdout",
     "output_type": "stream",
     "text": [
      "ApplicantIncome               int64\n",
      "CoapplicantIncome             int64\n",
      "LoanAmount                    int64\n",
      "Loan_Amount_Term              int64\n",
      "Loan_Status                category\n",
      "Debt_to_Income_Ratio        float64\n",
      "Gender_Male                    bool\n",
      "Married_Single                 bool\n",
      "Dependents_1                   bool\n",
      "Dependents_2                   bool\n",
      "Dependents_3+                  bool\n",
      "Graduate_Not Graduate          bool\n",
      "Self_Employed_Yes              bool\n",
      "Credit_History_Yes             bool\n",
      "Property_Area_Semiurban        bool\n",
      "Property_Area_Urban            bool\n",
      "dtype: object\n"
     ]
    }
   ],
   "source": [
    "print(Loan_Dataset.dtypes)"
   ]
  },
  {
   "cell_type": "code",
   "execution_count": 168,
   "id": "c9689ba4-4053-4e19-8117-08c34b7edacd",
   "metadata": {},
   "outputs": [
    {
     "name": "stdout",
     "output_type": "stream",
     "text": [
      "[ True False]\n"
     ]
    }
   ],
   "source": [
    "print(Loan_Dataset[\"Property_Area_Urban\"].unique())"
   ]
  },
  {
   "cell_type": "markdown",
   "id": "30c92442-5d33-4750-bbb0-d4f8cbbc4074",
   "metadata": {},
   "source": [
    "# Model Building"
   ]
  },
  {
   "cell_type": "code",
   "execution_count": 169,
   "id": "c76dde99-7b0e-44ea-97c7-12fa2d8f26aa",
   "metadata": {},
   "outputs": [
    {
     "name": "stdout",
     "output_type": "stream",
     "text": [
      "Training Logistic Regression...\n",
      "Accuracy of Logistic Regression: 0.7692\n",
      "              precision    recall  f1-score   support\n",
      "\n",
      "           0       0.84      0.45      0.58        47\n",
      "           1       0.75      0.95      0.84        83\n",
      "\n",
      "    accuracy                           0.77       130\n",
      "   macro avg       0.80      0.70      0.71       130\n",
      "weighted avg       0.78      0.77      0.75       130\n",
      "\n",
      "[[21 26]\n",
      " [ 4 79]]\n",
      "\n",
      "\n",
      "Training Random Forest...\n",
      "Accuracy of Random Forest: 0.7077\n",
      "              precision    recall  f1-score   support\n",
      "\n",
      "           0       0.70      0.34      0.46        47\n",
      "           1       0.71      0.92      0.80        83\n",
      "\n",
      "    accuracy                           0.71       130\n",
      "   macro avg       0.70      0.63      0.63       130\n",
      "weighted avg       0.70      0.71      0.68       130\n",
      "\n",
      "[[16 31]\n",
      " [ 7 76]]\n",
      "\n",
      "\n",
      "Training XGBoost...\n",
      "Accuracy of XGBoost: 0.7000\n",
      "              precision    recall  f1-score   support\n",
      "\n",
      "           0       0.62      0.45      0.52        47\n",
      "           1       0.73      0.84      0.78        83\n",
      "\n",
      "    accuracy                           0.70       130\n",
      "   macro avg       0.67      0.65      0.65       130\n",
      "weighted avg       0.69      0.70      0.69       130\n",
      "\n",
      "[[21 26]\n",
      " [13 70]]\n",
      "\n",
      "\n"
     ]
    }
   ],
   "source": [
    "# Scale the data for Logistic Regression\n",
    "scaler = StandardScaler()\n",
    "X_train_scaled = scaler.fit_transform(X_train)\n",
    "X_test_scaled = scaler.transform(X_test)\n",
    "\n",
    "# Initialize models\n",
    "log_reg = LogisticRegression(random_state=42, max_iter=1000)  # Increased max_iter\n",
    "rf = RandomForestClassifier(random_state=42)\n",
    "xgb = XGBClassifier(random_state=42)\n",
    "\n",
    "# Train and evaluate models\n",
    "models = {'Logistic Regression': log_reg, 'Random Forest': rf, 'XGBoost': xgb}\n",
    "\n",
    "for name, model in models.items():\n",
    "    print(f\"Training {name}...\")\n",
    "    if name == 'Logistic Regression':\n",
    "        model.fit(X_train_scaled, y_train)  # Use scaled data for Logistic Regression\n",
    "        y_pred = model.predict(X_test_scaled)\n",
    "    else:\n",
    "        model.fit(X_train, y_train)  # Use unscaled data for other models\n",
    "        y_pred = model.predict(X_test)\n",
    "    print(f\"Accuracy of {name}: {accuracy_score(y_test, y_pred):.4f}\")\n",
    "    print(classification_report(y_test, y_pred))\n",
    "    print(confusion_matrix(y_test, y_pred))\n",
    "    print(\"\\n\")"
   ]
  },
  {
   "cell_type": "markdown",
   "id": "f75f5fe7-bb7f-4562-b4f4-743ed0fa074c",
   "metadata": {},
   "source": [
    "# Confusion Matrix Visualizations"
   ]
  },
  {
   "cell_type": "code",
   "execution_count": 174,
   "id": "6d555e03-7c9b-43bf-be10-55e9fd76307b",
   "metadata": {},
   "outputs": [
    {
     "name": "stdout",
     "output_type": "stream",
     "text": [
      "Training Logistic Regression...\n",
      "Accuracy of Logistic Regression: 0.7692\n",
      "              precision    recall  f1-score   support\n",
      "\n",
      "           0       0.84      0.45      0.58        47\n",
      "           1       0.75      0.95      0.84        83\n",
      "\n",
      "    accuracy                           0.77       130\n",
      "   macro avg       0.80      0.70      0.71       130\n",
      "weighted avg       0.78      0.77      0.75       130\n",
      "\n"
     ]
    },
    {
     "ename": "TypeError",
     "evalue": "plot_confusion_matrix() got an unexpected keyword argument 'filename'",
     "output_type": "error",
     "traceback": [
      "\u001b[1;31m---------------------------------------------------------------------------\u001b[0m",
      "\u001b[1;31mTypeError\u001b[0m                                 Traceback (most recent call last)",
      "Cell \u001b[1;32mIn[174], line 23\u001b[0m\n\u001b[0;32m     20\u001b[0m \u001b[38;5;28mprint\u001b[39m(\u001b[38;5;124mf\u001b[39m\u001b[38;5;124m\"\u001b[39m\u001b[38;5;124mAccuracy of \u001b[39m\u001b[38;5;132;01m{\u001b[39;00mname\u001b[38;5;132;01m}\u001b[39;00m\u001b[38;5;124m: \u001b[39m\u001b[38;5;132;01m{\u001b[39;00maccuracy_score(y_test,\u001b[38;5;250m \u001b[39my_pred)\u001b[38;5;132;01m:\u001b[39;00m\u001b[38;5;124m.4f\u001b[39m\u001b[38;5;132;01m}\u001b[39;00m\u001b[38;5;124m\"\u001b[39m)\n\u001b[0;32m     21\u001b[0m \u001b[38;5;28mprint\u001b[39m(classification_report(y_test, y_pred))\n\u001b[1;32m---> 23\u001b[0m plot_confusion_matrix(y_test, y_pred, title\u001b[38;5;241m=\u001b[39m\u001b[38;5;124mf\u001b[39m\u001b[38;5;124m'\u001b[39m\u001b[38;5;124mConfusion Matrix - \u001b[39m\u001b[38;5;132;01m{\u001b[39;00mname\u001b[38;5;132;01m}\u001b[39;00m\u001b[38;5;124m'\u001b[39m, filename\u001b[38;5;241m=\u001b[39m\u001b[38;5;124mf\u001b[39m\u001b[38;5;124m'\u001b[39m\u001b[38;5;124mconfusion_matrix_\u001b[39m\u001b[38;5;132;01m{\u001b[39;00mname\u001b[38;5;132;01m}\u001b[39;00m\u001b[38;5;124m.png\u001b[39m\u001b[38;5;124m'\u001b[39m)\n",
      "\u001b[1;31mTypeError\u001b[0m: plot_confusion_matrix() got an unexpected keyword argument 'filename'"
     ]
    }
   ],
   "source": [
    "from sklearn.metrics import confusion_matrix\n",
    "\n",
    "def plot_confusion_matrix(y_true, y_pred, title):\n",
    "    cm = confusion_matrix(y_true, y_pred)\n",
    "    sns.heatmap(cm, annot=True, fmt='d', cmap='Blues', cbar=False)\n",
    "    plt.title(title)\n",
    "    plt.xlabel('Predicted')\n",
    "    plt.ylabel('Actual')\n",
    "    plt.show()\n",
    "\n",
    "for name, model in models.items():\n",
    "    print(f\"Training {name}...\")\n",
    "    if name == 'Logistic Regression':\n",
    "        model.fit(X_train_scaled, y_train)\n",
    "        y_pred = model.predict(X_test_scaled)\n",
    "    else:\n",
    "        model.fit(X_train, y_train)\n",
    "        y_pred = model.predict(X_test)\n",
    "    \n",
    "    print(f\"Accuracy of {name}: {accuracy_score(y_test, y_pred):.4f}\")\n",
    "    print(classification_report(y_test, y_pred))\n",
    "    \n",
    "    plot_confusion_matrix(y_test, y_pred, title=f'Confusion Matrix - {name}', filename=f'confusion_matrix_{name}.png')"
   ]
  },
  {
   "cell_type": "markdown",
   "id": "6f471648-b393-4275-9f08-fbdf1051676b",
   "metadata": {},
   "source": [
    "# Feature Importance"
   ]
  },
  {
   "cell_type": "code",
   "execution_count": 172,
   "id": "a2d6f498-b103-4b1b-91b2-a0a58248ce76",
   "metadata": {},
   "outputs": [
    {
     "data": {
      "image/png": "[encoded data removed]",
      "text/plain": [
       "<Figure size 1000x600 with 1 Axes>"
      ]
     },
     "metadata": {},
     "output_type": "display_data"
    }
   ],
   "source": [
    "# Feature importance for Random Forest\n",
    "rf.fit(X_train, y_train)\n",
    "importances = rf.feature_importances_\n",
    "feature_names = X.columns\n",
    "\n",
    "# Plotting feature importance\n",
    "plt.figure(figsize=(10, 6))\n",
    "plt.barh(feature_names, importances)\n",
    "plt.xlabel(\"Feature Importance\")\n",
    "plt.ylabel(\"Feature Name\")\n",
    "plt.title(\"Random Forest Feature Importance\")\n",
    "plt.show()"
   ]
  },
  {
   "cell_type": "markdown",
   "id": "bb29e457-4fa9-4419-b36a-727864478f4b",
   "metadata": {},
   "source": [
    "# Saving the best Model"
   ]
  },
  {
   "cell_type": "code",
   "execution_count": 173,
   "id": "9b005e46-f6de-43f0-9d2c-1bdf939645d4",
   "metadata": {},
   "outputs": [
    {
     "data": {
      "text/plain": [
       "['best_loan_approval_model.pkl']"
      ]
     },
     "execution_count": 173,
     "metadata": {},
     "output_type": "execute_result"
    }
   ],
   "source": [
    "import joblib\n",
    "\n",
    "# Saving the best model (e.g., XGBoost)\n",
    "joblib.dump(xgb, 'best_loan_approval_model.pkl')"
   ]
  },
  {
   "cell_type": "code",
   "execution_count": null,
   "id": "98103bd6-1379-48ea-a563-c3cd4d342357",
   "metadata": {},
   "outputs": [],
   "source": []
  }
 ],
 "metadata": {
  "kernelspec": {
   "display_name": "Python 3 (ipykernel)",
   "language": "python",
   "name": "python3"
  },
  "language_info": {
   "codemirror_mode": {
    "name": "ipython",
    "version": 3
   },
   "file_extension": ".py",
   "mimetype": "text/x-python",
   "name": "python",
   "nbconvert_exporter": "python",
   "pygments_lexer": "ipython3",
   "version": "3.11.7"
  }
 },
 "nbformat": 4,
 "nbformat_minor": 5
}
